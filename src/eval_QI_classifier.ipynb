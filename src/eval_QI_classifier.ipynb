{
 "cells": [
  {
   "cell_type": "markdown",
   "id": "36beff46-c0d3-41bc-a027-b84b9b2c2c41",
   "metadata": {},
   "source": [
    "# Evaluate Queryable Input Classifier\n",
    "This function evaluates the trained queryable input classifier by calculating precision and recall scores."
   ]
  }
 ],
 "metadata": {
  "kernelspec": {
   "display_name": "Python 3 (ipykernel)",
   "language": "python",
   "name": "python3"
  },
  "language_info": {
   "codemirror_mode": {
    "name": "ipython",
    "version": 3
   },
   "file_extension": ".py",
   "mimetype": "text/x-python",
   "name": "python",
   "nbconvert_exporter": "python",
   "pygments_lexer": "ipython3",
   "version": "3.10.12"
  }
 },
 "nbformat": 4,
 "nbformat_minor": 5
}
