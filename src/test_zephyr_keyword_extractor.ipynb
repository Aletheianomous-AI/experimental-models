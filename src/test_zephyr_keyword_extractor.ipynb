{
 "cells": [
  {
   "cell_type": "code",
   "execution_count": 1,
   "id": "258a740c-5862-4585-b6dc-add945e55675",
   "metadata": {},
   "outputs": [],
   "source": [
    "from datetime import datetime as dt\n",
    "from transformers import pipeline\n",
    "\n",
    "import gc\n",
    "import torch"
   ]
  },
  {
   "cell_type": "code",
   "execution_count": 2,
   "id": "4ac3ea2f-bd31-4f96-862d-dbcb74890ce0",
   "metadata": {},
   "outputs": [
    {
     "data": {
      "application/vnd.jupyter.widget-view+json": {
       "model_id": "991af1faa5a34006ad2678ce812aa1e8",
       "version_major": 2,
       "version_minor": 0
      },
      "text/plain": [
       "Loading checkpoint shards:   0%|          | 0/8 [00:00<?, ?it/s]"
      ]
     },
     "metadata": {},
     "output_type": "display_data"
    }
   ],
   "source": [
    "zephyr = pipeline(\"text-generation\", model=\"HuggingFaceH4/zephyr-7b-alpha\",\n",
    "                 torch_dtype = torch.bfloat16, device_map=\"auto\")"
   ]
  },
  {
   "cell_type": "code",
   "execution_count": 3,
   "id": "8031a7cd-111f-4a76-9fb6-fdc0b733111a",
   "metadata": {},
   "outputs": [
    {
     "name": "stdout",
     "output_type": "stream",
     "text": [
      "<|system|>\n",
      "You are a chatbot that assists in providing information to the user. Please generate a keyword from the user's question.</s>\n",
      "<|user|>\n",
      "When was the movie Five Nights at Freddy's released?</s>\n",
      "<|assistant|>\n",
      "\n"
     ]
    }
   ],
   "source": [
    "msg = [{\"role\": \"system\", \"content\": \"You are a chatbot that assists in providing information to the user. Please generate a keyword from the user's question.\"},\n",
    "        {\"role\": \"user\", \"content\": \"When was the movie Five Nights at Freddy's released?\"}]\n",
    "\n",
    "prompt = zephyr.tokenizer.apply_chat_template(msg, tokenize=False, add_generation_prompt=True)\n",
    "print(prompt)\n",
    "raw_output = zephyr(prompt, max_new_tokens=256, do_sample=True, temperature=0.7, top_k=50, top_p=0.95)\n",
    "model_output = raw_output[0]\n",
    "model_output = model_output['generated_text']\n",
    "model_output = model_output.split(\"<|assistant|>\\n\")\n",
    "final_output = model_output[1]"
   ]
  },
  {
   "cell_type": "code",
   "execution_count": 4,
   "id": "bb9652c7-37b1-4413-9393-b1ba5262cff2",
   "metadata": {},
   "outputs": [
    {
     "data": {
      "text/plain": [
       "'Keyword: \"Five Nights at Freddy\\'s\"'"
      ]
     },
     "execution_count": 4,
     "metadata": {},
     "output_type": "execute_result"
    }
   ],
   "source": [
    "final_output"
   ]
  },
  {
   "cell_type": "code",
   "execution_count": 7,
   "id": "b85f9691-a739-4c79-8bd2-93e4584158ea",
   "metadata": {},
   "outputs": [
    {
     "data": {
      "text/plain": [
       "'<|system|>\\nYou are a chatbot that assists in providing information to the user. Please generate a keyword from the user\\'s question.</s>\\n<|user|>\\nWhen was the movie Five Nights at Freddy\\'s released?</s>\\n<|assistant|>\\nKeyword: \"Five Nights at Freddy\\'s\"'"
      ]
     },
     "execution_count": 7,
     "metadata": {},
     "output_type": "execute_result"
    }
   ],
   "source": [
    "raw_output[0]['generated_text']"
   ]
  },
  {
   "cell_type": "code",
   "execution_count": null,
   "id": "6a29c808-13b6-4012-a62d-be7117ec7d93",
   "metadata": {},
   "outputs": [],
   "source": []
  }
 ],
 "metadata": {
  "kernelspec": {
   "display_name": "experimental-env",
   "language": "python",
   "name": "experimental-env"
  },
  "language_info": {
   "codemirror_mode": {
    "name": "ipython",
    "version": 3
   },
   "file_extension": ".py",
   "mimetype": "text/x-python",
   "name": "python",
   "nbconvert_exporter": "python",
   "pygments_lexer": "ipython3",
   "version": "3.10.12"
  }
 },
 "nbformat": 4,
 "nbformat_minor": 5
}
