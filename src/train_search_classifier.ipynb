{
 "cells": [
  {
   "cell_type": "code",
   "execution_count": 1,
   "id": "41d160cc-3a3d-4efd-b7c2-c3d15475fbfc",
   "metadata": {},
   "outputs": [
    {
     "name": "stderr",
     "output_type": "stream",
     "text": [
      "/home/sp15-chatbot/Documents/experimental-models/.env/lib/python3.10/site-packages/tqdm/auto.py:21: TqdmWarning: IProgress not found. Please update jupyter and ipywidgets. See https://ipywidgets.readthedocs.io/en/stable/user_install.html\n",
      "  from .autonotebook import tqdm as notebook_tqdm\n"
     ]
    }
   ],
   "source": [
    "from transformers import pipeline\n",
    "\n",
    "import const\n",
    "import gc\n",
    "import os\n",
    "import re\n",
    "import sys\n",
    "import torch\n",
    "import yake"
   ]
  },
  {
   "cell_type": "code",
   "execution_count": null,
   "id": "b4a80b53-f8bb-4a9d-8113-44b964096e47",
   "metadata": {},
   "outputs": [],
   "source": [
    "SQUAD_DS_PATH: str = const.DATASETS_FOLDER + \"squad_ds.json\""
   ]
  },
  {
   "cell_type": "code",
   "execution_count": null,
   "id": "f8f74599-1d31-4387-819d-9ffe27efc439",
   "metadata": {},
   "outputs": [],
   "source": [
    "# Load CSV file."
   ]
  }
 ],
 "metadata": {
  "kernelspec": {
   "display_name": "experimental-env",
   "language": "python",
   "name": "experimental-env"
  },
  "language_info": {
   "codemirror_mode": {
    "name": "ipython",
    "version": 3
   },
   "file_extension": ".py",
   "mimetype": "text/x-python",
   "name": "python",
   "nbconvert_exporter": "python",
   "pygments_lexer": "ipython3",
   "version": "3.10.12"
  }
 },
 "nbformat": 4,
 "nbformat_minor": 5
}
