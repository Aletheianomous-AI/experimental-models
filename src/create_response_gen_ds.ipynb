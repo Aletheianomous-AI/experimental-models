{
 "cells": [
  {
   "cell_type": "markdown",
   "metadata": {},
   "source": [
    "# Create Response Generator Dataset\n",
    "This notebook creates the dataset for re-training the response generator model.\n",
    "\n",
    "## Pre-requisites\n",
    "A CSV file must be created that contains fields including input, search results, and output."
   ]
  },
  {
   "cell_type": "code",
   "execution_count": null,
   "metadata": {},
   "outputs": [],
   "source": [
    "from citation_fetcher import Citation_Fetcher as cf\n",
    "from query_parser import QueryParser as QP\n",
    "import const\n",
    "import numpy as np\n",
    "import pandas as pd"
   ]
  },
  {
   "cell_type": "code",
   "execution_count": null,
   "metadata": {},
   "outputs": [],
   "source": [
    "RESPONSE_GEN_DS_PATH: str =  const.DATASETS_FOLDER + \"response_gen_ground_truth.csv\"\n",
    "SQUAD_DS_PATH: str = const.DATASETS_FOLDER + \"squad_ds_keyword_ground_truth.csv\"\n",
    "ULTRACHAT_LITE_PATH: str = const.DATASETS_FOLDER + \"ultrachat_50k.csv\"\n",
    "REDDIT_DS_PATH: str = const.DATASETS_FOLDER + \"reddit_ds.csv\""
   ]
  },
  {
   "cell_type": "code",
   "execution_count": null,
   "metadata": {},
   "outputs": [],
   "source": [
    "squad_ds: pd.DataFrame = pd.read_csv(SQUAD_DS_PATH)\n",
    "squad_len = len(squad_ds)"
   ]
  },
  {
   "cell_type": "code",
   "execution_count": null,
   "metadata": {},
   "outputs": [],
   "source": [
    "ultrachat_ds: pd.DataFrame = pd.read_csv(ULTRACHAT_LITE_PATH)\n",
    "ultrachat_len = len(squad_ds)"
   ]
  },
  {
   "cell_type": "code",
   "execution_count": null,
   "metadata": {},
   "outputs": [],
   "source": [
    "reddit_ds: pd.DataFrame = pd.read_csv(REDDIT_DS_PATH)"
   ]
  },
  {
   "cell_type": "code",
   "execution_count": null,
   "metadata": {},
   "outputs": [],
   "source": [
    "rg_ds = squad_ds['question']"
   ]
  },
  {
   "cell_type": "code",
   "execution_count": null,
   "metadata": {},
   "outputs": [],
   "source": [
    "rg_ds = pd.DataFrame(data={'input': rg_ds, 'query': None, 'search_result': None, 'output': None})"
   ]
  },
  {
   "cell_type": "code",
   "execution_count": null,
   "metadata": {},
   "outputs": [],
   "source": [
    "rg_ds.head()"
   ]
  },
  {
   "cell_type": "code",
   "execution_count": null,
   "metadata": {},
   "outputs": [],
   "source": [
    "ultrachat_ds.head()"
   ]
  },
  {
   "cell_type": "code",
   "execution_count": null,
   "metadata": {},
   "outputs": [],
   "source": [
    "ultrachat_ds = ultrachat_ds.rename(columns={'question': 'input'})"
   ]
  },
  {
   "cell_type": "code",
   "execution_count": null,
   "metadata": {},
   "outputs": [],
   "source": [
    "rg_ds  = pd.concat([rg_ds, ultrachat_ds['input']], ignore_index=True)"
   ]
  },
  {
   "cell_type": "code",
   "execution_count": null,
   "metadata": {},
   "outputs": [],
   "source": [
    "i = 0\n",
    "qp = QP(const.MODELS_FOLDER + \"aletheianomous_ai-keyword_extractor-v0.3.1/\")\n",
    "for j in range(len(rg_ds)):\n",
    "    print(\"Populating Search Result \", (int((i/len(rg_ds))*100)),\"% (Sample \", (i+1), \"/\", len(rg_ds) , \")\", \n",
    "                end=\"                   \\r\")\n",
    "    user_input = rg_ds.loc[j, \"input\"]\n",
    "    query = qp.gen_query(user_input)\n",
    "    json_out, result = cf.search_online(query)\n",
    "    rg_ds[j, \"search_result\"] = result\n",
    "    i+=1"
   ]
  },
  {
   "cell_type": "code",
   "execution_count": null,
   "metadata": {},
   "outputs": [],
   "source": [
    "reddit_ds.head()"
   ]
  },
  {
   "cell_type": "code",
   "execution_count": null,
   "metadata": {},
   "outputs": [],
   "source": [
    "reddit_ds = reddit_ds.rename(columns={\"0\": \"input\"})"
   ]
  },
  {
   "cell_type": "code",
   "execution_count": null,
   "metadata": {},
   "outputs": [],
   "source": [
    "rg_ds = pd.concat([rg_ds, reddit_ds['input']], ignore_index=True)"
   ]
  },
  {
   "cell_type": "code",
   "execution_count": null,
   "metadata": {},
   "outputs": [],
   "source": [
    "rg_ds.to_csv(RESPONSE_GEN_DS_PATH)"
   ]
  }
 ],
 "metadata": {
  "kernelspec": {
   "display_name": "Python 3 (ipykernel)",
   "language": "python",
   "name": "python3"
  },
  "language_info": {
   "codemirror_mode": {
    "name": "ipython",
    "version": 3
   },
   "file_extension": ".py",
   "mimetype": "text/x-python",
   "name": "python",
   "nbconvert_exporter": "python",
   "pygments_lexer": "ipython3",
   "version": "3.11.6"
  }
 },
 "nbformat": 4,
 "nbformat_minor": 2
}
