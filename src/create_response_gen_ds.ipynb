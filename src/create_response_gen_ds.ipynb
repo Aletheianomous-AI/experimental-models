{
 "cells": [
  {
   "cell_type": "markdown",
   "metadata": {},
   "source": [
    "# Create Response Generator Dataset\n",
    "This notebook creates the dataset for re-training the response generator model.\n",
    "\n",
    "## Pre-requisites\n",
    "A CSV file must be created that contains fields including input, search results, and output."
   ]
  },
  {
   "cell_type": "code",
   "execution_count": 1,
   "metadata": {},
   "outputs": [],
   "source": [
    "from citation_fetcher import Citation_Fetcher as cf\n",
    "from datetime import datetime as dt\n",
    "from query_parser import QueryParser as QP\n",
    "import const\n",
    "import numpy as np\n",
    "import pandas as pd"
   ]
  },
  {
   "cell_type": "code",
   "execution_count": 2,
   "metadata": {},
   "outputs": [],
   "source": [
    "RESPONSE_GEN_DS_PATH: str =  const.DATASETS_FOLDER + \"response_gen_ground_truth.csv\"\n",
    "SQUAD_DS_PATH: str = const.DATASETS_FOLDER + \"squad_ds_keyword_ground_truth.csv\"\n",
    "ULTRACHAT_LITE_PATH: str = const.DATASETS_FOLDER + \"ultrachat_50k.csv\"\n",
    "REDDIT_DS_PATH: str = const.DATASETS_FOLDER + \"reddit_ds.csv\""
   ]
  },
  {
   "cell_type": "code",
   "execution_count": 3,
   "metadata": {},
   "outputs": [
    {
     "name": "stderr",
     "output_type": "stream",
     "text": [
      "/tmp/ipykernel_549111/1211425012.py:1: DtypeWarning: Columns (17,18,19,20,21,22,23) have mixed types. Specify dtype option on import or set low_memory=False.\n",
      "  squad_ds: pd.DataFrame = pd.read_csv(SQUAD_DS_PATH)\n"
     ]
    }
   ],
   "source": [
    "squad_ds: pd.DataFrame = pd.read_csv(SQUAD_DS_PATH)\n",
    "squad_len = len(squad_ds)"
   ]
  },
  {
   "cell_type": "code",
   "execution_count": 4,
   "metadata": {},
   "outputs": [],
   "source": [
    "ultrachat_ds: pd.DataFrame = pd.read_csv(ULTRACHAT_LITE_PATH)\n",
    "ultrachat_len = len(squad_ds)"
   ]
  },
  {
   "cell_type": "code",
   "execution_count": 5,
   "metadata": {},
   "outputs": [],
   "source": [
    "reddit_ds: pd.DataFrame = pd.read_csv(REDDIT_DS_PATH)"
   ]
  },
  {
   "cell_type": "code",
   "execution_count": 6,
   "metadata": {},
   "outputs": [],
   "source": [
    "rg_ds = squad_ds['question']"
   ]
  },
  {
   "cell_type": "code",
   "execution_count": 7,
   "metadata": {},
   "outputs": [],
   "source": [
    "rg_ds = pd.DataFrame(data={'input': rg_ds, 'query': None, 'search_result': None, 'output': None})"
   ]
  },
  {
   "cell_type": "code",
   "execution_count": 8,
   "metadata": {},
   "outputs": [
    {
     "data": {
      "text/html": [
       "<div>\n",
       "<style scoped>\n",
       "    .dataframe tbody tr th:only-of-type {\n",
       "        vertical-align: middle;\n",
       "    }\n",
       "\n",
       "    .dataframe tbody tr th {\n",
       "        vertical-align: top;\n",
       "    }\n",
       "\n",
       "    .dataframe thead th {\n",
       "        text-align: right;\n",
       "    }\n",
       "</style>\n",
       "<table border=\"1\" class=\"dataframe\">\n",
       "  <thead>\n",
       "    <tr style=\"text-align: right;\">\n",
       "      <th></th>\n",
       "      <th>input</th>\n",
       "      <th>query</th>\n",
       "      <th>search_result</th>\n",
       "      <th>output</th>\n",
       "    </tr>\n",
       "  </thead>\n",
       "  <tbody>\n",
       "    <tr>\n",
       "      <th>0</th>\n",
       "      <td>When did Beyonce start becoming popular?</td>\n",
       "      <td>None</td>\n",
       "      <td>None</td>\n",
       "      <td>None</td>\n",
       "    </tr>\n",
       "    <tr>\n",
       "      <th>1</th>\n",
       "      <td>What areas did Beyonce compete in when she was...</td>\n",
       "      <td>None</td>\n",
       "      <td>None</td>\n",
       "      <td>None</td>\n",
       "    </tr>\n",
       "    <tr>\n",
       "      <th>2</th>\n",
       "      <td>When did Beyonce leave Destiny's Child and bec...</td>\n",
       "      <td>None</td>\n",
       "      <td>None</td>\n",
       "      <td>None</td>\n",
       "    </tr>\n",
       "    <tr>\n",
       "      <th>3</th>\n",
       "      <td>In what city and state did Beyonce  grow up?</td>\n",
       "      <td>None</td>\n",
       "      <td>None</td>\n",
       "      <td>None</td>\n",
       "    </tr>\n",
       "    <tr>\n",
       "      <th>4</th>\n",
       "      <td>In which decade did Beyonce become famous?</td>\n",
       "      <td>None</td>\n",
       "      <td>None</td>\n",
       "      <td>None</td>\n",
       "    </tr>\n",
       "  </tbody>\n",
       "</table>\n",
       "</div>"
      ],
      "text/plain": [
       "                                               input query search_result  \\\n",
       "0           When did Beyonce start becoming popular?  None          None   \n",
       "1  What areas did Beyonce compete in when she was...  None          None   \n",
       "2  When did Beyonce leave Destiny's Child and bec...  None          None   \n",
       "3      In what city and state did Beyonce  grow up?   None          None   \n",
       "4         In which decade did Beyonce become famous?  None          None   \n",
       "\n",
       "  output  \n",
       "0   None  \n",
       "1   None  \n",
       "2   None  \n",
       "3   None  \n",
       "4   None  "
      ]
     },
     "execution_count": 8,
     "metadata": {},
     "output_type": "execute_result"
    }
   ],
   "source": [
    "rg_ds.head()"
   ]
  },
  {
   "cell_type": "code",
   "execution_count": 9,
   "metadata": {},
   "outputs": [
    {
     "data": {
      "text/html": [
       "<div>\n",
       "<style scoped>\n",
       "    .dataframe tbody tr th:only-of-type {\n",
       "        vertical-align: middle;\n",
       "    }\n",
       "\n",
       "    .dataframe tbody tr th {\n",
       "        vertical-align: top;\n",
       "    }\n",
       "\n",
       "    .dataframe thead th {\n",
       "        text-align: right;\n",
       "    }\n",
       "</style>\n",
       "<table border=\"1\" class=\"dataframe\">\n",
       "  <thead>\n",
       "    <tr style=\"text-align: right;\">\n",
       "      <th></th>\n",
       "      <th>Unnamed: 0.3</th>\n",
       "      <th>Unnamed: 0.2</th>\n",
       "      <th>Unnamed: 0.1</th>\n",
       "      <th>Unnamed: 0</th>\n",
       "      <th>question</th>\n",
       "      <th>data</th>\n",
       "      <th>is_searchable</th>\n",
       "    </tr>\n",
       "  </thead>\n",
       "  <tbody>\n",
       "    <tr>\n",
       "      <th>0</th>\n",
       "      <td>0</td>\n",
       "      <td>0</td>\n",
       "      <td>0</td>\n",
       "      <td>0</td>\n",
       "      <td>How do engineers design and test roller coaste...</td>\n",
       "      <td>['How do engineers design and test roller coas...</td>\n",
       "      <td>True</td>\n",
       "    </tr>\n",
       "    <tr>\n",
       "      <th>1</th>\n",
       "      <td>1</td>\n",
       "      <td>1</td>\n",
       "      <td>1</td>\n",
       "      <td>1</td>\n",
       "      <td>Can you discuss how religious motifs have been...</td>\n",
       "      <td>['Can you discuss how religious motifs have be...</td>\n",
       "      <td>True</td>\n",
       "    </tr>\n",
       "    <tr>\n",
       "      <th>2</th>\n",
       "      <td>2</td>\n",
       "      <td>2</td>\n",
       "      <td>2</td>\n",
       "      <td>2</td>\n",
       "      <td>How has the depiction of war in movies changed...</td>\n",
       "      <td>['How has the depiction of war in movies chang...</td>\n",
       "      <td>True</td>\n",
       "    </tr>\n",
       "    <tr>\n",
       "      <th>3</th>\n",
       "      <td>3</td>\n",
       "      <td>3</td>\n",
       "      <td>3</td>\n",
       "      <td>3</td>\n",
       "      <td>Analyze the use of mise-en-scène in Blade Runn...</td>\n",
       "      <td>[\"Analyze the use of mise-en-scène in Blade Ru...</td>\n",
       "      <td>True</td>\n",
       "    </tr>\n",
       "    <tr>\n",
       "      <th>4</th>\n",
       "      <td>4</td>\n",
       "      <td>4</td>\n",
       "      <td>4</td>\n",
       "      <td>4</td>\n",
       "      <td>What steps does Procter &amp; Gamble take to promo...</td>\n",
       "      <td>['What steps does Procter &amp; Gamble take to pro...</td>\n",
       "      <td>True</td>\n",
       "    </tr>\n",
       "  </tbody>\n",
       "</table>\n",
       "</div>"
      ],
      "text/plain": [
       "   Unnamed: 0.3  Unnamed: 0.2  Unnamed: 0.1  Unnamed: 0  \\\n",
       "0             0             0             0           0   \n",
       "1             1             1             1           1   \n",
       "2             2             2             2           2   \n",
       "3             3             3             3           3   \n",
       "4             4             4             4           4   \n",
       "\n",
       "                                            question  \\\n",
       "0  How do engineers design and test roller coaste...   \n",
       "1  Can you discuss how religious motifs have been...   \n",
       "2  How has the depiction of war in movies changed...   \n",
       "3  Analyze the use of mise-en-scène in Blade Runn...   \n",
       "4  What steps does Procter & Gamble take to promo...   \n",
       "\n",
       "                                                data  is_searchable  \n",
       "0  ['How do engineers design and test roller coas...           True  \n",
       "1  ['Can you discuss how religious motifs have be...           True  \n",
       "2  ['How has the depiction of war in movies chang...           True  \n",
       "3  [\"Analyze the use of mise-en-scène in Blade Ru...           True  \n",
       "4  ['What steps does Procter & Gamble take to pro...           True  "
      ]
     },
     "execution_count": 9,
     "metadata": {},
     "output_type": "execute_result"
    }
   ],
   "source": [
    "ultrachat_ds.head()"
   ]
  },
  {
   "cell_type": "code",
   "execution_count": 10,
   "metadata": {},
   "outputs": [],
   "source": [
    "ultrachat_ds = ultrachat_ds.rename(columns={'question': 'input'})"
   ]
  },
  {
   "cell_type": "code",
   "execution_count": 11,
   "metadata": {},
   "outputs": [],
   "source": [
    "rg_ds  = pd.concat([rg_ds, ultrachat_ds['input']], ignore_index=True)\n",
    "rg_ds = rg_ds.sample(frac=1)\n",
    "rg_ds = rg_ds.reset_index()\n",
    "rg_ds = rg_ds[0:2000]"
   ]
  },
  {
   "cell_type": "code",
   "execution_count": 12,
   "metadata": {
    "scrolled": true
   },
   "outputs": [
    {
     "name": "stderr",
     "output_type": "stream",
     "text": [
      "`low_cpu_mem_usage` was None, now set to True since model is quantized.\n"
     ]
    },
    {
     "data": {
      "application/vnd.jupyter.widget-view+json": {
       "model_id": "b29f7211ac73412786a5f5ee6a647145",
       "version_major": 2,
       "version_minor": 0
      },
      "text/plain": [
       "Loading checkpoint shards:   0%|          | 0/8 [00:00<?, ?it/s]"
      ]
     },
     "metadata": {},
     "output_type": "display_data"
    },
    {
     "name": "stdout",
     "output_type": "stream",
     "text": [
      "Populating Search Result  0 % (Sample  11 / 2000 Elapsed time:  0:00:19.939612 , Time Remaining:  1:06:07.982390 )                                  \r"
     ]
    },
    {
     "name": "stderr",
     "output_type": "stream",
     "text": [
      "--- Logging error ---\n",
      "Traceback (most recent call last):\n",
      "  File \"/usr/lib/python3.10/logging/__init__.py\", line 1100, in emit\n",
      "    msg = self.format(record)\n",
      "  File \"/usr/lib/python3.10/logging/__init__.py\", line 943, in format\n",
      "    return fmt.format(record)\n",
      "  File \"/usr/lib/python3.10/logging/__init__.py\", line 678, in format\n",
      "    record.message = record.getMessage()\n",
      "  File \"/usr/lib/python3.10/logging/__init__.py\", line 368, in getMessage\n",
      "    msg = msg % self.args\n",
      "TypeError: not all arguments converted during string formatting\n",
      "Call stack:\n",
      "  File \"/usr/lib/python3.10/runpy.py\", line 196, in _run_module_as_main\n",
      "    return _run_code(code, main_globals, None,\n",
      "  File \"/usr/lib/python3.10/runpy.py\", line 86, in _run_code\n",
      "    exec(code, run_globals)\n",
      "  File \"/home/sp15-chatbot/Documents/experimental-models/.env/lib/python3.10/site-packages/ipykernel_launcher.py\", line 18, in <module>\n",
      "    app.launch_new_instance()\n",
      "  File \"/home/sp15-chatbot/Documents/experimental-models/.env/lib/python3.10/site-packages/traitlets/config/application.py\", line 1075, in launch_instance\n",
      "    app.start()\n",
      "  File \"/home/sp15-chatbot/Documents/experimental-models/.env/lib/python3.10/site-packages/ipykernel/kernelapp.py\", line 739, in start\n",
      "    self.io_loop.start()\n",
      "  File \"/home/sp15-chatbot/Documents/experimental-models/.env/lib/python3.10/site-packages/tornado/platform/asyncio.py\", line 205, in start\n",
      "    self.asyncio_loop.run_forever()\n",
      "  File \"/usr/lib/python3.10/asyncio/base_events.py\", line 603, in run_forever\n",
      "    self._run_once()\n",
      "  File \"/usr/lib/python3.10/asyncio/base_events.py\", line 1909, in _run_once\n",
      "    handle._run()\n",
      "  File \"/usr/lib/python3.10/asyncio/events.py\", line 80, in _run\n",
      "    self._context.run(self._callback, *self._args)\n",
      "  File \"/home/sp15-chatbot/Documents/experimental-models/.env/lib/python3.10/site-packages/ipykernel/kernelbase.py\", line 545, in dispatch_queue\n",
      "    await self.process_one()\n",
      "  File \"/home/sp15-chatbot/Documents/experimental-models/.env/lib/python3.10/site-packages/ipykernel/kernelbase.py\", line 534, in process_one\n",
      "    await dispatch(*args)\n",
      "  File \"/home/sp15-chatbot/Documents/experimental-models/.env/lib/python3.10/site-packages/ipykernel/kernelbase.py\", line 437, in dispatch_shell\n",
      "    await result\n",
      "  File \"/home/sp15-chatbot/Documents/experimental-models/.env/lib/python3.10/site-packages/ipykernel/ipkernel.py\", line 362, in execute_request\n",
      "    await super().execute_request(stream, ident, parent)\n",
      "  File \"/home/sp15-chatbot/Documents/experimental-models/.env/lib/python3.10/site-packages/ipykernel/kernelbase.py\", line 778, in execute_request\n",
      "    reply_content = await reply_content\n",
      "  File \"/home/sp15-chatbot/Documents/experimental-models/.env/lib/python3.10/site-packages/ipykernel/ipkernel.py\", line 449, in do_execute\n",
      "    res = shell.run_cell(\n",
      "  File \"/home/sp15-chatbot/Documents/experimental-models/.env/lib/python3.10/site-packages/ipykernel/zmqshell.py\", line 549, in run_cell\n",
      "    return super().run_cell(*args, **kwargs)\n",
      "  File \"/home/sp15-chatbot/Documents/experimental-models/.env/lib/python3.10/site-packages/IPython/core/interactiveshell.py\", line 3075, in run_cell\n",
      "    result = self._run_cell(\n",
      "  File \"/home/sp15-chatbot/Documents/experimental-models/.env/lib/python3.10/site-packages/IPython/core/interactiveshell.py\", line 3130, in _run_cell\n",
      "    result = runner(coro)\n",
      "  File \"/home/sp15-chatbot/Documents/experimental-models/.env/lib/python3.10/site-packages/IPython/core/async_helpers.py\", line 129, in _pseudo_sync_runner\n",
      "    coro.send(None)\n",
      "  File \"/home/sp15-chatbot/Documents/experimental-models/.env/lib/python3.10/site-packages/IPython/core/interactiveshell.py\", line 3334, in run_cell_async\n",
      "    has_raised = await self.run_ast_nodes(code_ast.body, cell_name,\n",
      "  File \"/home/sp15-chatbot/Documents/experimental-models/.env/lib/python3.10/site-packages/IPython/core/interactiveshell.py\", line 3517, in run_ast_nodes\n",
      "    if await self.run_code(code, result, async_=asy):\n",
      "  File \"/home/sp15-chatbot/Documents/experimental-models/.env/lib/python3.10/site-packages/IPython/core/interactiveshell.py\", line 3577, in run_code\n",
      "    exec(code_obj, self.user_global_ns, self.user_ns)\n",
      "  File \"/tmp/ipykernel_549111/4124399538.py\", line 16, in <module>\n",
      "    query = qp.generate_query(str(user_input))\n",
      "  File \"/home/sp15-chatbot/Documents/experimental-models/src/query_parser.py\", line 61, in generate_query\n",
      "    query = self.pipe(prompt, max_new_tokens=256, do_sample=True, temperature=0.7,\n",
      "  File \"/home/sp15-chatbot/Documents/experimental-models/.env/lib/python3.10/site-packages/transformers/pipelines/text_generation.py\", line 240, in __call__\n",
      "    return super().__call__(text_inputs, **kwargs)\n",
      "  File \"/home/sp15-chatbot/Documents/experimental-models/.env/lib/python3.10/site-packages/transformers/pipelines/base.py\", line 1167, in __call__\n",
      "    logger.warning_once(\n",
      "  File \"/home/sp15-chatbot/Documents/experimental-models/.env/lib/python3.10/site-packages/transformers/utils/logging.py\", line 329, in warning_once\n",
      "    self.warning(*args, **kwargs)\n",
      "Message: 'You seem to be using the pipelines sequentially on GPU. In order to maximize efficiency please use a dataset'\n",
      "Arguments: (<class 'UserWarning'>,)\n"
     ]
    },
    {
     "name": "stdout",
     "output_type": "stream",
     "text": [
      "Populating Search Result  99 % (Sample  2000 / 2000 Elapsed time:  1:05:19.792240 , Time Remaining:  0:00:01.960877 )                                  \r"
     ]
    }
   ],
   "source": [
    "i = 0\n",
    "qp = QP(const.MODELS_FOLDER + \"aletheianomous_ai-keyword_extractor-v0.3.1/\")\n",
    "start_time = dt.now()\n",
    "elapsed_time = None\n",
    "total_batch = len(rg_ds)\n",
    "for j in range(len(rg_ds)):\n",
    "    if elapsed_time is None:\n",
    "        print(\"Populating Search Result \", (int((i/len(rg_ds))*100)),\"% (Sample \", (i+1), \"/\", len(rg_ds) , \")\", \n",
    "                end=\"                   \\r\")\n",
    "    else:\n",
    "        avg_time = elapsed_time / i\n",
    "        time_remaining = avg_time * (total_batch-i)\n",
    "        print(\"Populating Search Result \", (int((i/len(rg_ds))*100)),\"% (Sample \", (i+1), \"/\", len(rg_ds) , \"Elapsed time: \",\n",
    "              elapsed_time, \", Time Remaining: \", time_remaining, \")\",end=\"                                  \\r\")\n",
    "    user_input = rg_ds.loc[j, \"input\"]\n",
    "    query = qp.generate_query(str(user_input))\n",
    "    rg_ds.loc[i, \"query\"] = query\n",
    "    json_out, result = cf.search_online(query)\n",
    "    rg_ds.loc[i, \"search_result\"] = result\n",
    "    i+=1\n",
    "    end_time = dt.now()\n",
    "    elapsed_time = end_time - start_time\n",
    "    "
   ]
  },
  {
   "cell_type": "code",
   "execution_count": 13,
   "metadata": {},
   "outputs": [
    {
     "data": {
      "text/html": [
       "<div>\n",
       "<style scoped>\n",
       "    .dataframe tbody tr th:only-of-type {\n",
       "        vertical-align: middle;\n",
       "    }\n",
       "\n",
       "    .dataframe tbody tr th {\n",
       "        vertical-align: top;\n",
       "    }\n",
       "\n",
       "    .dataframe thead th {\n",
       "        text-align: right;\n",
       "    }\n",
       "</style>\n",
       "<table border=\"1\" class=\"dataframe\">\n",
       "  <thead>\n",
       "    <tr style=\"text-align: right;\">\n",
       "      <th></th>\n",
       "      <th>Unnamed: 0</th>\n",
       "      <th>0</th>\n",
       "      <th>1</th>\n",
       "      <th>2</th>\n",
       "    </tr>\n",
       "  </thead>\n",
       "  <tbody>\n",
       "    <tr>\n",
       "      <th>0</th>\n",
       "      <td>0</td>\n",
       "      <td>What kind of phone(s) do you guys have?</td>\n",
       "      <td>I have a pixel. It's pretty great. Much better...</td>\n",
       "      <td>Does it really charge all the way in 15 min?</td>\n",
       "    </tr>\n",
       "    <tr>\n",
       "      <th>1</th>\n",
       "      <td>1</td>\n",
       "      <td>I have a pixel. It's pretty great. Much better...</td>\n",
       "      <td>Does it really charge all the way in 15 min?</td>\n",
       "      <td>Pretty fast. I've never timed it, but it's und...</td>\n",
       "    </tr>\n",
       "    <tr>\n",
       "      <th>2</th>\n",
       "      <td>2</td>\n",
       "      <td>Does it really charge all the way in 15 min?</td>\n",
       "      <td>Pretty fast. I've never timed it, but it's und...</td>\n",
       "      <td>cool. I've been thinking of getting one, my ph...</td>\n",
       "    </tr>\n",
       "    <tr>\n",
       "      <th>3</th>\n",
       "      <td>3</td>\n",
       "      <td>What kind of phone(s) do you guys have?</td>\n",
       "      <td>Samsung Galaxy J1. It's my first cell phone an...</td>\n",
       "      <td>What do you think of it? Anything you don't like?</td>\n",
       "    </tr>\n",
       "    <tr>\n",
       "      <th>4</th>\n",
       "      <td>4</td>\n",
       "      <td>Samsung Galaxy J1. It's my first cell phone an...</td>\n",
       "      <td>What do you think of it? Anything you don't like?</td>\n",
       "      <td>I love it. I can't think of anything I don't l...</td>\n",
       "    </tr>\n",
       "  </tbody>\n",
       "</table>\n",
       "</div>"
      ],
      "text/plain": [
       "   Unnamed: 0                                                  0  \\\n",
       "0           0            What kind of phone(s) do you guys have?   \n",
       "1           1  I have a pixel. It's pretty great. Much better...   \n",
       "2           2       Does it really charge all the way in 15 min?   \n",
       "3           3            What kind of phone(s) do you guys have?   \n",
       "4           4  Samsung Galaxy J1. It's my first cell phone an...   \n",
       "\n",
       "                                                   1  \\\n",
       "0  I have a pixel. It's pretty great. Much better...   \n",
       "1       Does it really charge all the way in 15 min?   \n",
       "2  Pretty fast. I've never timed it, but it's und...   \n",
       "3  Samsung Galaxy J1. It's my first cell phone an...   \n",
       "4  What do you think of it? Anything you don't like?   \n",
       "\n",
       "                                                   2  \n",
       "0       Does it really charge all the way in 15 min?  \n",
       "1  Pretty fast. I've never timed it, but it's und...  \n",
       "2  cool. I've been thinking of getting one, my ph...  \n",
       "3  What do you think of it? Anything you don't like?  \n",
       "4  I love it. I can't think of anything I don't l...  "
      ]
     },
     "execution_count": 13,
     "metadata": {},
     "output_type": "execute_result"
    }
   ],
   "source": [
    "reddit_ds.head()"
   ]
  },
  {
   "cell_type": "code",
   "execution_count": 14,
   "metadata": {},
   "outputs": [],
   "source": [
    "reddit_ds = reddit_ds.rename(columns={\"0\": \"input\"})"
   ]
  },
  {
   "cell_type": "code",
   "execution_count": 16,
   "metadata": {},
   "outputs": [
    {
     "data": {
      "text/html": [
       "<div>\n",
       "<style scoped>\n",
       "    .dataframe tbody tr th:only-of-type {\n",
       "        vertical-align: middle;\n",
       "    }\n",
       "\n",
       "    .dataframe tbody tr th {\n",
       "        vertical-align: top;\n",
       "    }\n",
       "\n",
       "    .dataframe thead th {\n",
       "        text-align: right;\n",
       "    }\n",
       "</style>\n",
       "<table border=\"1\" class=\"dataframe\">\n",
       "  <thead>\n",
       "    <tr style=\"text-align: right;\">\n",
       "      <th></th>\n",
       "      <th>Unnamed: 0</th>\n",
       "      <th>input</th>\n",
       "      <th>1</th>\n",
       "      <th>2</th>\n",
       "    </tr>\n",
       "  </thead>\n",
       "  <tbody>\n",
       "    <tr>\n",
       "      <th>0</th>\n",
       "      <td>0</td>\n",
       "      <td>What kind of phone(s) do you guys have?</td>\n",
       "      <td>I have a pixel. It's pretty great. Much better...</td>\n",
       "      <td>Does it really charge all the way in 15 min?</td>\n",
       "    </tr>\n",
       "    <tr>\n",
       "      <th>1</th>\n",
       "      <td>1</td>\n",
       "      <td>I have a pixel. It's pretty great. Much better...</td>\n",
       "      <td>Does it really charge all the way in 15 min?</td>\n",
       "      <td>Pretty fast. I've never timed it, but it's und...</td>\n",
       "    </tr>\n",
       "    <tr>\n",
       "      <th>2</th>\n",
       "      <td>2</td>\n",
       "      <td>Does it really charge all the way in 15 min?</td>\n",
       "      <td>Pretty fast. I've never timed it, but it's und...</td>\n",
       "      <td>cool. I've been thinking of getting one, my ph...</td>\n",
       "    </tr>\n",
       "    <tr>\n",
       "      <th>3</th>\n",
       "      <td>3</td>\n",
       "      <td>What kind of phone(s) do you guys have?</td>\n",
       "      <td>Samsung Galaxy J1. It's my first cell phone an...</td>\n",
       "      <td>What do you think of it? Anything you don't like?</td>\n",
       "    </tr>\n",
       "    <tr>\n",
       "      <th>4</th>\n",
       "      <td>4</td>\n",
       "      <td>Samsung Galaxy J1. It's my first cell phone an...</td>\n",
       "      <td>What do you think of it? Anything you don't like?</td>\n",
       "      <td>I love it. I can't think of anything I don't l...</td>\n",
       "    </tr>\n",
       "  </tbody>\n",
       "</table>\n",
       "</div>"
      ],
      "text/plain": [
       "   Unnamed: 0                                              input  \\\n",
       "0           0            What kind of phone(s) do you guys have?   \n",
       "1           1  I have a pixel. It's pretty great. Much better...   \n",
       "2           2       Does it really charge all the way in 15 min?   \n",
       "3           3            What kind of phone(s) do you guys have?   \n",
       "4           4  Samsung Galaxy J1. It's my first cell phone an...   \n",
       "\n",
       "                                                   1  \\\n",
       "0  I have a pixel. It's pretty great. Much better...   \n",
       "1       Does it really charge all the way in 15 min?   \n",
       "2  Pretty fast. I've never timed it, but it's und...   \n",
       "3  Samsung Galaxy J1. It's my first cell phone an...   \n",
       "4  What do you think of it? Anything you don't like?   \n",
       "\n",
       "                                                   2  \n",
       "0       Does it really charge all the way in 15 min?  \n",
       "1  Pretty fast. I've never timed it, but it's und...  \n",
       "2  cool. I've been thinking of getting one, my ph...  \n",
       "3  What do you think of it? Anything you don't like?  \n",
       "4  I love it. I can't think of anything I don't l...  "
      ]
     },
     "execution_count": 16,
     "metadata": {},
     "output_type": "execute_result"
    }
   ],
   "source": [
    "reddit_ds.head()"
   ]
  },
  {
   "cell_type": "code",
   "execution_count": 17,
   "metadata": {},
   "outputs": [
    {
     "data": {
      "text/html": [
       "<div>\n",
       "<style scoped>\n",
       "    .dataframe tbody tr th:only-of-type {\n",
       "        vertical-align: middle;\n",
       "    }\n",
       "\n",
       "    .dataframe tbody tr th {\n",
       "        vertical-align: top;\n",
       "    }\n",
       "\n",
       "    .dataframe thead th {\n",
       "        text-align: right;\n",
       "    }\n",
       "</style>\n",
       "<table border=\"1\" class=\"dataframe\">\n",
       "  <thead>\n",
       "    <tr style=\"text-align: right;\">\n",
       "      <th></th>\n",
       "      <th>index</th>\n",
       "      <th>input</th>\n",
       "      <th>query</th>\n",
       "      <th>search_result</th>\n",
       "      <th>output</th>\n",
       "      <th>0</th>\n",
       "    </tr>\n",
       "  </thead>\n",
       "  <tbody>\n",
       "    <tr>\n",
       "      <th>0</th>\n",
       "      <td>112237</td>\n",
       "      <td>What type of soldiers came from Hong Kong?</td>\n",
       "      <td>type of soldiers came from Hong Kong</td>\n",
       "      <td>[1] https://asiatimes.com/2017/05/gurkhas-hist...</td>\n",
       "      <td>None</td>\n",
       "      <td>NaN</td>\n",
       "    </tr>\n",
       "    <tr>\n",
       "      <th>1</th>\n",
       "      <td>16187</td>\n",
       "      <td>A user interface, UI backend, layout engine an...</td>\n",
       "      <td>user interface UI backend layout engine and ot...</td>\n",
       "      <td>[1] https://uxdesign.cc/fundamentals-of-layout...</td>\n",
       "      <td>None</td>\n",
       "      <td>NaN</td>\n",
       "    </tr>\n",
       "    <tr>\n",
       "      <th>2</th>\n",
       "      <td>23391</td>\n",
       "      <td>What territory did Yugoslavia leadership want ...</td>\n",
       "      <td>territory did Yugoslavia leadership want to in...</td>\n",
       "      <td>[1] https://en.wikipedia.org/wiki/Yugoslav_irr...</td>\n",
       "      <td>None</td>\n",
       "      <td>NaN</td>\n",
       "    </tr>\n",
       "    <tr>\n",
       "      <th>3</th>\n",
       "      <td>177298</td>\n",
       "      <td>NaN</td>\n",
       "      <td>nan</td>\n",
       "      <td>[1] https://en.wikipedia.org/wiki/NaN : In com...</td>\n",
       "      <td>NaN</td>\n",
       "      <td>How is the music industry adapting to the rise...</td>\n",
       "    </tr>\n",
       "    <tr>\n",
       "      <th>4</th>\n",
       "      <td>45093</td>\n",
       "      <td>What state has the highest rate of death sente...</td>\n",
       "      <td>state has the highest rate of death sentences ...</td>\n",
       "      <td>[1] https://deathpenaltyinfo.org/stories/state...</td>\n",
       "      <td>None</td>\n",
       "      <td>NaN</td>\n",
       "    </tr>\n",
       "  </tbody>\n",
       "</table>\n",
       "</div>"
      ],
      "text/plain": [
       "    index                                              input  \\\n",
       "0  112237        What type of soldiers came from Hong Kong?    \n",
       "1   16187  A user interface, UI backend, layout engine an...   \n",
       "2   23391  What territory did Yugoslavia leadership want ...   \n",
       "3  177298                                                NaN   \n",
       "4   45093  What state has the highest rate of death sente...   \n",
       "\n",
       "                                               query  \\\n",
       "0               type of soldiers came from Hong Kong   \n",
       "1  user interface UI backend layout engine and ot...   \n",
       "2  territory did Yugoslavia leadership want to in...   \n",
       "3                                                nan   \n",
       "4  state has the highest rate of death sentences ...   \n",
       "\n",
       "                                       search_result output  \\\n",
       "0  [1] https://asiatimes.com/2017/05/gurkhas-hist...   None   \n",
       "1  [1] https://uxdesign.cc/fundamentals-of-layout...   None   \n",
       "2  [1] https://en.wikipedia.org/wiki/Yugoslav_irr...   None   \n",
       "3  [1] https://en.wikipedia.org/wiki/NaN : In com...    NaN   \n",
       "4  [1] https://deathpenaltyinfo.org/stories/state...   None   \n",
       "\n",
       "                                                   0  \n",
       "0                                                NaN  \n",
       "1                                                NaN  \n",
       "2                                                NaN  \n",
       "3  How is the music industry adapting to the rise...  \n",
       "4                                                NaN  "
      ]
     },
     "execution_count": 17,
     "metadata": {},
     "output_type": "execute_result"
    }
   ],
   "source": [
    "rg_ds.head()"
   ]
  },
  {
   "cell_type": "code",
   "execution_count": 18,
   "metadata": {},
   "outputs": [],
   "source": [
    "rg_ds = pd.concat([rg_ds, reddit_ds['input']], ignore_index=True)"
   ]
  },
  {
   "cell_type": "code",
   "execution_count": 19,
   "metadata": {},
   "outputs": [],
   "source": [
    "rg_ds.to_csv(RESPONSE_GEN_DS_PATH)"
   ]
  },
  {
   "cell_type": "code",
   "execution_count": null,
   "metadata": {},
   "outputs": [],
   "source": []
  }
 ],
 "metadata": {
  "kernelspec": {
   "display_name": "Python 3 (ipykernel)",
   "language": "python",
   "name": "python3"
  },
  "language_info": {
   "codemirror_mode": {
    "name": "ipython",
    "version": 3
   },
   "file_extension": ".py",
   "mimetype": "text/x-python",
   "name": "python",
   "nbconvert_exporter": "python",
   "pygments_lexer": "ipython3",
   "version": "3.10.12"
  }
 },
 "nbformat": 4,
 "nbformat_minor": 4
}
