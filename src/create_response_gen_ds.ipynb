{
 "cells": [
  {
   "cell_type": "markdown",
   "metadata": {},
   "source": [
    "# Create Response Generator Dataset\n",
    "This notebook creates the dataset for re-training the response generator model.\n",
    "\n",
    "## Pre-requisites\n",
    "A CSV file must be created that contains fields including input, search results, and output."
   ]
  },
  {
   "cell_type": "code",
   "execution_count": 1,
   "metadata": {},
   "outputs": [],
   "source": [
    "from citation_fetcher import Citation_Fetcher as cf\n",
    "from query_parser import QueryParser as qp\n",
    "import const\n",
    "import numpy as np\n",
    "import pandas as pd"
   ]
  },
  {
   "cell_type": "code",
   "execution_count": 20,
   "metadata": {},
   "outputs": [],
   "source": [
    "RESPONSE_GEN_DS_PATH: str =  const.DATASETS_FOLDER + \"response_gen_ground_truth.csv\"\n",
    "SQUAD_DS_PATH: str = const.DATASETS_FOLDER + \"squad_ds_keyword_ground_truth.csv\"\n",
    "ULTRACHAT_LITE_PATH: str = const.DATASETS_FOLDER + \"ultrachat_50k.csv\"\n",
    "REDDIT_DS_PATH: str = const.DATASETS_FOLDER + \"reddit_ds.csv\""
   ]
  },
  {
   "cell_type": "code",
   "execution_count": 3,
   "metadata": {},
   "outputs": [
    {
     "name": "stderr",
     "output_type": "stream",
     "text": [
      "/tmp/ipykernel_24785/1211425012.py:1: DtypeWarning: Columns (17,18,19,20,21,22,23) have mixed types. Specify dtype option on import or set low_memory=False.\n",
      "  squad_ds: pd.DataFrame = pd.read_csv(SQUAD_DS_PATH)\n"
     ]
    }
   ],
   "source": [
    "squad_ds: pd.DataFrame = pd.read_csv(SQUAD_DS_PATH)\n",
    "squad_len = len(squad_ds)"
   ]
  },
  {
   "cell_type": "code",
   "execution_count": 15,
   "metadata": {},
   "outputs": [],
   "source": [
    "ultrachat_ds: pd.DataFrame = pd.read_csv(ULTRACHAT_LITE_PATH)\n",
    "ultrachat_len = len(squad_ds)"
   ]
  },
  {
   "cell_type": "code",
   "execution_count": 21,
   "metadata": {},
   "outputs": [],
   "source": [
    "reddit_ds: pd.DataFrame = pd.read_csv(REDDIT_DS_PATH)"
   ]
  },
  {
   "cell_type": "code",
   "execution_count": 11,
   "metadata": {},
   "outputs": [],
   "source": [
    "rg_ds = squad_ds['question']\n",
    "#rg_ds = rg_ds.rename(columns={'question': \"input\"})"
   ]
  },
  {
   "cell_type": "code",
   "execution_count": 12,
   "metadata": {},
   "outputs": [],
   "source": [
    "rg_ds = pd.DataFrame(data={'input': rg_ds, 'query': None, 'search_result': None, 'output': None})"
   ]
  },
  {
   "cell_type": "code",
   "execution_count": 13,
   "metadata": {},
   "outputs": [
    {
     "data": {
      "text/html": [
       "<div>\n",
       "<style scoped>\n",
       "    .dataframe tbody tr th:only-of-type {\n",
       "        vertical-align: middle;\n",
       "    }\n",
       "\n",
       "    .dataframe tbody tr th {\n",
       "        vertical-align: top;\n",
       "    }\n",
       "\n",
       "    .dataframe thead th {\n",
       "        text-align: right;\n",
       "    }\n",
       "</style>\n",
       "<table border=\"1\" class=\"dataframe\">\n",
       "  <thead>\n",
       "    <tr style=\"text-align: right;\">\n",
       "      <th></th>\n",
       "      <th>input</th>\n",
       "      <th>query</th>\n",
       "      <th>search result</th>\n",
       "      <th>output</th>\n",
       "    </tr>\n",
       "  </thead>\n",
       "  <tbody>\n",
       "    <tr>\n",
       "      <th>0</th>\n",
       "      <td>When did Beyonce start becoming popular?</td>\n",
       "      <td>None</td>\n",
       "      <td>None</td>\n",
       "      <td>None</td>\n",
       "    </tr>\n",
       "    <tr>\n",
       "      <th>1</th>\n",
       "      <td>What areas did Beyonce compete in when she was...</td>\n",
       "      <td>None</td>\n",
       "      <td>None</td>\n",
       "      <td>None</td>\n",
       "    </tr>\n",
       "    <tr>\n",
       "      <th>2</th>\n",
       "      <td>When did Beyonce leave Destiny's Child and bec...</td>\n",
       "      <td>None</td>\n",
       "      <td>None</td>\n",
       "      <td>None</td>\n",
       "    </tr>\n",
       "    <tr>\n",
       "      <th>3</th>\n",
       "      <td>In what city and state did Beyonce  grow up?</td>\n",
       "      <td>None</td>\n",
       "      <td>None</td>\n",
       "      <td>None</td>\n",
       "    </tr>\n",
       "    <tr>\n",
       "      <th>4</th>\n",
       "      <td>In which decade did Beyonce become famous?</td>\n",
       "      <td>None</td>\n",
       "      <td>None</td>\n",
       "      <td>None</td>\n",
       "    </tr>\n",
       "  </tbody>\n",
       "</table>\n",
       "</div>"
      ],
      "text/plain": [
       "                                               input query search result  \\\n",
       "0           When did Beyonce start becoming popular?  None          None   \n",
       "1  What areas did Beyonce compete in when she was...  None          None   \n",
       "2  When did Beyonce leave Destiny's Child and bec...  None          None   \n",
       "3      In what city and state did Beyonce  grow up?   None          None   \n",
       "4         In which decade did Beyonce become famous?  None          None   \n",
       "\n",
       "  output  \n",
       "0   None  \n",
       "1   None  \n",
       "2   None  \n",
       "3   None  \n",
       "4   None  "
      ]
     },
     "execution_count": 13,
     "metadata": {},
     "output_type": "execute_result"
    }
   ],
   "source": [
    "rg_ds.head()"
   ]
  },
  {
   "cell_type": "code",
   "execution_count": 17,
   "metadata": {},
   "outputs": [
    {
     "data": {
      "text/html": [
       "<div>\n",
       "<style scoped>\n",
       "    .dataframe tbody tr th:only-of-type {\n",
       "        vertical-align: middle;\n",
       "    }\n",
       "\n",
       "    .dataframe tbody tr th {\n",
       "        vertical-align: top;\n",
       "    }\n",
       "\n",
       "    .dataframe thead th {\n",
       "        text-align: right;\n",
       "    }\n",
       "</style>\n",
       "<table border=\"1\" class=\"dataframe\">\n",
       "  <thead>\n",
       "    <tr style=\"text-align: right;\">\n",
       "      <th></th>\n",
       "      <th>Unnamed: 0.3</th>\n",
       "      <th>Unnamed: 0.2</th>\n",
       "      <th>Unnamed: 0.1</th>\n",
       "      <th>Unnamed: 0</th>\n",
       "      <th>question</th>\n",
       "      <th>data</th>\n",
       "      <th>is_searchable</th>\n",
       "    </tr>\n",
       "  </thead>\n",
       "  <tbody>\n",
       "    <tr>\n",
       "      <th>0</th>\n",
       "      <td>0</td>\n",
       "      <td>0</td>\n",
       "      <td>0</td>\n",
       "      <td>0</td>\n",
       "      <td>How do engineers design and test roller coaste...</td>\n",
       "      <td>['How do engineers design and test roller coas...</td>\n",
       "      <td>True</td>\n",
       "    </tr>\n",
       "    <tr>\n",
       "      <th>1</th>\n",
       "      <td>1</td>\n",
       "      <td>1</td>\n",
       "      <td>1</td>\n",
       "      <td>1</td>\n",
       "      <td>Can you discuss how religious motifs have been...</td>\n",
       "      <td>['Can you discuss how religious motifs have be...</td>\n",
       "      <td>True</td>\n",
       "    </tr>\n",
       "    <tr>\n",
       "      <th>2</th>\n",
       "      <td>2</td>\n",
       "      <td>2</td>\n",
       "      <td>2</td>\n",
       "      <td>2</td>\n",
       "      <td>How has the depiction of war in movies changed...</td>\n",
       "      <td>['How has the depiction of war in movies chang...</td>\n",
       "      <td>True</td>\n",
       "    </tr>\n",
       "    <tr>\n",
       "      <th>3</th>\n",
       "      <td>3</td>\n",
       "      <td>3</td>\n",
       "      <td>3</td>\n",
       "      <td>3</td>\n",
       "      <td>Analyze the use of mise-en-scène in Blade Runn...</td>\n",
       "      <td>[\"Analyze the use of mise-en-scène in Blade Ru...</td>\n",
       "      <td>True</td>\n",
       "    </tr>\n",
       "    <tr>\n",
       "      <th>4</th>\n",
       "      <td>4</td>\n",
       "      <td>4</td>\n",
       "      <td>4</td>\n",
       "      <td>4</td>\n",
       "      <td>What steps does Procter &amp; Gamble take to promo...</td>\n",
       "      <td>['What steps does Procter &amp; Gamble take to pro...</td>\n",
       "      <td>True</td>\n",
       "    </tr>\n",
       "  </tbody>\n",
       "</table>\n",
       "</div>"
      ],
      "text/plain": [
       "   Unnamed: 0.3  Unnamed: 0.2  Unnamed: 0.1  Unnamed: 0  \\\n",
       "0             0             0             0           0   \n",
       "1             1             1             1           1   \n",
       "2             2             2             2           2   \n",
       "3             3             3             3           3   \n",
       "4             4             4             4           4   \n",
       "\n",
       "                                            question  \\\n",
       "0  How do engineers design and test roller coaste...   \n",
       "1  Can you discuss how religious motifs have been...   \n",
       "2  How has the depiction of war in movies changed...   \n",
       "3  Analyze the use of mise-en-scène in Blade Runn...   \n",
       "4  What steps does Procter & Gamble take to promo...   \n",
       "\n",
       "                                                data  is_searchable  \n",
       "0  ['How do engineers design and test roller coas...           True  \n",
       "1  ['Can you discuss how religious motifs have be...           True  \n",
       "2  ['How has the depiction of war in movies chang...           True  \n",
       "3  [\"Analyze the use of mise-en-scène in Blade Ru...           True  \n",
       "4  ['What steps does Procter & Gamble take to pro...           True  "
      ]
     },
     "execution_count": 17,
     "metadata": {},
     "output_type": "execute_result"
    }
   ],
   "source": [
    "ultrachat_ds.head()"
   ]
  },
  {
   "cell_type": "code",
   "execution_count": 18,
   "metadata": {},
   "outputs": [],
   "source": [
    "ultrachat_ds = ultrachat_ds.rename(columns={'question': 'input'})"
   ]
  },
  {
   "cell_type": "code",
   "execution_count": null,
   "metadata": {},
   "outputs": [],
   "source": [
    "rg_ds  = pd.concat([rg_ds, ultrachat_ds['input']], ignore_index=True)"
   ]
  },
  {
   "cell_type": "code",
   "execution_count": null,
   "metadata": {},
   "outputs": [],
   "source": [
    "i = 0\n",
    "for row in rg_ds:\n",
    "    print(\"Populating Search Result \", (int((i/len(rg_ds))*100)),\"% (Sample \", (i+1), \"/\", len(rg_ds) + \")\", \n",
    "                end=\"                   \\r\")\n",
    "    user_input = row['input']\n",
    "    query = qp.gen_query(user_input)\n",
    "    json_out, result = cf.search_online(query)\n",
    "    rg_ds[i, \"search_result\"] = result\n",
    "    i+=1"
   ]
  },
  {
   "cell_type": "code",
   "execution_count": 22,
   "metadata": {},
   "outputs": [
    {
     "data": {
      "text/html": [
       "<div>\n",
       "<style scoped>\n",
       "    .dataframe tbody tr th:only-of-type {\n",
       "        vertical-align: middle;\n",
       "    }\n",
       "\n",
       "    .dataframe tbody tr th {\n",
       "        vertical-align: top;\n",
       "    }\n",
       "\n",
       "    .dataframe thead th {\n",
       "        text-align: right;\n",
       "    }\n",
       "</style>\n",
       "<table border=\"1\" class=\"dataframe\">\n",
       "  <thead>\n",
       "    <tr style=\"text-align: right;\">\n",
       "      <th></th>\n",
       "      <th>Unnamed: 0</th>\n",
       "      <th>0</th>\n",
       "      <th>1</th>\n",
       "      <th>2</th>\n",
       "    </tr>\n",
       "  </thead>\n",
       "  <tbody>\n",
       "    <tr>\n",
       "      <th>0</th>\n",
       "      <td>0</td>\n",
       "      <td>What kind of phone(s) do you guys have?</td>\n",
       "      <td>I have a pixel. It's pretty great. Much better...</td>\n",
       "      <td>Does it really charge all the way in 15 min?</td>\n",
       "    </tr>\n",
       "    <tr>\n",
       "      <th>1</th>\n",
       "      <td>1</td>\n",
       "      <td>I have a pixel. It's pretty great. Much better...</td>\n",
       "      <td>Does it really charge all the way in 15 min?</td>\n",
       "      <td>Pretty fast. I've never timed it, but it's und...</td>\n",
       "    </tr>\n",
       "    <tr>\n",
       "      <th>2</th>\n",
       "      <td>2</td>\n",
       "      <td>Does it really charge all the way in 15 min?</td>\n",
       "      <td>Pretty fast. I've never timed it, but it's und...</td>\n",
       "      <td>cool. I've been thinking of getting one, my ph...</td>\n",
       "    </tr>\n",
       "    <tr>\n",
       "      <th>3</th>\n",
       "      <td>3</td>\n",
       "      <td>What kind of phone(s) do you guys have?</td>\n",
       "      <td>Samsung Galaxy J1. It's my first cell phone an...</td>\n",
       "      <td>What do you think of it? Anything you don't like?</td>\n",
       "    </tr>\n",
       "    <tr>\n",
       "      <th>4</th>\n",
       "      <td>4</td>\n",
       "      <td>Samsung Galaxy J1. It's my first cell phone an...</td>\n",
       "      <td>What do you think of it? Anything you don't like?</td>\n",
       "      <td>I love it. I can't think of anything I don't l...</td>\n",
       "    </tr>\n",
       "  </tbody>\n",
       "</table>\n",
       "</div>"
      ],
      "text/plain": [
       "   Unnamed: 0                                                  0  \\\n",
       "0           0            What kind of phone(s) do you guys have?   \n",
       "1           1  I have a pixel. It's pretty great. Much better...   \n",
       "2           2       Does it really charge all the way in 15 min?   \n",
       "3           3            What kind of phone(s) do you guys have?   \n",
       "4           4  Samsung Galaxy J1. It's my first cell phone an...   \n",
       "\n",
       "                                                   1  \\\n",
       "0  I have a pixel. It's pretty great. Much better...   \n",
       "1       Does it really charge all the way in 15 min?   \n",
       "2  Pretty fast. I've never timed it, but it's und...   \n",
       "3  Samsung Galaxy J1. It's my first cell phone an...   \n",
       "4  What do you think of it? Anything you don't like?   \n",
       "\n",
       "                                                   2  \n",
       "0       Does it really charge all the way in 15 min?  \n",
       "1  Pretty fast. I've never timed it, but it's und...  \n",
       "2  cool. I've been thinking of getting one, my ph...  \n",
       "3  What do you think of it? Anything you don't like?  \n",
       "4  I love it. I can't think of anything I don't l...  "
      ]
     },
     "execution_count": 22,
     "metadata": {},
     "output_type": "execute_result"
    }
   ],
   "source": [
    "reddit_ds.head()"
   ]
  },
  {
   "cell_type": "code",
   "execution_count": null,
   "metadata": {},
   "outputs": [],
   "source": [
    "reddit_ds = reddit_ds.rename(columns={\"0\": \"input\"})"
   ]
  },
  {
   "cell_type": "code",
   "execution_count": null,
   "metadata": {},
   "outputs": [],
   "source": [
    "rg_ds = pd.concat([rg_ds, reddit_ds['input']], ignore_index=True)"
   ]
  },
  {
   "cell_type": "code",
   "execution_count": null,
   "metadata": {},
   "outputs": [],
   "source": [
    "rg_ds.to_csv(RESPONSE_GEN_DS_PATH)"
   ]
  }
 ],
 "metadata": {
  "kernelspec": {
   "display_name": "Python 3 (ipykernel)",
   "language": "python",
   "name": "python3"
  },
  "language_info": {
   "codemirror_mode": {
    "name": "ipython",
    "version": 3
   },
   "file_extension": ".py",
   "mimetype": "text/x-python",
   "name": "python",
   "nbconvert_exporter": "python",
   "pygments_lexer": "ipython3",
   "version": "3.11.6"
  }
 },
 "nbformat": 4,
 "nbformat_minor": 2
}
