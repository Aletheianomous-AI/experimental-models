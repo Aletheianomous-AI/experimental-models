{
 "cells": [
  {
   "cell_type": "markdown",
   "metadata": {},
   "source": [
    "# Generate Keywords Ground Truth\n",
    "This notebook generates the ground truth dataset for search keywords, given user input."
   ]
  },
  {
   "cell_type": "code",
   "execution_count": null,
   "metadata": {},
   "outputs": [],
   "source": [
    "from multiprocessing import Process\n",
    "\n",
    "import const\n",
    "import numpy\n",
    "import pandas as pd\n",
    "import traceback\n",
    "import yake"
   ]
  },
  {
   "cell_type": "code",
   "execution_count": null,
   "metadata": {},
   "outputs": [],
   "source": [
    "squad_ds = pd.read_csv(const.DATASETS_FOLDER + \"squad-train-v2.0.csv\")"
   ]
  },
  {
   "cell_type": "code",
   "execution_count": null,
   "metadata": {},
   "outputs": [],
   "source": [
    "def generate_keywords(squad_ds, start_row, end_row, batch_size = 64):\n",
    "    #print(\"start: \" + str(start_row) + \", end: \" + str(end_row))\n",
    "    row_len = end_row - start_row\n",
    "    if row_len <= batch_size:\n",
    "            kw_extr = yake.KeywordExtractor(n=16)\n",
    "            for row in range(start_row, end_row):\n",
    "                keywords = kw_extr.extract_keywords(squad_ds.loc[row, \"question\"])\n",
    "                if keywords == []:\n",
    "                     print(\"No keywords extracted at row \" + str(row) + \" (question: \" + squad_ds.loc[row, \"question\"] + \")\")\n",
    "                else:\n",
    "                    squad_ds.loc[row, \"search keyword\"] = keywords[0][0]\n",
    "                alt_keywords = []\n",
    "                for item in keywords:\n",
    "                    alt_keywords.append(item[0])\n",
    "                squad_ds.loc[row, \"possible_keywords\"] = str(alt_keywords)\n",
    "            \n",
    "    else:\n",
    "        row_range = end_row - start_row\n",
    "        left_start = start_row\n",
    "        left_end = int((row_range)/2) + left_start\n",
    "        right_start = start_row + int((row_range)/2)\n",
    "        right_end = end_row\n",
    "\n",
    "        #print(\"left_start: \" + str(left_start) + \" left_end: \" + str(left_end) + \" right_start: \" + str(right_start) + \" right_end: \" + str(right_end))\n",
    "        p_left = Process(target=generate_keywords, args=(squad_ds, left_start, left_end, batch_size))\n",
    "        p_right = Process(target=generate_keywords, args=(squad_ds, right_start, right_end, batch_size))\n",
    "        p_left.start()\n",
    "        p_right.start()\n",
    "        p_left.join()\n",
    "        p_right.join()"
   ]
  },
  {
   "cell_type": "code",
   "execution_count": null,
   "metadata": {},
   "outputs": [],
   "source": [
    "squad_ds.head()"
   ]
  },
  {
   "cell_type": "code",
   "execution_count": null,
   "metadata": {},
   "outputs": [],
   "source": [
    "end = len(squad_ds)\n",
    "generate_keywords(squad_ds, 0, end, batch_size=512)"
   ]
  },
  {
   "cell_type": "code",
   "execution_count": null,
   "metadata": {},
   "outputs": [],
   "source": [
    "squad_ds.head()"
   ]
  }
 ],
 "metadata": {
  "kernelspec": {
   "display_name": "Python 3 (ipykernel)",
   "language": "python",
   "name": "python3"
  },
  "language_info": {
   "codemirror_mode": {
    "name": "ipython",
    "version": 3
   },
   "file_extension": ".py",
   "mimetype": "text/x-python",
   "name": "python",
   "nbconvert_exporter": "python",
   "pygments_lexer": "ipython3",
   "version": "3.11.6"
  }
 },
 "nbformat": 4,
 "nbformat_minor": 2
}
