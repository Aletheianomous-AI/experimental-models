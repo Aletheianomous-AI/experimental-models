{
 "cells": [
  {
   "cell_type": "code",
   "execution_count": 1,
   "id": "a54244da-2662-4964-beb9-df14f37fc860",
   "metadata": {},
   "outputs": [],
   "source": [
    "import const\n",
    "import pandas as pd\n",
    "import torch\n",
    "\n",
    "from datasets import Dataset\n",
    "from trl import SFTTrainer\n",
    "from peft import LoraConfig, get_peft_model, prepare_model_for_kbit_training, PeftModel\n",
    "from transformers import AutoModelForCausalLM, AutoTokenizer, BitsAndBytesConfig, pipeline, Trainer, TrainingArguments"
   ]
  },
  {
   "cell_type": "code",
   "execution_count": 2,
   "id": "80821fbf-7d35-47ca-a4e8-881e60511d50",
   "metadata": {},
   "outputs": [],
   "source": [
    "MODEL_OUTPUT_NAME = const.MODELS_FOLDER + \"aletheianomous_ai-keyword_extractor-v0.3.1\""
   ]
  },
  {
   "cell_type": "code",
   "execution_count": 3,
   "id": "72846b5a-82a7-4978-89c1-0cbee68b46c1",
   "metadata": {},
   "outputs": [],
   "source": [
    "bnb_config = BitsAndBytesConfig(\n",
    "    load_in_4bit=True,\n",
    "    bnb_4bit_quant_type=\"nf4\",\n",
    "    bnb_4bit_compute_dtype=torch.bfloat16,\n",
    "    bnb_4bit_use_double_quant=False\n",
    ")"
   ]
  },
  {
   "cell_type": "code",
   "execution_count": 4,
   "id": "edd452b2-793d-4e62-9224-593ae6076d8a",
   "metadata": {},
   "outputs": [
    {
     "data": {
      "application/vnd.jupyter.widget-view+json": {
       "model_id": "38d74c914eed47cb936a856752f976f7",
       "version_major": 2,
       "version_minor": 0
      },
      "text/plain": [
       "Loading checkpoint shards:   0%|          | 0/8 [00:00<?, ?it/s]"
      ]
     },
     "metadata": {},
     "output_type": "display_data"
    }
   ],
   "source": [
    "training_df = pd.read_csv(const.DATASETS_FOLDER + \"squad_ds_keyword_train.csv\")\n",
    "training_df = training_df[0:1000]\n",
    "training_df = training_df.sample(frac=1)\n",
    "zephyr = AutoModelForCausalLM.from_pretrained(\"HuggingFaceH4/zephyr-7b-alpha\", quantization_config=bnb_config, device_map=\"auto\", torch_dtype=torch.bfloat16, trust_remote_code=True)\n",
    "tokenizer = AutoTokenizer.from_pretrained(\"HuggingFaceH4/zephyr-7b-alpha\", trust_remote_code=True)"
   ]
  },
  {
   "cell_type": "code",
   "execution_count": 5,
   "id": "2696640b-7268-484b-b6f5-bad48b51d021",
   "metadata": {},
   "outputs": [
    {
     "data": {
      "text/html": [
       "<div>\n",
       "<style scoped>\n",
       "    .dataframe tbody tr th:only-of-type {\n",
       "        vertical-align: middle;\n",
       "    }\n",
       "\n",
       "    .dataframe tbody tr th {\n",
       "        vertical-align: top;\n",
       "    }\n",
       "\n",
       "    .dataframe thead th {\n",
       "        text-align: right;\n",
       "    }\n",
       "</style>\n",
       "<table border=\"1\" class=\"dataframe\">\n",
       "  <thead>\n",
       "    <tr style=\"text-align: right;\">\n",
       "      <th></th>\n",
       "      <th>Unnamed: 0.1</th>\n",
       "      <th>Unnamed: 0</th>\n",
       "      <th>source</th>\n",
       "      <th>topic</th>\n",
       "      <th>paragraph</th>\n",
       "      <th>question</th>\n",
       "      <th>question_id</th>\n",
       "      <th>is_impossible</th>\n",
       "      <th>answers</th>\n",
       "      <th>expanded_answers</th>\n",
       "      <th>keyword</th>\n",
       "      <th>possible_keywords</th>\n",
       "      <th>is_searchable</th>\n",
       "      <th>text</th>\n",
       "    </tr>\n",
       "  </thead>\n",
       "  <tbody>\n",
       "    <tr>\n",
       "      <th>947</th>\n",
       "      <td>959</td>\n",
       "      <td>959</td>\n",
       "      <td>Squad 2.0</td>\n",
       "      <td>Frédéric_Chopin</td>\n",
       "      <td>Back in Warsaw that year, Chopin heard Niccolò...</td>\n",
       "      <td>Who did Chopin hear play violin in 1829 that p...</td>\n",
       "      <td>56d315d159d6e41400146222</td>\n",
       "      <td>False</td>\n",
       "      <td>Niccolò Paganini</td>\n",
       "      <td>nstrument. On 11 August, three weeks after com...</td>\n",
       "      <td>Chopin hear play violin</td>\n",
       "      <td>['Chopin hear play violin', 'Chopin hear play'...</td>\n",
       "      <td>True</td>\n",
       "      <td>&lt;|system|&gt;\\nYou are a chatbot that assists in ...</td>\n",
       "    </tr>\n",
       "    <tr>\n",
       "      <th>60</th>\n",
       "      <td>60</td>\n",
       "      <td>60</td>\n",
       "      <td>Squad 2.0</td>\n",
       "      <td>Beyoncé</td>\n",
       "      <td>Beyoncé attended St. Mary's Elementary School ...</td>\n",
       "      <td>Which song did Beyonce sing to win a competiti...</td>\n",
       "      <td>56bf76ef3aeaaa14008c9667</td>\n",
       "      <td>False</td>\n",
       "      <td>Imagine</td>\n",
       "      <td>interest in music and performing continued af...</td>\n",
       "      <td>song Beyonce sang to win a competition at age</td>\n",
       "      <td>['song did Beyonce sing to win a competition a...</td>\n",
       "      <td>True</td>\n",
       "      <td>&lt;|system|&gt;\\nYou are a chatbot that assists in ...</td>\n",
       "    </tr>\n",
       "    <tr>\n",
       "      <th>443</th>\n",
       "      <td>455</td>\n",
       "      <td>455</td>\n",
       "      <td>Squad 2.0</td>\n",
       "      <td>Beyoncé</td>\n",
       "      <td>Beyoncé names Michael Jackson as her major mus...</td>\n",
       "      <td>To whom did Beyonce credit as her major influe...</td>\n",
       "      <td>56beba293aeaaa14008c92ef</td>\n",
       "      <td>False</td>\n",
       "      <td>Michael Jackson</td>\n",
       "      <td>said, \"if it wasn't for Michael Jackson, I wou...</td>\n",
       "      <td>Beyonce major influence on her music</td>\n",
       "      <td>['Beyonce credit as her major influence on her...</td>\n",
       "      <td>True</td>\n",
       "      <td>&lt;|system|&gt;\\nYou are a chatbot that assists in ...</td>\n",
       "    </tr>\n",
       "    <tr>\n",
       "      <th>276</th>\n",
       "      <td>276</td>\n",
       "      <td>276</td>\n",
       "      <td>Squad 2.0</td>\n",
       "      <td>Beyoncé</td>\n",
       "      <td>In January 2013, Destiny's Child released Love...</td>\n",
       "      <td>What is the name of Beyoncé's documentary film?</td>\n",
       "      <td>56d4c6b02ccc5a1400d83226</td>\n",
       "      <td>False</td>\n",
       "      <td>Life Is But a Dream</td>\n",
       "      <td>bama's second inauguration in Washington, D.C....</td>\n",
       "      <td>Beyoncé documentary film</td>\n",
       "      <td>['Beyoncé documentary film', 'Beyoncé document...</td>\n",
       "      <td>True</td>\n",
       "      <td>&lt;|system|&gt;\\nYou are a chatbot that assists in ...</td>\n",
       "    </tr>\n",
       "    <tr>\n",
       "      <th>217</th>\n",
       "      <td>217</td>\n",
       "      <td>217</td>\n",
       "      <td>Squad 2.0</td>\n",
       "      <td>Beyoncé</td>\n",
       "      <td>Beyoncé announced a hiatus from her music care...</td>\n",
       "      <td>Which famous landmark did Beyonce see in China?</td>\n",
       "      <td>56be97c73aeaaa14008c912e</td>\n",
       "      <td>False</td>\n",
       "      <td>the Great Wall of China</td>\n",
       "      <td>isit multiple European cities, the Great Wall ...</td>\n",
       "      <td>famous landmark Beyonce saw in China</td>\n",
       "      <td>['famous landmark did Beyonce see in China', '...</td>\n",
       "      <td>True</td>\n",
       "      <td>&lt;|system|&gt;\\nYou are a chatbot that assists in ...</td>\n",
       "    </tr>\n",
       "  </tbody>\n",
       "</table>\n",
       "</div>"
      ],
      "text/plain": [
       "     Unnamed: 0.1  Unnamed: 0     source            topic  \\\n",
       "947           959         959  Squad 2.0  Frédéric_Chopin   \n",
       "60             60          60  Squad 2.0          Beyoncé   \n",
       "443           455         455  Squad 2.0          Beyoncé   \n",
       "276           276         276  Squad 2.0          Beyoncé   \n",
       "217           217         217  Squad 2.0          Beyoncé   \n",
       "\n",
       "                                             paragraph  \\\n",
       "947  Back in Warsaw that year, Chopin heard Niccolò...   \n",
       "60   Beyoncé attended St. Mary's Elementary School ...   \n",
       "443  Beyoncé names Michael Jackson as her major mus...   \n",
       "276  In January 2013, Destiny's Child released Love...   \n",
       "217  Beyoncé announced a hiatus from her music care...   \n",
       "\n",
       "                                              question  \\\n",
       "947  Who did Chopin hear play violin in 1829 that p...   \n",
       "60   Which song did Beyonce sing to win a competiti...   \n",
       "443  To whom did Beyonce credit as her major influe...   \n",
       "276    What is the name of Beyoncé's documentary film?   \n",
       "217    Which famous landmark did Beyonce see in China?   \n",
       "\n",
       "                  question_id is_impossible                  answers  \\\n",
       "947  56d315d159d6e41400146222         False         Niccolò Paganini   \n",
       "60   56bf76ef3aeaaa14008c9667         False                  Imagine   \n",
       "443  56beba293aeaaa14008c92ef         False          Michael Jackson   \n",
       "276  56d4c6b02ccc5a1400d83226         False      Life Is But a Dream   \n",
       "217  56be97c73aeaaa14008c912e         False  the Great Wall of China   \n",
       "\n",
       "                                      expanded_answers  \\\n",
       "947  nstrument. On 11 August, three weeks after com...   \n",
       "60    interest in music and performing continued af...   \n",
       "443  said, \"if it wasn't for Michael Jackson, I wou...   \n",
       "276  bama's second inauguration in Washington, D.C....   \n",
       "217  isit multiple European cities, the Great Wall ...   \n",
       "\n",
       "                                           keyword  \\\n",
       "947                        Chopin hear play violin   \n",
       "60   song Beyonce sang to win a competition at age   \n",
       "443           Beyonce major influence on her music   \n",
       "276                       Beyoncé documentary film   \n",
       "217           famous landmark Beyonce saw in China   \n",
       "\n",
       "                                     possible_keywords is_searchable  \\\n",
       "947  ['Chopin hear play violin', 'Chopin hear play'...          True   \n",
       "60   ['song did Beyonce sing to win a competition a...          True   \n",
       "443  ['Beyonce credit as her major influence on her...          True   \n",
       "276  ['Beyoncé documentary film', 'Beyoncé document...          True   \n",
       "217  ['famous landmark did Beyonce see in China', '...          True   \n",
       "\n",
       "                                                  text  \n",
       "947  <|system|>\\nYou are a chatbot that assists in ...  \n",
       "60   <|system|>\\nYou are a chatbot that assists in ...  \n",
       "443  <|system|>\\nYou are a chatbot that assists in ...  \n",
       "276  <|system|>\\nYou are a chatbot that assists in ...  \n",
       "217  <|system|>\\nYou are a chatbot that assists in ...  "
      ]
     },
     "execution_count": 5,
     "metadata": {},
     "output_type": "execute_result"
    }
   ],
   "source": [
    "training_df.head()"
   ]
  },
  {
   "cell_type": "code",
   "execution_count": 6,
   "id": "1f93d353-fc1f-4d40-940e-f176f073c017",
   "metadata": {},
   "outputs": [],
   "source": [
    "training_ds = Dataset.from_pandas(training_df)"
   ]
  },
  {
   "cell_type": "code",
   "execution_count": 7,
   "id": "ed05c693-329e-4ecd-82b3-7ec0e6d82318",
   "metadata": {},
   "outputs": [
    {
     "data": {
      "text/plain": [
       "1000"
      ]
     },
     "execution_count": 7,
     "metadata": {},
     "output_type": "execute_result"
    }
   ],
   "source": [
    "len(training_ds)"
   ]
  },
  {
   "cell_type": "code",
   "execution_count": 8,
   "id": "1756321b-5f3d-4612-b19c-5ed385b6b89d",
   "metadata": {},
   "outputs": [
    {
     "data": {
      "text/plain": [
       "1000"
      ]
     },
     "execution_count": 8,
     "metadata": {},
     "output_type": "execute_result"
    }
   ],
   "source": [
    "len(training_df)"
   ]
  },
  {
   "cell_type": "code",
   "execution_count": 9,
   "id": "eef4f04a-4c03-4ebb-bdc7-4c6818d55319",
   "metadata": {},
   "outputs": [],
   "source": [
    "zephyr.config.use_cache = False\n",
    "zephyr.config.pretraining_tp = 1\n",
    "zephyr.gradient_checkpointing_enable()"
   ]
  },
  {
   "cell_type": "code",
   "execution_count": 10,
   "id": "1c4ddef1-149b-40a4-8417-cafbe64e6801",
   "metadata": {},
   "outputs": [
    {
     "data": {
      "text/plain": [
       "MistralForCausalLM(\n",
       "  (model): MistralModel(\n",
       "    (embed_tokens): Embedding(32000, 4096, padding_idx=2)\n",
       "    (layers): ModuleList(\n",
       "      (0-31): 32 x MistralDecoderLayer(\n",
       "        (self_attn): MistralSdpaAttention(\n",
       "          (q_proj): Linear4bit(in_features=4096, out_features=4096, bias=False)\n",
       "          (k_proj): Linear4bit(in_features=4096, out_features=1024, bias=False)\n",
       "          (v_proj): Linear4bit(in_features=4096, out_features=1024, bias=False)\n",
       "          (o_proj): Linear4bit(in_features=4096, out_features=4096, bias=False)\n",
       "          (rotary_emb): MistralRotaryEmbedding()\n",
       "        )\n",
       "        (mlp): MistralMLP(\n",
       "          (gate_proj): Linear4bit(in_features=4096, out_features=14336, bias=False)\n",
       "          (up_proj): Linear4bit(in_features=4096, out_features=14336, bias=False)\n",
       "          (down_proj): Linear4bit(in_features=14336, out_features=4096, bias=False)\n",
       "          (act_fn): SiLU()\n",
       "        )\n",
       "        (input_layernorm): MistralRMSNorm()\n",
       "        (post_attention_layernorm): MistralRMSNorm()\n",
       "      )\n",
       "    )\n",
       "    (norm): MistralRMSNorm()\n",
       "  )\n",
       "  (lm_head): Linear(in_features=4096, out_features=32000, bias=False)\n",
       ")"
      ]
     },
     "execution_count": 10,
     "metadata": {},
     "output_type": "execute_result"
    }
   ],
   "source": [
    "zephyr"
   ]
  },
  {
   "cell_type": "code",
   "execution_count": 11,
   "id": "8e4a9531-3426-493a-acac-c0e9174a4cdf",
   "metadata": {},
   "outputs": [],
   "source": [
    "tokenizer.padding_side = 'right'\n",
    "tokenizer.pad_token = tokenizer.unk_token\n",
    "tokenizer.add_eos_token = True\n",
    "zephyr = prepare_model_for_kbit_training(zephyr)\n",
    "peft_config = LoraConfig(\n",
    "    lora_alpha=16,\n",
    "    lora_dropout=0.1,\n",
    "    r=64,\n",
    "    bias=\"none\",\n",
    "    task_type=\"CAUSAL_LM\",\n",
    "    target_modules=[\"q_proj\", \"k_proj\", \"v_proj\", \"o_proj\",\"gate_proj\"]\n",
    ")"
   ]
  },
  {
   "cell_type": "code",
   "execution_count": 12,
   "id": "996b25c3-00d6-4c5b-b415-04a0db340258",
   "metadata": {},
   "outputs": [],
   "source": [
    "zephyr = get_peft_model(zephyr, peft_config)"
   ]
  },
  {
   "cell_type": "code",
   "execution_count": 13,
   "id": "baa8a927-68c7-47de-99b2-11086f4da0c5",
   "metadata": {},
   "outputs": [
    {
     "data": {
      "application/vnd.jupyter.widget-view+json": {
       "model_id": "6855c416dd6e4f7ba87602d2d8e951fb",
       "version_major": 2,
       "version_minor": 0
      },
      "text/plain": [
       "Map:   0%|          | 0/1000 [00:00<?, ? examples/s]"
      ]
     },
     "metadata": {},
     "output_type": "display_data"
    },
    {
     "name": "stderr",
     "output_type": "stream",
     "text": [
      "/home/sp15-chatbot/Documents/experimental-models/.env/lib/python3.10/site-packages/accelerate/accelerator.py:436: FutureWarning: Passing the following arguments to `Accelerator` is deprecated and will be removed in version 1.0 of Accelerate: dict_keys(['dispatch_batches', 'split_batches', 'even_batches', 'use_seedable_sampler']). Please pass an `accelerate.DataLoaderConfiguration` instead: \n",
      "dataloader_config = DataLoaderConfiguration(dispatch_batches=None, split_batches=False, even_batches=True, use_seedable_sampler=True)\n",
      "  warnings.warn(\n"
     ]
    }
   ],
   "source": [
    "training_args = TrainingArguments(\n",
    "    output_dir = const.MODELS_FOLDER + \"/keyword-extractor\",\n",
    "    per_device_train_batch_size = 4,\n",
    "    optim=\"paged_adamw_32bit\",\n",
    "    save_steps=25,\n",
    "    logging_steps=25,\n",
    "    learning_rate=1e-4,\n",
    "    warmup_ratio=0.03,\n",
    "    weight_decay=0.001,\n",
    "    fp16=False,\n",
    "    bf16=False,\n",
    "    max_grad_norm = 0.3,\n",
    "    max_steps=-1,\n",
    "    group_by_length=True,\n",
    "    lr_scheduler_type=\"constant\",\n",
    "    num_train_epochs=3,\n",
    ")\n",
    "\n",
    "trainer = SFTTrainer(\n",
    "    model=zephyr,\n",
    "    train_dataset=training_ds, \n",
    "    dataset_text_field=\"text\",\n",
    "    max_seq_length=2048,\n",
    "    tokenizer=tokenizer,\n",
    "    args=training_args,\n",
    "    packing=False\n",
    ")\n",
    "\n",
    "#trainer = Trainer(\n",
    "#    model=zephyr, \n",
    "#    train_dataset=training_ds['text'],\n",
    "#    tokenizer=tokenizer,\n",
    "#    args=training_args\n",
    "#)\n"
   ]
  },
  {
   "cell_type": "code",
   "execution_count": null,
   "id": "d5708682-41ef-4672-b30c-6602b52d8cf3",
   "metadata": {},
   "outputs": [
    {
     "name": "stderr",
     "output_type": "stream",
     "text": [
      "/home/sp15-chatbot/Documents/experimental-models/.env/lib/python3.10/site-packages/torch/utils/checkpoint.py:460: UserWarning: torch.utils.checkpoint: please pass in use_reentrant=True or use_reentrant=False explicitly. The default value of use_reentrant will be updated to be False in the future. To maintain current behavior, pass use_reentrant=True. It is recommended that you use use_reentrant=False. Refer to docs for more details on the differences between the two variants.\n",
      "  warnings.warn(\n"
     ]
    },
    {
     "data": {
      "text/html": [
       "\n",
       "    <div>\n",
       "      \n",
       "      <progress value='450' max='750' style='width:300px; height:20px; vertical-align: middle;'></progress>\n",
       "      [450/750 15:36 < 10:27, 0.48 it/s, Epoch 1.80/3]\n",
       "    </div>\n",
       "    <table border=\"1\" class=\"dataframe\">\n",
       "  <thead>\n",
       " <tr style=\"text-align: left;\">\n",
       "      <th>Step</th>\n",
       "      <th>Training Loss</th>\n",
       "    </tr>\n",
       "  </thead>\n",
       "  <tbody>\n",
       "    <tr>\n",
       "      <td>25</td>\n",
       "      <td>0.932700</td>\n",
       "    </tr>\n",
       "    <tr>\n",
       "      <td>50</td>\n",
       "      <td>0.456600</td>\n",
       "    </tr>\n",
       "    <tr>\n",
       "      <td>75</td>\n",
       "      <td>0.601500</td>\n",
       "    </tr>\n",
       "    <tr>\n",
       "      <td>100</td>\n",
       "      <td>0.391800</td>\n",
       "    </tr>\n",
       "    <tr>\n",
       "      <td>125</td>\n",
       "      <td>0.530700</td>\n",
       "    </tr>\n",
       "    <tr>\n",
       "      <td>150</td>\n",
       "      <td>0.385100</td>\n",
       "    </tr>\n",
       "    <tr>\n",
       "      <td>175</td>\n",
       "      <td>0.493000</td>\n",
       "    </tr>\n",
       "    <tr>\n",
       "      <td>200</td>\n",
       "      <td>0.360000</td>\n",
       "    </tr>\n",
       "    <tr>\n",
       "      <td>225</td>\n",
       "      <td>0.544500</td>\n",
       "    </tr>\n",
       "    <tr>\n",
       "      <td>250</td>\n",
       "      <td>0.379700</td>\n",
       "    </tr>\n",
       "    <tr>\n",
       "      <td>275</td>\n",
       "      <td>0.409000</td>\n",
       "    </tr>\n",
       "    <tr>\n",
       "      <td>300</td>\n",
       "      <td>0.269300</td>\n",
       "    </tr>\n",
       "    <tr>\n",
       "      <td>325</td>\n",
       "      <td>0.401800</td>\n",
       "    </tr>\n",
       "    <tr>\n",
       "      <td>350</td>\n",
       "      <td>0.279500</td>\n",
       "    </tr>\n",
       "    <tr>\n",
       "      <td>375</td>\n",
       "      <td>0.428800</td>\n",
       "    </tr>\n",
       "    <tr>\n",
       "      <td>400</td>\n",
       "      <td>0.278500</td>\n",
       "    </tr>\n",
       "    <tr>\n",
       "      <td>425</td>\n",
       "      <td>0.416800</td>\n",
       "    </tr>\n",
       "  </tbody>\n",
       "</table><p>"
      ],
      "text/plain": [
       "<IPython.core.display.HTML object>"
      ]
     },
     "metadata": {},
     "output_type": "display_data"
    },
    {
     "name": "stderr",
     "output_type": "stream",
     "text": [
      "/home/sp15-chatbot/Documents/experimental-models/.env/lib/python3.10/site-packages/torch/utils/checkpoint.py:460: UserWarning: torch.utils.checkpoint: please pass in use_reentrant=True or use_reentrant=False explicitly. The default value of use_reentrant will be updated to be False in the future. To maintain current behavior, pass use_reentrant=True. It is recommended that you use use_reentrant=False. Refer to docs for more details on the differences between the two variants.\n",
      "  warnings.warn(\n",
      "/home/sp15-chatbot/Documents/experimental-models/.env/lib/python3.10/site-packages/torch/utils/checkpoint.py:460: UserWarning: torch.utils.checkpoint: please pass in use_reentrant=True or use_reentrant=False explicitly. The default value of use_reentrant will be updated to be False in the future. To maintain current behavior, pass use_reentrant=True. It is recommended that you use use_reentrant=False. Refer to docs for more details on the differences between the two variants.\n",
      "  warnings.warn(\n",
      "/home/sp15-chatbot/Documents/experimental-models/.env/lib/python3.10/site-packages/torch/utils/checkpoint.py:460: UserWarning: torch.utils.checkpoint: please pass in use_reentrant=True or use_reentrant=False explicitly. The default value of use_reentrant will be updated to be False in the future. To maintain current behavior, pass use_reentrant=True. It is recommended that you use use_reentrant=False. Refer to docs for more details on the differences between the two variants.\n",
      "  warnings.warn(\n",
      "/home/sp15-chatbot/Documents/experimental-models/.env/lib/python3.10/site-packages/torch/utils/checkpoint.py:460: UserWarning: torch.utils.checkpoint: please pass in use_reentrant=True or use_reentrant=False explicitly. The default value of use_reentrant will be updated to be False in the future. To maintain current behavior, pass use_reentrant=True. It is recommended that you use use_reentrant=False. Refer to docs for more details on the differences between the two variants.\n",
      "  warnings.warn(\n",
      "/home/sp15-chatbot/Documents/experimental-models/.env/lib/python3.10/site-packages/torch/utils/checkpoint.py:460: UserWarning: torch.utils.checkpoint: please pass in use_reentrant=True or use_reentrant=False explicitly. The default value of use_reentrant will be updated to be False in the future. To maintain current behavior, pass use_reentrant=True. It is recommended that you use use_reentrant=False. Refer to docs for more details on the differences between the two variants.\n",
      "  warnings.warn(\n",
      "/home/sp15-chatbot/Documents/experimental-models/.env/lib/python3.10/site-packages/torch/utils/checkpoint.py:460: UserWarning: torch.utils.checkpoint: please pass in use_reentrant=True or use_reentrant=False explicitly. The default value of use_reentrant will be updated to be False in the future. To maintain current behavior, pass use_reentrant=True. It is recommended that you use use_reentrant=False. Refer to docs for more details on the differences between the two variants.\n",
      "  warnings.warn(\n",
      "/home/sp15-chatbot/Documents/experimental-models/.env/lib/python3.10/site-packages/torch/utils/checkpoint.py:460: UserWarning: torch.utils.checkpoint: please pass in use_reentrant=True or use_reentrant=False explicitly. The default value of use_reentrant will be updated to be False in the future. To maintain current behavior, pass use_reentrant=True. It is recommended that you use use_reentrant=False. Refer to docs for more details on the differences between the two variants.\n",
      "  warnings.warn(\n",
      "/home/sp15-chatbot/Documents/experimental-models/.env/lib/python3.10/site-packages/torch/utils/checkpoint.py:460: UserWarning: torch.utils.checkpoint: please pass in use_reentrant=True or use_reentrant=False explicitly. The default value of use_reentrant will be updated to be False in the future. To maintain current behavior, pass use_reentrant=True. It is recommended that you use use_reentrant=False. Refer to docs for more details on the differences between the two variants.\n",
      "  warnings.warn(\n",
      "/home/sp15-chatbot/Documents/experimental-models/.env/lib/python3.10/site-packages/torch/utils/checkpoint.py:460: UserWarning: torch.utils.checkpoint: please pass in use_reentrant=True or use_reentrant=False explicitly. The default value of use_reentrant will be updated to be False in the future. To maintain current behavior, pass use_reentrant=True. It is recommended that you use use_reentrant=False. Refer to docs for more details on the differences between the two variants.\n",
      "  warnings.warn(\n",
      "/home/sp15-chatbot/Documents/experimental-models/.env/lib/python3.10/site-packages/torch/utils/checkpoint.py:460: UserWarning: torch.utils.checkpoint: please pass in use_reentrant=True or use_reentrant=False explicitly. The default value of use_reentrant will be updated to be False in the future. To maintain current behavior, pass use_reentrant=True. It is recommended that you use use_reentrant=False. Refer to docs for more details on the differences between the two variants.\n",
      "  warnings.warn(\n",
      "/home/sp15-chatbot/Documents/experimental-models/.env/lib/python3.10/site-packages/torch/utils/checkpoint.py:460: UserWarning: torch.utils.checkpoint: please pass in use_reentrant=True or use_reentrant=False explicitly. The default value of use_reentrant will be updated to be False in the future. To maintain current behavior, pass use_reentrant=True. It is recommended that you use use_reentrant=False. Refer to docs for more details on the differences between the two variants.\n",
      "  warnings.warn(\n",
      "/home/sp15-chatbot/Documents/experimental-models/.env/lib/python3.10/site-packages/torch/utils/checkpoint.py:460: UserWarning: torch.utils.checkpoint: please pass in use_reentrant=True or use_reentrant=False explicitly. The default value of use_reentrant will be updated to be False in the future. To maintain current behavior, pass use_reentrant=True. It is recommended that you use use_reentrant=False. Refer to docs for more details on the differences between the two variants.\n",
      "  warnings.warn(\n",
      "/home/sp15-chatbot/Documents/experimental-models/.env/lib/python3.10/site-packages/torch/utils/checkpoint.py:460: UserWarning: torch.utils.checkpoint: please pass in use_reentrant=True or use_reentrant=False explicitly. The default value of use_reentrant will be updated to be False in the future. To maintain current behavior, pass use_reentrant=True. It is recommended that you use use_reentrant=False. Refer to docs for more details on the differences between the two variants.\n",
      "  warnings.warn(\n",
      "/home/sp15-chatbot/Documents/experimental-models/.env/lib/python3.10/site-packages/torch/utils/checkpoint.py:460: UserWarning: torch.utils.checkpoint: please pass in use_reentrant=True or use_reentrant=False explicitly. The default value of use_reentrant will be updated to be False in the future. To maintain current behavior, pass use_reentrant=True. It is recommended that you use use_reentrant=False. Refer to docs for more details on the differences between the two variants.\n",
      "  warnings.warn(\n",
      "/home/sp15-chatbot/Documents/experimental-models/.env/lib/python3.10/site-packages/torch/utils/checkpoint.py:460: UserWarning: torch.utils.checkpoint: please pass in use_reentrant=True or use_reentrant=False explicitly. The default value of use_reentrant will be updated to be False in the future. To maintain current behavior, pass use_reentrant=True. It is recommended that you use use_reentrant=False. Refer to docs for more details on the differences between the two variants.\n",
      "  warnings.warn(\n",
      "/home/sp15-chatbot/Documents/experimental-models/.env/lib/python3.10/site-packages/torch/utils/checkpoint.py:460: UserWarning: torch.utils.checkpoint: please pass in use_reentrant=True or use_reentrant=False explicitly. The default value of use_reentrant will be updated to be False in the future. To maintain current behavior, pass use_reentrant=True. It is recommended that you use use_reentrant=False. Refer to docs for more details on the differences between the two variants.\n",
      "  warnings.warn(\n",
      "/home/sp15-chatbot/Documents/experimental-models/.env/lib/python3.10/site-packages/torch/utils/checkpoint.py:460: UserWarning: torch.utils.checkpoint: please pass in use_reentrant=True or use_reentrant=False explicitly. The default value of use_reentrant will be updated to be False in the future. To maintain current behavior, pass use_reentrant=True. It is recommended that you use use_reentrant=False. Refer to docs for more details on the differences between the two variants.\n",
      "  warnings.warn(\n"
     ]
    }
   ],
   "source": [
    "trainer.train()"
   ]
  },
  {
   "cell_type": "code",
   "execution_count": null,
   "id": "5ce27b13-15fe-4c17-b8f2-a92217ad1b60",
   "metadata": {},
   "outputs": [],
   "source": [
    "trainer.model.save_pretrained(MODEL_OUTPUT_NAME)\n",
    "tokenizer.save_pretrained(MODEL_OUTPUT_NAME + \"/tokenizer\")\n",
    "zephyr.config.use_cache = True"
   ]
  }
 ],
 "metadata": {
  "kernelspec": {
   "display_name": "experimental-env",
   "language": "python",
   "name": "experimental-env"
  },
  "language_info": {
   "codemirror_mode": {
    "name": "ipython",
    "version": 3
   },
   "file_extension": ".py",
   "mimetype": "text/x-python",
   "name": "python",
   "nbconvert_exporter": "python",
   "pygments_lexer": "ipython3",
   "version": "3.10.12"
  }
 },
 "nbformat": 4,
 "nbformat_minor": 5
}
