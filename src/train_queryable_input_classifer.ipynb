{
 "cells": [
  {
   "cell_type": "markdown",
   "id": "8116a446-0e60-4c8b-a5ff-db4385dceb56",
   "metadata": {},
   "source": [
    "# Train Queryable Input Classifier\n",
    "This notebook trains an LSTM model that classifies whether the user's input can be queryable, in that the model should extract keywords to look online via the citation fetcher class."
   ]
  },
  {
   "cell_type": "code",
   "execution_count": null,
   "id": "bfda3faf-9cd4-4bc7-82af-c7f2a5d02239",
   "metadata": {},
   "outputs": [],
   "source": [
    "from torchtext import data\n",
    "\n",
    "import torch\n",
    "import torch.nn as nn\n",
    "import random\n",
    "import spacy\n",
    "import subprocess"
   ]
  },
  {
   "cell_type": "code",
   "execution_count": null,
   "id": "96acec81-6afe-4ae8-8eea-bd9041642904",
   "metadata": {},
   "outputs": [],
   "source": [
    "TRAINING_DS_PATH = const.DATASETS_FOLDER + \"tqi_training.csv\"\n",
    "TESTING_DS_PATH = const.DATASETS_FOLDER + \"tqi_testing.csv\"\n",
    "\n",
    "FEATURE_COL = \"input\"\n",
    "LABEL_COL = \"is_queryable\""
   ]
  },
  {
   "cell_type": "code",
   "execution_count": null,
   "id": "077b9106-2375-4529-be2b-01473526d003",
   "metadata": {},
   "outputs": [],
   "source": [
    "CORPUS_SIZE = 25000\n",
    "LEARNING_RATE = 1e-4\n",
    "BATCH_SIZE = 128\n",
    "EPOCHS = 5\n",
    "\n",
    "EMBEDDING_DIM = 256\n",
    "HIDDEN_DIM = 512\n",
    "OUTPUT_DIM = 1"
   ]
  },
  {
   "cell_type": "code",
   "execution_count": null,
   "id": "b7e16f58-101b-4558-9f65-94f2c1c8cfba",
   "metadata": {},
   "outputs": [],
   "source": [
    "print(\"Downloading Spacy Tokenizer...\")\n",
    "subprocess.run(\"python3 -m spacy download_en_core_web_sm\")"
   ]
  },
  {
   "cell_type": "code",
   "execution_count": null,
   "id": "bd6e77ef-7a71-40ee-8a3b-1b1e83acce19",
   "metadata": {},
   "outputs": [],
   "source": [
    "training_df = pd.read_csv(TRAINING_DS_PATH)\n",
    "testing_df = pd.read_csv(TESTING_DS_PATH)\n",
    "\n",
    "training_df = training_df.sample(frac=1)"
   ]
  },
  {
   "cell_type": "code",
   "execution_count": null,
   "id": "818fd65e-1ec3-4e2f-9b3f-b3849b2a5f1c",
   "metadata": {},
   "outputs": [],
   "source": [
    "torch.backends.cudnn.deterministic=True"
   ]
  },
  {
   "cell_type": "code",
   "execution_count": null,
   "id": "5a54a6ca-1f51-4da9-a167-ca44330e6076",
   "metadata": {},
   "outputs": [],
   "source": [
    "class TQIModel(nn.Module):\n",
    "    \n",
    "    def __init__(self, input_dim, embedding_dim, hidden_dim, output_dim):\n",
    "        super().__init__()\n",
    "\n",
    "        self.embedding = nn.Embedding(input_dim, embedding_dim)\n",
    "        self.rnn = nn.LSTM(embedding_dim, hidden_dim, num_layers=2)\n",
    "        self.fc = nn.Linear(hidden_dim, output_dim)\n",
    "\n",
    "    def forward(self, text):\n",
    "        embedded_text = self.embedding(text)\n",
    "        _, hidden = self.rnn(embedded_text)\n",
    "        output = self.fc(hidden.squeeze(0)).view(-1)\n",
    "        return output\n",
    "        "
   ]
  }
 ],
 "metadata": {
  "kernelspec": {
   "display_name": "Python 3 (ipykernel)",
   "language": "python",
   "name": "python3"
  },
  "language_info": {
   "codemirror_mode": {
    "name": "ipython",
    "version": 3
   },
   "file_extension": ".py",
   "mimetype": "text/x-python",
   "name": "python",
   "nbconvert_exporter": "python",
   "pygments_lexer": "ipython3",
   "version": "3.10.12"
  }
 },
 "nbformat": 4,
 "nbformat_minor": 5
}
