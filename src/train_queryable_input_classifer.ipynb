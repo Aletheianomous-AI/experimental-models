{
 "cells": [
  {
   "cell_type": "markdown",
   "id": "8116a446-0e60-4c8b-a5ff-db4385dceb56",
   "metadata": {},
   "source": [
    "# Train Queryable Input Classifier\n",
    "This notebook trains an LSTM model that classifies whether the user's input can be queryable, in that the model should extract keywords to look online via the citation fetcher class."
   ]
  },
  {
   "cell_type": "code",
   "execution_count": 1,
   "id": "bfda3faf-9cd4-4bc7-82af-c7f2a5d02239",
   "metadata": {},
   "outputs": [],
   "source": [
    "from datasets import Dataset, DatasetDict\n",
    "from torchtext import data, datasets\n",
    "\n",
    "import const\n",
    "import datasets\n",
    "import pandas as pd\n",
    "import torchtext\n",
    "import torch\n",
    "import torch.nn as nn\n",
    "import random\n",
    "import spacy\n",
    "import subprocess"
   ]
  },
  {
   "cell_type": "code",
   "execution_count": 2,
   "id": "04117aea-a4cb-43a3-a36e-26416fdc52de",
   "metadata": {},
   "outputs": [],
   "source": [
    "TEXT = data.Field(tokenize=\"spacy\", tokenizer_language=\"en_core_web_sm\")"
   ]
  },
  {
   "cell_type": "code",
   "execution_count": 3,
   "id": "a782d70e-d84a-4320-9d01-ed601dc761a0",
   "metadata": {},
   "outputs": [],
   "source": [
    "LABEL = data.LabelField(dtype= torch.long)"
   ]
  },
  {
   "cell_type": "code",
   "execution_count": 4,
   "id": "96acec81-6afe-4ae8-8eea-bd9041642904",
   "metadata": {},
   "outputs": [],
   "source": [
    "TRAINING_DS_PATH = const.DATASETS_FOLDER + \"QI_training.csv\"\n",
    "TESTING_DS_PATH = const.DATASETS_FOLDER + \"QI_testing.csv\"\n",
    "\n",
    "FEATURE_COL = \"question\"\n",
    "LABEL_COL = \"is_searchable\""
   ]
  },
  {
   "cell_type": "code",
   "execution_count": 5,
   "id": "077b9106-2375-4529-be2b-01473526d003",
   "metadata": {},
   "outputs": [],
   "source": [
    "# MODEL PARAMETERS\n",
    "CORPUS_SIZE = 25000\n",
    "LEARNING_RATE = 1e-4\n",
    "BATCH_SIZE = 128\n",
    "EPOCHS = 10\n",
    "\n",
    "EMBEDDING_DIM = 256\n",
    "HIDDEN_DIM = 512\n",
    "OUTPUT_DIM = 2\n",
    "DEVICE = \"auto\""
   ]
  },
  {
   "cell_type": "code",
   "execution_count": 6,
   "id": "addc7cd2-0a7a-40cf-a895-7953681d5897",
   "metadata": {},
   "outputs": [],
   "source": [
    "MODEL_SAVE_PATH = (const.MODELS_FOLDER + \n",
    "       \"aletheianomous_ai-QI_class-v0.1.pt\")"
   ]
  },
  {
   "cell_type": "code",
   "execution_count": 7,
   "id": "418e5823-c70b-4b84-800f-043549ab940c",
   "metadata": {},
   "outputs": [],
   "source": [
    "if DEVICE == \"auto\":\n",
    "    if torch.cuda.is_available():\n",
    "        selected_device = \"cuda\"\n",
    "    else:\n",
    "        selected_device = \"cpu\"\n",
    "else:\n",
    "    selected_device = DEVICE"
   ]
  },
  {
   "cell_type": "code",
   "execution_count": 8,
   "id": "bd6e77ef-7a71-40ee-8a3b-1b1e83acce19",
   "metadata": {},
   "outputs": [
    {
     "name": "stderr",
     "output_type": "stream",
     "text": [
      "/tmp/ipykernel_445893/3303508223.py:1: DtypeWarning: Columns (2,3,4,6,7,8,9,14) have mixed types. Specify dtype option on import or set low_memory=False.\n",
      "  training_df = pd.read_csv(TRAINING_DS_PATH)\n"
     ]
    }
   ],
   "source": [
    "training_df = pd.read_csv(TRAINING_DS_PATH)\n",
    "testing_df = pd.read_csv(TESTING_DS_PATH)\n",
    "\n",
    "training_df = training_df.sample(frac=1)"
   ]
  },
  {
   "cell_type": "code",
   "execution_count": 9,
   "id": "d1ce62d7-d26e-4725-908d-eb285e52c552",
   "metadata": {},
   "outputs": [],
   "source": [
    "training_ds = Dataset.from_pandas(training_df)\n",
    "validation_ds = Dataset.from_pandas(testing_df)"
   ]
  },
  {
   "cell_type": "code",
   "execution_count": 10,
   "id": "818fd65e-1ec3-4e2f-9b3f-b3849b2a5f1c",
   "metadata": {},
   "outputs": [],
   "source": [
    "torch.backends.cudnn.deterministic=True"
   ]
  },
  {
   "cell_type": "code",
   "execution_count": 11,
   "id": "148d9983-9f84-43ef-b8dc-6b30f9437c89",
   "metadata": {},
   "outputs": [],
   "source": [
    "positive_cl_count = len(training_df[training_df[LABEL_COL] == True])\n",
    "negative_cl_count = len(training_df[training_df[LABEL_COL] == False])"
   ]
  },
  {
   "cell_type": "code",
   "execution_count": 12,
   "id": "01b87916-6d57-42bc-97d2-ec346a639118",
   "metadata": {},
   "outputs": [
    {
     "name": "stdout",
     "output_type": "stream",
     "text": [
      "165319\n",
      "39407\n"
     ]
    }
   ],
   "source": [
    "print(positive_cl_count)\n",
    "print(negative_cl_count)"
   ]
  },
  {
   "cell_type": "code",
   "execution_count": 13,
   "id": "b2cb504e-e75e-4212-944d-67072825056c",
   "metadata": {},
   "outputs": [],
   "source": [
    "training_len = len(training_df)\n",
    "positive_weight = positive_cl_count / training_len\n",
    "negative_weight = negative_cl_count / training_len\n",
    "loss_weights = [positive_weight, negative_weight]"
   ]
  },
  {
   "cell_type": "code",
   "execution_count": 14,
   "id": "072c0e13-9a61-479b-9bf3-14ff11f38cdd",
   "metadata": {},
   "outputs": [
    {
     "name": "stdout",
     "output_type": "stream",
     "text": [
      "[0.807513457010834, 0.192486542989166]\n"
     ]
    }
   ],
   "source": [
    "print(loss_weights)\n",
    "loss_weights = torch.Tensor(loss_weights)"
   ]
  },
  {
   "cell_type": "code",
   "execution_count": 15,
   "id": "d7ca565c-597e-4105-9c29-14748d133160",
   "metadata": {},
   "outputs": [
    {
     "data": {
      "text/plain": [
       "Index(['Unnamed: 0.4', 'Unnamed: 0', 'source', 'topic', 'paragraph',\n",
       "       'question', 'question_id', 'is_impossible', 'answers',\n",
       "       'expanded_answers', 'is_searchable', 'Unnamed: 0.3', 'Unnamed: 0.2',\n",
       "       'Unnamed: 0.1', 'data'],\n",
       "      dtype='object')"
      ]
     },
     "execution_count": 15,
     "metadata": {},
     "output_type": "execute_result"
    }
   ],
   "source": [
    "testing_df.columns"
   ]
  },
  {
   "cell_type": "code",
   "execution_count": 16,
   "id": "1d8908f1-48e8-4769-9308-828cdea4dac4",
   "metadata": {},
   "outputs": [
    {
     "data": {
      "text/plain": [
       "Index(['Unnamed: 0.4', 'Unnamed: 0', 'source', 'topic', 'paragraph',\n",
       "       'question', 'question_id', 'is_impossible', 'answers',\n",
       "       'expanded_answers', 'is_searchable', 'Unnamed: 0.3', 'Unnamed: 0.2',\n",
       "       'Unnamed: 0.1', 'data'],\n",
       "      dtype='object')"
      ]
     },
     "execution_count": 16,
     "metadata": {},
     "output_type": "execute_result"
    }
   ],
   "source": [
    "training_df.columns"
   ]
  },
  {
   "cell_type": "code",
   "execution_count": 17,
   "id": "2647555e-2b32-4c33-8ba3-daebc501b43d",
   "metadata": {},
   "outputs": [
    {
     "data": {
      "text/html": [
       "<div>\n",
       "<style scoped>\n",
       "    .dataframe tbody tr th:only-of-type {\n",
       "        vertical-align: middle;\n",
       "    }\n",
       "\n",
       "    .dataframe tbody tr th {\n",
       "        vertical-align: top;\n",
       "    }\n",
       "\n",
       "    .dataframe thead th {\n",
       "        text-align: right;\n",
       "    }\n",
       "</style>\n",
       "<table border=\"1\" class=\"dataframe\">\n",
       "  <thead>\n",
       "    <tr style=\"text-align: right;\">\n",
       "      <th></th>\n",
       "      <th>Unnamed: 0.4</th>\n",
       "      <th>Unnamed: 0</th>\n",
       "      <th>source</th>\n",
       "      <th>topic</th>\n",
       "      <th>paragraph</th>\n",
       "      <th>question</th>\n",
       "      <th>question_id</th>\n",
       "      <th>is_impossible</th>\n",
       "      <th>answers</th>\n",
       "      <th>expanded_answers</th>\n",
       "      <th>is_searchable</th>\n",
       "      <th>Unnamed: 0.3</th>\n",
       "      <th>Unnamed: 0.2</th>\n",
       "      <th>Unnamed: 0.1</th>\n",
       "      <th>data</th>\n",
       "    </tr>\n",
       "  </thead>\n",
       "  <tbody>\n",
       "    <tr>\n",
       "      <th>0</th>\n",
       "      <td>0</td>\n",
       "      <td>0.0</td>\n",
       "      <td>Squad 2.0</td>\n",
       "      <td>Normans</td>\n",
       "      <td>The Normans (Norman: Nourmands; French: Norman...</td>\n",
       "      <td>In what country is Normandy located?</td>\n",
       "      <td>56ddde6b9a695914005b9628</td>\n",
       "      <td>False</td>\n",
       "      <td>France</td>\n",
       "      <td>and and Norway who, under their leader Rollo, ...</td>\n",
       "      <td>1.0</td>\n",
       "      <td>NaN</td>\n",
       "      <td>NaN</td>\n",
       "      <td>NaN</td>\n",
       "      <td>NaN</td>\n",
       "    </tr>\n",
       "    <tr>\n",
       "      <th>1</th>\n",
       "      <td>1</td>\n",
       "      <td>1.0</td>\n",
       "      <td>Squad 2.0</td>\n",
       "      <td>Normans</td>\n",
       "      <td>The Normans (Norman: Nourmands; French: Norman...</td>\n",
       "      <td>In what country is Normandy located?</td>\n",
       "      <td>56ddde6b9a695914005b9628</td>\n",
       "      <td>False</td>\n",
       "      <td>France</td>\n",
       "      <td>and and Norway who, under their leader Rollo, ...</td>\n",
       "      <td>1.0</td>\n",
       "      <td>NaN</td>\n",
       "      <td>NaN</td>\n",
       "      <td>NaN</td>\n",
       "      <td>NaN</td>\n",
       "    </tr>\n",
       "    <tr>\n",
       "      <th>2</th>\n",
       "      <td>2</td>\n",
       "      <td>2.0</td>\n",
       "      <td>Squad 2.0</td>\n",
       "      <td>Normans</td>\n",
       "      <td>The Normans (Norman: Nourmands; French: Norman...</td>\n",
       "      <td>In what country is Normandy located?</td>\n",
       "      <td>56ddde6b9a695914005b9628</td>\n",
       "      <td>False</td>\n",
       "      <td>France</td>\n",
       "      <td>and and Norway who, under their leader Rollo, ...</td>\n",
       "      <td>1.0</td>\n",
       "      <td>NaN</td>\n",
       "      <td>NaN</td>\n",
       "      <td>NaN</td>\n",
       "      <td>NaN</td>\n",
       "    </tr>\n",
       "    <tr>\n",
       "      <th>3</th>\n",
       "      <td>3</td>\n",
       "      <td>3.0</td>\n",
       "      <td>Squad 2.0</td>\n",
       "      <td>Normans</td>\n",
       "      <td>The Normans (Norman: Nourmands; French: Norman...</td>\n",
       "      <td>In what country is Normandy located?</td>\n",
       "      <td>56ddde6b9a695914005b9628</td>\n",
       "      <td>False</td>\n",
       "      <td>France</td>\n",
       "      <td>and and Norway who, under their leader Rollo, ...</td>\n",
       "      <td>1.0</td>\n",
       "      <td>NaN</td>\n",
       "      <td>NaN</td>\n",
       "      <td>NaN</td>\n",
       "      <td>NaN</td>\n",
       "    </tr>\n",
       "    <tr>\n",
       "      <th>4</th>\n",
       "      <td>4</td>\n",
       "      <td>4.0</td>\n",
       "      <td>Squad 2.0</td>\n",
       "      <td>Normans</td>\n",
       "      <td>The Normans (Norman: Nourmands; French: Norman...</td>\n",
       "      <td>When were the Normans in Normandy?</td>\n",
       "      <td>56ddde6b9a695914005b9629</td>\n",
       "      <td>False</td>\n",
       "      <td>10th and 11th centuries</td>\n",
       "      <td>and and Norway who, under their leader Rollo, ...</td>\n",
       "      <td>1.0</td>\n",
       "      <td>NaN</td>\n",
       "      <td>NaN</td>\n",
       "      <td>NaN</td>\n",
       "      <td>NaN</td>\n",
       "    </tr>\n",
       "  </tbody>\n",
       "</table>\n",
       "</div>"
      ],
      "text/plain": [
       "   Unnamed: 0.4  Unnamed: 0     source    topic  \\\n",
       "0             0         0.0  Squad 2.0  Normans   \n",
       "1             1         1.0  Squad 2.0  Normans   \n",
       "2             2         2.0  Squad 2.0  Normans   \n",
       "3             3         3.0  Squad 2.0  Normans   \n",
       "4             4         4.0  Squad 2.0  Normans   \n",
       "\n",
       "                                           paragraph  \\\n",
       "0  The Normans (Norman: Nourmands; French: Norman...   \n",
       "1  The Normans (Norman: Nourmands; French: Norman...   \n",
       "2  The Normans (Norman: Nourmands; French: Norman...   \n",
       "3  The Normans (Norman: Nourmands; French: Norman...   \n",
       "4  The Normans (Norman: Nourmands; French: Norman...   \n",
       "\n",
       "                               question               question_id  \\\n",
       "0  In what country is Normandy located?  56ddde6b9a695914005b9628   \n",
       "1  In what country is Normandy located?  56ddde6b9a695914005b9628   \n",
       "2  In what country is Normandy located?  56ddde6b9a695914005b9628   \n",
       "3  In what country is Normandy located?  56ddde6b9a695914005b9628   \n",
       "4    When were the Normans in Normandy?  56ddde6b9a695914005b9629   \n",
       "\n",
       "  is_impossible                  answers  \\\n",
       "0         False                   France   \n",
       "1         False                   France   \n",
       "2         False                   France   \n",
       "3         False                   France   \n",
       "4         False  10th and 11th centuries   \n",
       "\n",
       "                                    expanded_answers  is_searchable  \\\n",
       "0  and and Norway who, under their leader Rollo, ...            1.0   \n",
       "1  and and Norway who, under their leader Rollo, ...            1.0   \n",
       "2  and and Norway who, under their leader Rollo, ...            1.0   \n",
       "3  and and Norway who, under their leader Rollo, ...            1.0   \n",
       "4  and and Norway who, under their leader Rollo, ...            1.0   \n",
       "\n",
       "   Unnamed: 0.3  Unnamed: 0.2  Unnamed: 0.1 data  \n",
       "0           NaN           NaN           NaN  NaN  \n",
       "1           NaN           NaN           NaN  NaN  \n",
       "2           NaN           NaN           NaN  NaN  \n",
       "3           NaN           NaN           NaN  NaN  \n",
       "4           NaN           NaN           NaN  NaN  "
      ]
     },
     "execution_count": 17,
     "metadata": {},
     "output_type": "execute_result"
    }
   ],
   "source": [
    "testing_df.head()"
   ]
  },
  {
   "cell_type": "code",
   "execution_count": 18,
   "id": "3ba2a537-8220-40e7-b5af-85beab44741a",
   "metadata": {},
   "outputs": [
    {
     "name": "stdout",
     "output_type": "stream",
     "text": [
      "{'question': ['When', 'did', 'Beyonce', 'start', 'becoming', 'popular', '?'], 'is_searchable': '1.0'}\n"
     ]
    }
   ],
   "source": [
    "TEXT = data.Field(tokenize='spacy', tokenizer_language = \"en_core_web_sm\")\n",
    "LABEL = data.LabelField(dtype = torch.float)\n",
    "\n",
    "fields = {\n",
    "    FEATURE_COL: (FEATURE_COL, TEXT),\n",
    "    LABEL_COL: (LABEL_COL, LABEL)\n",
    "}\n",
    "\n",
    "training_ds, testing_ds= data.TabularDataset.splits(\n",
    "    path = const.DATASETS_FOLDER,\n",
    "    train = \"QI_training.csv\",\n",
    "    test = \"QI_testing.csv\",\n",
    "    format = 'csv',\n",
    "    fields = fields\n",
    ")\n",
    "\n",
    "print(vars(training_ds[0]))"
   ]
  },
  {
   "cell_type": "code",
   "execution_count": 19,
   "id": "90a69d71-cd5f-4a33-a3d8-9d880bc81dcd",
   "metadata": {},
   "outputs": [],
   "source": [
    "TEXT.build_vocab(training_ds, max_size=CORPUS_SIZE)\n",
    "LABEL.build_vocab(training_ds)"
   ]
  },
  {
   "cell_type": "code",
   "execution_count": 20,
   "id": "8c7bd416-a746-4114-925d-889a994d09f8",
   "metadata": {},
   "outputs": [],
   "source": [
    "training_dl, testing_dl = data.BucketIterator.splits(\n",
    "    (training_ds, testing_ds),\n",
    "    batch_size=BATCH_SIZE,\n",
    "    device=selected_device\n",
    ")"
   ]
  },
  {
   "cell_type": "code",
   "execution_count": 21,
   "id": "5a54a6ca-1f51-4da9-a167-ca44330e6076",
   "metadata": {},
   "outputs": [],
   "source": [
    "class QIClassifier(nn.Module):\n",
    "    \n",
    "    def __init__(self, input_dim, embedding_dim, hidden_dim, output_dim):\n",
    "        super().__init__()\n",
    "\n",
    "        self.embedding = nn.Embedding(input_dim, embedding_dim)\n",
    "        self.rnn = nn.LSTM(embedding_dim, hidden_dim, num_layers=2,\n",
    "              batch_first=False)\n",
    "        self.fc = nn.Linear(hidden_dim, output_dim)\n",
    "        self.sigmoid = nn.Sigmoid()\n",
    "\n",
    "    def forward(self, text):\n",
    "        embedded_text = self.embedding(text)\n",
    "        output, hidden = self.rnn(embedded_text)\n",
    "        #print(output[-1, :, :].shape)\n",
    "        logits = self.fc(output[-1, :, :])\n",
    "        output = self.sigmoid(logits)\n",
    "        return logits, output\n",
    "        "
   ]
  },
  {
   "cell_type": "code",
   "execution_count": 22,
   "id": "0fb0e2c6-47fb-4f3a-a1be-11c4f2ed5bbd",
   "metadata": {},
   "outputs": [],
   "source": [
    "def train(model, training_ds, epochs=10, class_weights=None, device=\"cpu\", epoch_timestamp=1, lr=0.001):\n",
    "    optimizer = torch.optim.SGD(model.parameters(), lr=lr)\n",
    "    epoch_modulus: int\n",
    "    model.train()\n",
    "    model = model.to(device)\n",
    "    class_weights = class_weights.to(device)\n",
    "    if device == \"cuda\":\n",
    "        loss = nn.CrossEntropyLoss(weight=class_weights)\n",
    "    else:\n",
    "        loss = nn.CrossEntropyLoss(weight=class_weights)\n",
    "    loss = nn.CrossEntropyLoss(weight=class_weights)\n",
    "    for i in range(epochs):\n",
    "        epoch_modulus = i % epoch_timestamp\n",
    "        for batch_id, batch_data in enumerate(training_ds):\n",
    "            logits, out = model(batch_data.question.to(device))\n",
    "            logits = logits.to(device)\n",
    "            optimizer.zero_grad()\n",
    "            label = batch_data.is_searchable.to(device)\n",
    "            cost = loss(logits, label.to(torch.long))\n",
    "            cost.backward()\n",
    "            optimizer.step()\n",
    "            if epoch_timestamp == 1:\n",
    "                (print(\"Epoch \" + str(i + 1) + \"/\" + str(epochs) + \n",
    "                       \" loss: \" + str(cost.cpu().item()), \n",
    "                       end=\"                                \\r\"))\n",
    "            elif epoch_timestamp > 1:\n",
    "                if epoch_modulus == epoch_timestamp - 1:\n",
    "                    end_line = \"\\n\"\n",
    "                else:\n",
    "                    end_line = \"                        \\r\"\n",
    "                (print(\"Epoch \" + str(i + 1) + \"/\" + str(epochs) \n",
    "                       + \" loss: \" + str(cost.cpu().item()), end=end_line))\n",
    "            else:\n",
    "                raise ValueError(\"Expected epoch_timestamp parameter to be a non-negative number but got \" + str(epoch_timestamp))\n",
    "        print()"
   ]
  },
  {
   "cell_type": "code",
   "execution_count": 23,
   "id": "adc01f41-cecc-4719-9944-005ffda7a102",
   "metadata": {},
   "outputs": [],
   "source": [
    "qi_classifier = QIClassifier(len(TEXT.vocab), EMBEDDING_DIM, HIDDEN_DIM, OUTPUT_DIM)"
   ]
  },
  {
   "cell_type": "code",
   "execution_count": 24,
   "id": "b51bcdbc-5cba-4a90-a70c-b2f0d73efe05",
   "metadata": {},
   "outputs": [
    {
     "name": "stdout",
     "output_type": "stream",
     "text": [
      "Epoch 1/10 loss: 0.41167721152305603                                \n",
      "Epoch 2/10 loss: 0.31453752517700195                                \n",
      "Epoch 3/10 loss: 0.2886545658111572                                 \n",
      "Epoch 4/10 loss: 0.25289446115493774                                \n",
      "Epoch 5/10 loss: 0.23246945440769196                                \n",
      "Epoch 6/10 loss: 0.2088184803724289                                 \n",
      "Epoch 7/10 loss: 0.20366403460502625                                \n",
      "Epoch 8/10 loss: 0.211162731051445                                  \n",
      "Epoch 9/10 loss: 0.21772532165050507                                \n",
      "Epoch 10/10 loss: 0.2606121599674225                                 \n"
     ]
    }
   ],
   "source": [
    "train(qi_classifier, training_dl, EPOCHS, loss_weights, selected_device, lr=LEARNING_RATE)"
   ]
  },
  {
   "cell_type": "code",
   "execution_count": 26,
   "id": "c3bb1182-1070-45ec-aa51-dbb9996c1bb9",
   "metadata": {},
   "outputs": [],
   "source": [
    "torch.save(qi_classifier, MODEL_SAVE_PATH)"
   ]
  },
  {
   "cell_type": "code",
   "execution_count": null,
   "id": "2a8f0a47-4343-4cc3-97c7-fdb4c3a185df",
   "metadata": {},
   "outputs": [],
   "source": []
  }
 ],
 "metadata": {
  "kernelspec": {
   "display_name": "Python 3 (ipykernel)",
   "language": "python",
   "name": "python3"
  },
  "language_info": {
   "codemirror_mode": {
    "name": "ipython",
    "version": 3
   },
   "file_extension": ".py",
   "mimetype": "text/x-python",
   "name": "python",
   "nbconvert_exporter": "python",
   "pygments_lexer": "ipython3",
   "version": "3.10.12"
  }
 },
 "nbformat": 4,
 "nbformat_minor": 5
}
