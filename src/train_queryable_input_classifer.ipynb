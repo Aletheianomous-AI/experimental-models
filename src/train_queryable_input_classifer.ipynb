{
 "cells": [
  {
   "cell_type": "markdown",
   "id": "8116a446-0e60-4c8b-a5ff-db4385dceb56",
   "metadata": {},
   "source": [
    "# Train Queryable Input Classifier\n",
    "This notebook trains an LSTM model that classifies whether the user's input can be queryable, in that the model should extract keywords to look online via the citation fetcher class."
   ]
  },
  {
   "cell_type": "code",
   "execution_count": 41,
   "id": "bfda3faf-9cd4-4bc7-82af-c7f2a5d02239",
   "metadata": {},
   "outputs": [],
   "source": [
    "from datasets import Dataset, DatasetDict\n",
    "from matplotlib import pyplot as plt\n",
    "from sklearn.utils.class_weight import compute_class_weight\n",
    "from sklearn import metrics\n",
    "from torchtext import data, datasets\n",
    "\n",
    "import const\n",
    "import datasets\n",
    "import pandas as pd\n",
    "import numpy as np\n",
    "import torchtext\n",
    "import torch\n",
    "import torch.nn as nn\n",
    "import random\n",
    "import spacy\n",
    "import subprocess"
   ]
  },
  {
   "cell_type": "code",
   "execution_count": 42,
   "id": "04117aea-a4cb-43a3-a36e-26416fdc52de",
   "metadata": {},
   "outputs": [],
   "source": [
    "TEXT = data.Field(tokenize=\"spacy\", tokenizer_language=\"en_core_web_sm\")"
   ]
  },
  {
   "cell_type": "code",
   "execution_count": 43,
   "id": "a782d70e-d84a-4320-9d01-ed601dc761a0",
   "metadata": {},
   "outputs": [],
   "source": [
    "LABEL = data.LabelField(dtype= torch.long)"
   ]
  },
  {
   "cell_type": "code",
   "execution_count": 44,
   "id": "96acec81-6afe-4ae8-8eea-bd9041642904",
   "metadata": {},
   "outputs": [],
   "source": [
    "TRAINING_DS_PATH = const.DATASETS_FOLDER + \"QI_training.csv\"\n",
    "TESTING_DS_PATH = const.DATASETS_FOLDER + \"QI_testing.csv\"\n",
    "\n",
    "FEATURE_COL = \"question\"\n",
    "LABEL_COL = \"is_searchable\""
   ]
  },
  {
   "cell_type": "code",
   "execution_count": 45,
   "id": "077b9106-2375-4529-be2b-01473526d003",
   "metadata": {},
   "outputs": [],
   "source": [
    "TRAIN_SPLIT = 0.7\n",
    "\n",
    "# MODEL PARAMETERS\n",
    "CORPUS_SIZE = 25000\n",
    "LEARNING_RATE = 1e-3\n",
    "BATCH_SIZE = 128\n",
    "EPOCHS = 50\n",
    "\n",
    "EMBEDDING_DIM = 256\n",
    "HIDDEN_DIM = 512\n",
    "OUTPUT_DIM = 2\n",
    "DEVICE = \"auto\""
   ]
  },
  {
   "cell_type": "code",
   "execution_count": 85,
   "id": "addc7cd2-0a7a-40cf-a895-7953681d5897",
   "metadata": {},
   "outputs": [],
   "source": [
    "MODEL_NAME = \"aletheianomous_ai-QI_class-v0.1.4\" \n",
    "MODEL_SAVE_PATH = (const.MODELS_FOLDER + MODEL_NAME + \"/\"\n",
    "       + \"model.pt\")\n",
    "VOCAB_SAVE_PATH = (const.MODELS_FOLDER + MODEL_NAME + \"/vocab.pt\")\n",
    "LABEL_VOCAB_PATH = (const.MODELS_FOLDER + MODEL_NAME + \"/label_vocab.pt\")"
   ]
  },
  {
   "cell_type": "code",
   "execution_count": 47,
   "id": "418e5823-c70b-4b84-800f-043549ab940c",
   "metadata": {},
   "outputs": [],
   "source": [
    "if DEVICE == \"auto\":\n",
    "    if torch.cuda.is_available():\n",
    "        selected_device = \"cuda\"\n",
    "    else:\n",
    "        selected_device = \"cpu\"\n",
    "else:\n",
    "    selected_device = DEVICE"
   ]
  },
  {
   "cell_type": "code",
   "execution_count": 48,
   "id": "3028bd24-b5d7-4b17-ac66-4c5c119de465",
   "metadata": {},
   "outputs": [
    {
     "data": {
      "text/plain": [
       "'cuda'"
      ]
     },
     "execution_count": 48,
     "metadata": {},
     "output_type": "execute_result"
    }
   ],
   "source": [
    "selected_device"
   ]
  },
  {
   "cell_type": "code",
   "execution_count": 49,
   "id": "bd6e77ef-7a71-40ee-8a3b-1b1e83acce19",
   "metadata": {},
   "outputs": [
    {
     "name": "stderr",
     "output_type": "stream",
     "text": [
      "/tmp/ipykernel_486373/2416222827.py:1: DtypeWarning: Columns (2,3,4,6,7,8,9,14) have mixed types. Specify dtype option on import or set low_memory=False.\n",
      "  training_df = pd.read_csv(TRAINING_DS_PATH)\n"
     ]
    }
   ],
   "source": [
    "training_df = pd.read_csv(TRAINING_DS_PATH)\n",
    "testing_df = pd.read_csv(TESTING_DS_PATH)"
   ]
  },
  {
   "cell_type": "code",
   "execution_count": 50,
   "id": "55e9cb67-78f1-458a-8c0b-d66a89b973a1",
   "metadata": {},
   "outputs": [
    {
     "data": {
      "text/plain": [
       "204726"
      ]
     },
     "execution_count": 50,
     "metadata": {},
     "output_type": "execute_result"
    }
   ],
   "source": [
    "len(training_df)"
   ]
  },
  {
   "cell_type": "code",
   "execution_count": 51,
   "id": "4532606f-5abe-436f-9d43-38f8943caa84",
   "metadata": {},
   "outputs": [],
   "source": [
    "split_ind = int(len(training_df) * TRAIN_SPLIT)\n",
    "training_df = training_df.sample(frac=1)\n",
    "training_df = training_df.reset_index()\n",
    "\n",
    "validation_df = training_df[split_ind:]\n",
    "validation_df = validation_df.reset_index()\n",
    "training_df = training_df[0:split_ind]"
   ]
  },
  {
   "cell_type": "code",
   "execution_count": 52,
   "id": "f1908458-de98-457f-b5bd-55f7cf6e23bc",
   "metadata": {},
   "outputs": [
    {
     "data": {
      "text/plain": [
       "143308"
      ]
     },
     "execution_count": 52,
     "metadata": {},
     "output_type": "execute_result"
    }
   ],
   "source": [
    "len(training_df)"
   ]
  },
  {
   "cell_type": "code",
   "execution_count": 53,
   "id": "aae5e245-6b64-4cce-91bb-0e654870e1f5",
   "metadata": {},
   "outputs": [
    {
     "data": {
      "text/plain": [
       "61418"
      ]
     },
     "execution_count": 53,
     "metadata": {},
     "output_type": "execute_result"
    }
   ],
   "source": [
    "len(validation_df)"
   ]
  },
  {
   "cell_type": "code",
   "execution_count": 54,
   "id": "e656c2bd-a422-4157-985c-c88b43c72f1b",
   "metadata": {},
   "outputs": [
    {
     "data": {
      "text/html": [
       "<div>\n",
       "<style scoped>\n",
       "    .dataframe tbody tr th:only-of-type {\n",
       "        vertical-align: middle;\n",
       "    }\n",
       "\n",
       "    .dataframe tbody tr th {\n",
       "        vertical-align: top;\n",
       "    }\n",
       "\n",
       "    .dataframe thead th {\n",
       "        text-align: right;\n",
       "    }\n",
       "</style>\n",
       "<table border=\"1\" class=\"dataframe\">\n",
       "  <thead>\n",
       "    <tr style=\"text-align: right;\">\n",
       "      <th></th>\n",
       "      <th>index</th>\n",
       "      <th>Unnamed: 0.4</th>\n",
       "      <th>Unnamed: 0</th>\n",
       "      <th>source</th>\n",
       "      <th>topic</th>\n",
       "      <th>paragraph</th>\n",
       "      <th>question</th>\n",
       "      <th>question_id</th>\n",
       "      <th>is_impossible</th>\n",
       "      <th>answers</th>\n",
       "      <th>expanded_answers</th>\n",
       "      <th>is_searchable</th>\n",
       "      <th>Unnamed: 0.3</th>\n",
       "      <th>Unnamed: 0.2</th>\n",
       "      <th>Unnamed: 0.1</th>\n",
       "      <th>data</th>\n",
       "    </tr>\n",
       "  </thead>\n",
       "  <tbody>\n",
       "    <tr>\n",
       "      <th>143303</th>\n",
       "      <td>130798</td>\n",
       "      <td>130798</td>\n",
       "      <td>479.0</td>\n",
       "      <td>NaN</td>\n",
       "      <td>NaN</td>\n",
       "      <td>NaN</td>\n",
       "      <td>How can renewable energy be integrated into ex...</td>\n",
       "      <td>NaN</td>\n",
       "      <td>NaN</td>\n",
       "      <td>NaN</td>\n",
       "      <td>NaN</td>\n",
       "      <td>1.0</td>\n",
       "      <td>479.0</td>\n",
       "      <td>479.0</td>\n",
       "      <td>479.0</td>\n",
       "      <td>['How can renewable energy be integrated into ...</td>\n",
       "    </tr>\n",
       "    <tr>\n",
       "      <th>143304</th>\n",
       "      <td>120476</td>\n",
       "      <td>120476</td>\n",
       "      <td>120476.0</td>\n",
       "      <td>Squad 2.0</td>\n",
       "      <td>Red</td>\n",
       "      <td>Red is the traditional color of warning and da...</td>\n",
       "      <td>What is a football player shown before being e...</td>\n",
       "      <td>57314bf3497a881900248d7d</td>\n",
       "      <td>False</td>\n",
       "      <td>a red penalty card</td>\n",
       "      <td>s of motoring, motor cars had to follow a man ...</td>\n",
       "      <td>1.0</td>\n",
       "      <td>NaN</td>\n",
       "      <td>NaN</td>\n",
       "      <td>NaN</td>\n",
       "      <td>NaN</td>\n",
       "    </tr>\n",
       "    <tr>\n",
       "      <th>143305</th>\n",
       "      <td>187439</td>\n",
       "      <td>187439</td>\n",
       "      <td>NaN</td>\n",
       "      <td>NaN</td>\n",
       "      <td>NaN</td>\n",
       "      <td>NaN</td>\n",
       "      <td>hahaha good for you ! :D \\nwhat are u studying..?</td>\n",
       "      <td>NaN</td>\n",
       "      <td>NaN</td>\n",
       "      <td>NaN</td>\n",
       "      <td>NaN</td>\n",
       "      <td>0.0</td>\n",
       "      <td>NaN</td>\n",
       "      <td>NaN</td>\n",
       "      <td>NaN</td>\n",
       "      <td>NaN</td>\n",
       "    </tr>\n",
       "    <tr>\n",
       "      <th>143306</th>\n",
       "      <td>28392</td>\n",
       "      <td>28392</td>\n",
       "      <td>28392.0</td>\n",
       "      <td>Squad 2.0</td>\n",
       "      <td>Computer</td>\n",
       "      <td>One means by which this is done is with a spec...</td>\n",
       "      <td>A signal that stops a compute executing instru...</td>\n",
       "      <td>56fdfb9219033b140034ce22</td>\n",
       "      <td>False</td>\n",
       "      <td>an interrupt,</td>\n",
       "      <td>can return to that task later. If several pro...</td>\n",
       "      <td>1.0</td>\n",
       "      <td>NaN</td>\n",
       "      <td>NaN</td>\n",
       "      <td>NaN</td>\n",
       "      <td>NaN</td>\n",
       "    </tr>\n",
       "    <tr>\n",
       "      <th>143307</th>\n",
       "      <td>114492</td>\n",
       "      <td>114492</td>\n",
       "      <td>114492.0</td>\n",
       "      <td>Squad 2.0</td>\n",
       "      <td>Liberia</td>\n",
       "      <td>Liberia is divided into fifteen counties, whic...</td>\n",
       "      <td>What counties were the first to be founded aft...</td>\n",
       "      <td>5a62b298f8d794001af1c1c4</td>\n",
       "      <td>True</td>\n",
       "      <td>Grand Bassa and Montserrado</td>\n",
       "      <td>nty, created in 2001. Nimba is the largest of ...</td>\n",
       "      <td>1.0</td>\n",
       "      <td>NaN</td>\n",
       "      <td>NaN</td>\n",
       "      <td>NaN</td>\n",
       "      <td>NaN</td>\n",
       "    </tr>\n",
       "  </tbody>\n",
       "</table>\n",
       "</div>"
      ],
      "text/plain": [
       "         index  Unnamed: 0.4  Unnamed: 0     source     topic  \\\n",
       "143303  130798        130798       479.0        NaN       NaN   \n",
       "143304  120476        120476    120476.0  Squad 2.0       Red   \n",
       "143305  187439        187439         NaN        NaN       NaN   \n",
       "143306   28392         28392     28392.0  Squad 2.0  Computer   \n",
       "143307  114492        114492    114492.0  Squad 2.0   Liberia   \n",
       "\n",
       "                                                paragraph  \\\n",
       "143303                                                NaN   \n",
       "143304  Red is the traditional color of warning and da...   \n",
       "143305                                                NaN   \n",
       "143306  One means by which this is done is with a spec...   \n",
       "143307  Liberia is divided into fifteen counties, whic...   \n",
       "\n",
       "                                                 question  \\\n",
       "143303  How can renewable energy be integrated into ex...   \n",
       "143304  What is a football player shown before being e...   \n",
       "143305  hahaha good for you ! :D \\nwhat are u studying..?   \n",
       "143306  A signal that stops a compute executing instru...   \n",
       "143307  What counties were the first to be founded aft...   \n",
       "\n",
       "                     question_id is_impossible                      answers  \\\n",
       "143303                       NaN           NaN                          NaN   \n",
       "143304  57314bf3497a881900248d7d         False           a red penalty card   \n",
       "143305                       NaN           NaN                          NaN   \n",
       "143306  56fdfb9219033b140034ce22         False                an interrupt,   \n",
       "143307  5a62b298f8d794001af1c1c4          True  Grand Bassa and Montserrado   \n",
       "\n",
       "                                         expanded_answers  is_searchable  \\\n",
       "143303                                                NaN            1.0   \n",
       "143304  s of motoring, motor cars had to follow a man ...            1.0   \n",
       "143305                                                NaN            0.0   \n",
       "143306   can return to that task later. If several pro...            1.0   \n",
       "143307  nty, created in 2001. Nimba is the largest of ...            1.0   \n",
       "\n",
       "        Unnamed: 0.3  Unnamed: 0.2  Unnamed: 0.1  \\\n",
       "143303         479.0         479.0         479.0   \n",
       "143304           NaN           NaN           NaN   \n",
       "143305           NaN           NaN           NaN   \n",
       "143306           NaN           NaN           NaN   \n",
       "143307           NaN           NaN           NaN   \n",
       "\n",
       "                                                     data  \n",
       "143303  ['How can renewable energy be integrated into ...  \n",
       "143304                                                NaN  \n",
       "143305                                                NaN  \n",
       "143306                                                NaN  \n",
       "143307                                                NaN  "
      ]
     },
     "execution_count": 54,
     "metadata": {},
     "output_type": "execute_result"
    }
   ],
   "source": [
    "training_df.tail()"
   ]
  },
  {
   "cell_type": "code",
   "execution_count": 55,
   "id": "47aae5ae-a367-4e53-a767-55298d9d4d43",
   "metadata": {},
   "outputs": [
    {
     "data": {
      "text/html": [
       "<div>\n",
       "<style scoped>\n",
       "    .dataframe tbody tr th:only-of-type {\n",
       "        vertical-align: middle;\n",
       "    }\n",
       "\n",
       "    .dataframe tbody tr th {\n",
       "        vertical-align: top;\n",
       "    }\n",
       "\n",
       "    .dataframe thead th {\n",
       "        text-align: right;\n",
       "    }\n",
       "</style>\n",
       "<table border=\"1\" class=\"dataframe\">\n",
       "  <thead>\n",
       "    <tr style=\"text-align: right;\">\n",
       "      <th></th>\n",
       "      <th>level_0</th>\n",
       "      <th>index</th>\n",
       "      <th>Unnamed: 0.4</th>\n",
       "      <th>Unnamed: 0</th>\n",
       "      <th>source</th>\n",
       "      <th>topic</th>\n",
       "      <th>paragraph</th>\n",
       "      <th>question</th>\n",
       "      <th>question_id</th>\n",
       "      <th>is_impossible</th>\n",
       "      <th>answers</th>\n",
       "      <th>expanded_answers</th>\n",
       "      <th>is_searchable</th>\n",
       "      <th>Unnamed: 0.3</th>\n",
       "      <th>Unnamed: 0.2</th>\n",
       "      <th>Unnamed: 0.1</th>\n",
       "      <th>data</th>\n",
       "    </tr>\n",
       "  </thead>\n",
       "  <tbody>\n",
       "    <tr>\n",
       "      <th>61413</th>\n",
       "      <td>204721</td>\n",
       "      <td>14221</td>\n",
       "      <td>14221</td>\n",
       "      <td>14221.0</td>\n",
       "      <td>Squad 2.0</td>\n",
       "      <td>Alexander_Graham_Bell</td>\n",
       "      <td>The 150th anniversary of Bell's birth in 1997 ...</td>\n",
       "      <td>In what year did Canada put out a coin to comm...</td>\n",
       "      <td>56dfc400231d4119001abdbd</td>\n",
       "      <td>False</td>\n",
       "      <td>2009</td>\n",
       "      <td>r: users of the telephone over the ages; an au...</td>\n",
       "      <td>1.0</td>\n",
       "      <td>NaN</td>\n",
       "      <td>NaN</td>\n",
       "      <td>NaN</td>\n",
       "      <td>NaN</td>\n",
       "    </tr>\n",
       "    <tr>\n",
       "      <th>61414</th>\n",
       "      <td>204722</td>\n",
       "      <td>10736</td>\n",
       "      <td>10736</td>\n",
       "      <td>10736.0</td>\n",
       "      <td>Squad 2.0</td>\n",
       "      <td>Human_Development_Index</td>\n",
       "      <td>Some countries were not included for various r...</td>\n",
       "      <td>What is the main reason that countries were ex...</td>\n",
       "      <td>5ad0cd5f645df0001a2d03dc</td>\n",
       "      <td>True</td>\n",
       "      <td>lack of necessary data</td>\n",
       "      <td>and Tuvalu.</td>\n",
       "      <td>1.0</td>\n",
       "      <td>NaN</td>\n",
       "      <td>NaN</td>\n",
       "      <td>NaN</td>\n",
       "      <td>NaN</td>\n",
       "    </tr>\n",
       "    <tr>\n",
       "      <th>61415</th>\n",
       "      <td>204723</td>\n",
       "      <td>3832</td>\n",
       "      <td>3832</td>\n",
       "      <td>3832.0</td>\n",
       "      <td>Squad 2.0</td>\n",
       "      <td>New_York_City</td>\n",
       "      <td>New York City has a high degree of income disp...</td>\n",
       "      <td>In 2014, millionaires made up what percentage ...</td>\n",
       "      <td>56cf39b4aab44d1400b88eb3</td>\n",
       "      <td>False</td>\n",
       "      <td>4.6%</td>\n",
       "      <td>In the first quarter of 2014, the average week...</td>\n",
       "      <td>1.0</td>\n",
       "      <td>NaN</td>\n",
       "      <td>NaN</td>\n",
       "      <td>NaN</td>\n",
       "      <td>NaN</td>\n",
       "    </tr>\n",
       "    <tr>\n",
       "      <th>61416</th>\n",
       "      <td>204724</td>\n",
       "      <td>149946</td>\n",
       "      <td>149946</td>\n",
       "      <td>19627.0</td>\n",
       "      <td>NaN</td>\n",
       "      <td>NaN</td>\n",
       "      <td>NaN</td>\n",
       "      <td>Can you find me information on the use of geod...</td>\n",
       "      <td>NaN</td>\n",
       "      <td>NaN</td>\n",
       "      <td>NaN</td>\n",
       "      <td>NaN</td>\n",
       "      <td>1.0</td>\n",
       "      <td>19627.0</td>\n",
       "      <td>19627.0</td>\n",
       "      <td>19627.0</td>\n",
       "      <td>['Can you find me information on the use of ge...</td>\n",
       "    </tr>\n",
       "    <tr>\n",
       "      <th>61417</th>\n",
       "      <td>204725</td>\n",
       "      <td>157411</td>\n",
       "      <td>157411</td>\n",
       "      <td>27092.0</td>\n",
       "      <td>NaN</td>\n",
       "      <td>NaN</td>\n",
       "      <td>NaN</td>\n",
       "      <td>Can you recommend some scenic drives to take i...</td>\n",
       "      <td>NaN</td>\n",
       "      <td>NaN</td>\n",
       "      <td>NaN</td>\n",
       "      <td>NaN</td>\n",
       "      <td>1.0</td>\n",
       "      <td>27092.0</td>\n",
       "      <td>27092.0</td>\n",
       "      <td>27092.0</td>\n",
       "      <td>['Can you recommend some scenic drives to take...</td>\n",
       "    </tr>\n",
       "  </tbody>\n",
       "</table>\n",
       "</div>"
      ],
      "text/plain": [
       "       level_0   index  Unnamed: 0.4  Unnamed: 0     source  \\\n",
       "61413   204721   14221         14221     14221.0  Squad 2.0   \n",
       "61414   204722   10736         10736     10736.0  Squad 2.0   \n",
       "61415   204723    3832          3832      3832.0  Squad 2.0   \n",
       "61416   204724  149946        149946     19627.0        NaN   \n",
       "61417   204725  157411        157411     27092.0        NaN   \n",
       "\n",
       "                         topic  \\\n",
       "61413    Alexander_Graham_Bell   \n",
       "61414  Human_Development_Index   \n",
       "61415            New_York_City   \n",
       "61416                      NaN   \n",
       "61417                      NaN   \n",
       "\n",
       "                                               paragraph  \\\n",
       "61413  The 150th anniversary of Bell's birth in 1997 ...   \n",
       "61414  Some countries were not included for various r...   \n",
       "61415  New York City has a high degree of income disp...   \n",
       "61416                                                NaN   \n",
       "61417                                                NaN   \n",
       "\n",
       "                                                question  \\\n",
       "61413  In what year did Canada put out a coin to comm...   \n",
       "61414  What is the main reason that countries were ex...   \n",
       "61415  In 2014, millionaires made up what percentage ...   \n",
       "61416  Can you find me information on the use of geod...   \n",
       "61417  Can you recommend some scenic drives to take i...   \n",
       "\n",
       "                    question_id is_impossible                 answers  \\\n",
       "61413  56dfc400231d4119001abdbd         False                    2009   \n",
       "61414  5ad0cd5f645df0001a2d03dc          True  lack of necessary data   \n",
       "61415  56cf39b4aab44d1400b88eb3         False                    4.6%   \n",
       "61416                       NaN           NaN                     NaN   \n",
       "61417                       NaN           NaN                     NaN   \n",
       "\n",
       "                                        expanded_answers  is_searchable  \\\n",
       "61413  r: users of the telephone over the ages; an au...            1.0   \n",
       "61414                                        and Tuvalu.            1.0   \n",
       "61415  In the first quarter of 2014, the average week...            1.0   \n",
       "61416                                                NaN            1.0   \n",
       "61417                                                NaN            1.0   \n",
       "\n",
       "       Unnamed: 0.3  Unnamed: 0.2  Unnamed: 0.1  \\\n",
       "61413           NaN           NaN           NaN   \n",
       "61414           NaN           NaN           NaN   \n",
       "61415           NaN           NaN           NaN   \n",
       "61416       19627.0       19627.0       19627.0   \n",
       "61417       27092.0       27092.0       27092.0   \n",
       "\n",
       "                                                    data  \n",
       "61413                                                NaN  \n",
       "61414                                                NaN  \n",
       "61415                                                NaN  \n",
       "61416  ['Can you find me information on the use of ge...  \n",
       "61417  ['Can you recommend some scenic drives to take...  "
      ]
     },
     "execution_count": 55,
     "metadata": {},
     "output_type": "execute_result"
    }
   ],
   "source": [
    "validation_df.tail()"
   ]
  },
  {
   "cell_type": "code",
   "execution_count": 16,
   "id": "d309edb0-a158-4ae7-b116-be8736bd085e",
   "metadata": {},
   "outputs": [],
   "source": [
    "validation_df.to_csv(const.DATASETS_FOLDER + \"QI_validation.csv\")"
   ]
  },
  {
   "cell_type": "code",
   "execution_count": 56,
   "id": "818fd65e-1ec3-4e2f-9b3f-b3849b2a5f1c",
   "metadata": {},
   "outputs": [],
   "source": [
    "torch.backends.cudnn.deterministic=True"
   ]
  },
  {
   "cell_type": "code",
   "execution_count": 57,
   "id": "5ab6600c-06c5-440d-90ec-63008196b4b7",
   "metadata": {},
   "outputs": [],
   "source": [
    "labels = training_df[LABEL_COL].unique()"
   ]
  },
  {
   "cell_type": "code",
   "execution_count": 58,
   "id": "dcf833a9-d287-4370-b7f2-49436857b97d",
   "metadata": {},
   "outputs": [],
   "source": [
    "weights = compute_class_weight(class_weight=\"balanced\", classes=labels, y=training_df[LABEL_COL].to_numpy())"
   ]
  },
  {
   "cell_type": "code",
   "execution_count": 59,
   "id": "00b8905a-e584-41d8-95de-4ad46fcefcf0",
   "metadata": {},
   "outputs": [],
   "source": [
    "loss_weights = torch.Tensor(weights)\n",
    "#loss_weights = None"
   ]
  },
  {
   "cell_type": "code",
   "execution_count": 60,
   "id": "d7ca565c-597e-4105-9c29-14748d133160",
   "metadata": {},
   "outputs": [
    {
     "data": {
      "text/plain": [
       "Index(['Unnamed: 0.4', 'Unnamed: 0', 'source', 'topic', 'paragraph',\n",
       "       'question', 'question_id', 'is_impossible', 'answers',\n",
       "       'expanded_answers', 'is_searchable', 'Unnamed: 0.3', 'Unnamed: 0.2',\n",
       "       'Unnamed: 0.1', 'data'],\n",
       "      dtype='object')"
      ]
     },
     "execution_count": 60,
     "metadata": {},
     "output_type": "execute_result"
    }
   ],
   "source": [
    "testing_df.columns"
   ]
  },
  {
   "cell_type": "code",
   "execution_count": 61,
   "id": "1d8908f1-48e8-4769-9308-828cdea4dac4",
   "metadata": {},
   "outputs": [
    {
     "data": {
      "text/plain": [
       "Index(['index', 'Unnamed: 0.4', 'Unnamed: 0', 'source', 'topic', 'paragraph',\n",
       "       'question', 'question_id', 'is_impossible', 'answers',\n",
       "       'expanded_answers', 'is_searchable', 'Unnamed: 0.3', 'Unnamed: 0.2',\n",
       "       'Unnamed: 0.1', 'data'],\n",
       "      dtype='object')"
      ]
     },
     "execution_count": 61,
     "metadata": {},
     "output_type": "execute_result"
    }
   ],
   "source": [
    "training_df.columns"
   ]
  },
  {
   "cell_type": "code",
   "execution_count": 62,
   "id": "2647555e-2b32-4c33-8ba3-daebc501b43d",
   "metadata": {},
   "outputs": [
    {
     "data": {
      "text/html": [
       "<div>\n",
       "<style scoped>\n",
       "    .dataframe tbody tr th:only-of-type {\n",
       "        vertical-align: middle;\n",
       "    }\n",
       "\n",
       "    .dataframe tbody tr th {\n",
       "        vertical-align: top;\n",
       "    }\n",
       "\n",
       "    .dataframe thead th {\n",
       "        text-align: right;\n",
       "    }\n",
       "</style>\n",
       "<table border=\"1\" class=\"dataframe\">\n",
       "  <thead>\n",
       "    <tr style=\"text-align: right;\">\n",
       "      <th></th>\n",
       "      <th>Unnamed: 0.4</th>\n",
       "      <th>Unnamed: 0</th>\n",
       "      <th>source</th>\n",
       "      <th>topic</th>\n",
       "      <th>paragraph</th>\n",
       "      <th>question</th>\n",
       "      <th>question_id</th>\n",
       "      <th>is_impossible</th>\n",
       "      <th>answers</th>\n",
       "      <th>expanded_answers</th>\n",
       "      <th>is_searchable</th>\n",
       "      <th>Unnamed: 0.3</th>\n",
       "      <th>Unnamed: 0.2</th>\n",
       "      <th>Unnamed: 0.1</th>\n",
       "      <th>data</th>\n",
       "    </tr>\n",
       "  </thead>\n",
       "  <tbody>\n",
       "    <tr>\n",
       "      <th>0</th>\n",
       "      <td>0</td>\n",
       "      <td>0.0</td>\n",
       "      <td>Squad 2.0</td>\n",
       "      <td>Normans</td>\n",
       "      <td>The Normans (Norman: Nourmands; French: Norman...</td>\n",
       "      <td>In what country is Normandy located?</td>\n",
       "      <td>56ddde6b9a695914005b9628</td>\n",
       "      <td>False</td>\n",
       "      <td>France</td>\n",
       "      <td>and and Norway who, under their leader Rollo, ...</td>\n",
       "      <td>1.0</td>\n",
       "      <td>NaN</td>\n",
       "      <td>NaN</td>\n",
       "      <td>NaN</td>\n",
       "      <td>NaN</td>\n",
       "    </tr>\n",
       "    <tr>\n",
       "      <th>1</th>\n",
       "      <td>1</td>\n",
       "      <td>1.0</td>\n",
       "      <td>Squad 2.0</td>\n",
       "      <td>Normans</td>\n",
       "      <td>The Normans (Norman: Nourmands; French: Norman...</td>\n",
       "      <td>In what country is Normandy located?</td>\n",
       "      <td>56ddde6b9a695914005b9628</td>\n",
       "      <td>False</td>\n",
       "      <td>France</td>\n",
       "      <td>and and Norway who, under their leader Rollo, ...</td>\n",
       "      <td>1.0</td>\n",
       "      <td>NaN</td>\n",
       "      <td>NaN</td>\n",
       "      <td>NaN</td>\n",
       "      <td>NaN</td>\n",
       "    </tr>\n",
       "    <tr>\n",
       "      <th>2</th>\n",
       "      <td>2</td>\n",
       "      <td>2.0</td>\n",
       "      <td>Squad 2.0</td>\n",
       "      <td>Normans</td>\n",
       "      <td>The Normans (Norman: Nourmands; French: Norman...</td>\n",
       "      <td>In what country is Normandy located?</td>\n",
       "      <td>56ddde6b9a695914005b9628</td>\n",
       "      <td>False</td>\n",
       "      <td>France</td>\n",
       "      <td>and and Norway who, under their leader Rollo, ...</td>\n",
       "      <td>1.0</td>\n",
       "      <td>NaN</td>\n",
       "      <td>NaN</td>\n",
       "      <td>NaN</td>\n",
       "      <td>NaN</td>\n",
       "    </tr>\n",
       "    <tr>\n",
       "      <th>3</th>\n",
       "      <td>3</td>\n",
       "      <td>3.0</td>\n",
       "      <td>Squad 2.0</td>\n",
       "      <td>Normans</td>\n",
       "      <td>The Normans (Norman: Nourmands; French: Norman...</td>\n",
       "      <td>In what country is Normandy located?</td>\n",
       "      <td>56ddde6b9a695914005b9628</td>\n",
       "      <td>False</td>\n",
       "      <td>France</td>\n",
       "      <td>and and Norway who, under their leader Rollo, ...</td>\n",
       "      <td>1.0</td>\n",
       "      <td>NaN</td>\n",
       "      <td>NaN</td>\n",
       "      <td>NaN</td>\n",
       "      <td>NaN</td>\n",
       "    </tr>\n",
       "    <tr>\n",
       "      <th>4</th>\n",
       "      <td>4</td>\n",
       "      <td>4.0</td>\n",
       "      <td>Squad 2.0</td>\n",
       "      <td>Normans</td>\n",
       "      <td>The Normans (Norman: Nourmands; French: Norman...</td>\n",
       "      <td>When were the Normans in Normandy?</td>\n",
       "      <td>56ddde6b9a695914005b9629</td>\n",
       "      <td>False</td>\n",
       "      <td>10th and 11th centuries</td>\n",
       "      <td>and and Norway who, under their leader Rollo, ...</td>\n",
       "      <td>1.0</td>\n",
       "      <td>NaN</td>\n",
       "      <td>NaN</td>\n",
       "      <td>NaN</td>\n",
       "      <td>NaN</td>\n",
       "    </tr>\n",
       "  </tbody>\n",
       "</table>\n",
       "</div>"
      ],
      "text/plain": [
       "   Unnamed: 0.4  Unnamed: 0     source    topic  \\\n",
       "0             0         0.0  Squad 2.0  Normans   \n",
       "1             1         1.0  Squad 2.0  Normans   \n",
       "2             2         2.0  Squad 2.0  Normans   \n",
       "3             3         3.0  Squad 2.0  Normans   \n",
       "4             4         4.0  Squad 2.0  Normans   \n",
       "\n",
       "                                           paragraph  \\\n",
       "0  The Normans (Norman: Nourmands; French: Norman...   \n",
       "1  The Normans (Norman: Nourmands; French: Norman...   \n",
       "2  The Normans (Norman: Nourmands; French: Norman...   \n",
       "3  The Normans (Norman: Nourmands; French: Norman...   \n",
       "4  The Normans (Norman: Nourmands; French: Norman...   \n",
       "\n",
       "                               question               question_id  \\\n",
       "0  In what country is Normandy located?  56ddde6b9a695914005b9628   \n",
       "1  In what country is Normandy located?  56ddde6b9a695914005b9628   \n",
       "2  In what country is Normandy located?  56ddde6b9a695914005b9628   \n",
       "3  In what country is Normandy located?  56ddde6b9a695914005b9628   \n",
       "4    When were the Normans in Normandy?  56ddde6b9a695914005b9629   \n",
       "\n",
       "  is_impossible                  answers  \\\n",
       "0         False                   France   \n",
       "1         False                   France   \n",
       "2         False                   France   \n",
       "3         False                   France   \n",
       "4         False  10th and 11th centuries   \n",
       "\n",
       "                                    expanded_answers  is_searchable  \\\n",
       "0  and and Norway who, under their leader Rollo, ...            1.0   \n",
       "1  and and Norway who, under their leader Rollo, ...            1.0   \n",
       "2  and and Norway who, under their leader Rollo, ...            1.0   \n",
       "3  and and Norway who, under their leader Rollo, ...            1.0   \n",
       "4  and and Norway who, under their leader Rollo, ...            1.0   \n",
       "\n",
       "   Unnamed: 0.3  Unnamed: 0.2  Unnamed: 0.1 data  \n",
       "0           NaN           NaN           NaN  NaN  \n",
       "1           NaN           NaN           NaN  NaN  \n",
       "2           NaN           NaN           NaN  NaN  \n",
       "3           NaN           NaN           NaN  NaN  \n",
       "4           NaN           NaN           NaN  NaN  "
      ]
     },
     "execution_count": 62,
     "metadata": {},
     "output_type": "execute_result"
    }
   ],
   "source": [
    "testing_df.head()"
   ]
  },
  {
   "cell_type": "code",
   "execution_count": 63,
   "id": "aad116c6-c248-4916-8880-f53e1a252c6c",
   "metadata": {},
   "outputs": [],
   "source": [
    "TEXT = data.Field(tokenize='spacy', tokenizer_language = \"en_core_web_sm\")\n",
    "LABEL = data.LabelField(dtype = torch.float)\n",
    "\n",
    "fields = {\n",
    "    FEATURE_COL: (FEATURE_COL, TEXT),\n",
    "    LABEL_COL: (LABEL_COL, LABEL)\n",
    "}"
   ]
  },
  {
   "cell_type": "code",
   "execution_count": 64,
   "id": "48bcbaeb-1ad4-47d7-ac48-c520340c0ae9",
   "metadata": {},
   "outputs": [
    {
     "name": "stdout",
     "output_type": "stream",
     "text": [
      "{'question': ['When', 'did', 'Beyonce', 'start', 'becoming', 'popular', '?'], 'is_searchable': '1.0'}\n"
     ]
    }
   ],
   "source": [
    "training_ds, val_ds, testing_ds= data.TabularDataset.splits(\n",
    "    path = const.DATASETS_FOLDER,\n",
    "    train = \"QI_training.csv\",\n",
    "    validation = \"QI_validation.csv\",\n",
    "    test = \"QI_testing.csv\",\n",
    "    format = 'csv',\n",
    "    fields = fields\n",
    ")\n",
    "\n",
    "print(vars(training_ds[0]))"
   ]
  },
  {
   "cell_type": "code",
   "execution_count": 65,
   "id": "90a69d71-cd5f-4a33-a3d8-9d880bc81dcd",
   "metadata": {},
   "outputs": [],
   "source": [
    "TEXT.build_vocab(training_ds, max_size=CORPUS_SIZE)\n",
    "LABEL.build_vocab(training_ds)"
   ]
  },
  {
   "cell_type": "code",
   "execution_count": 66,
   "id": "8c7bd416-a746-4114-925d-889a994d09f8",
   "metadata": {},
   "outputs": [],
   "source": [
    "training_dl, val_dl, testing_dl = data.BucketIterator.splits(\n",
    "    (training_ds, val_ds, testing_ds),\n",
    "    batch_size=BATCH_SIZE,\n",
    "    device=selected_device,\n",
    "    sort=False\n",
    ")"
   ]
  },
  {
   "cell_type": "code",
   "execution_count": 67,
   "id": "5a54a6ca-1f51-4da9-a167-ca44330e6076",
   "metadata": {},
   "outputs": [],
   "source": [
    "class QIClassifier(nn.Module):\n",
    "    \n",
    "    def __init__(self, input_dim, embedding_dim, hidden_dim, output_dim):\n",
    "        super().__init__()\n",
    "\n",
    "        self.embedding = nn.Embedding(input_dim, embedding_dim)\n",
    "        self.rnn = nn.LSTM(embedding_dim, hidden_dim, num_layers=2,\n",
    "              batch_first=False)\n",
    "        self.fc = nn.Linear(hidden_dim, output_dim)\n",
    "        self.softmax = nn.Softmax(dim=1)\n",
    "\n",
    "    def forward(self, text):\n",
    "        embedded_text = self.embedding(text)\n",
    "        output, hidden = self.rnn(embedded_text)\n",
    "        logits = self.fc(output[-1, :, :])\n",
    "        output = self.softmax(logits)\n",
    "        return logits, output\n",
    "        "
   ]
  },
  {
   "cell_type": "code",
   "execution_count": 29,
   "id": "0fb0e2c6-47fb-4f3a-a1be-11c4f2ed5bbd",
   "metadata": {},
   "outputs": [],
   "source": [
    "def train(model, training_ds, validation_ds=None, epochs=10, class_weights=None, device=\"cpu\", epoch_timestamp=1, lr=0.001):\n",
    "    optimizer = torch.optim.SGD(model.parameters(), lr=lr)\n",
    "    epoch_modulus: int\n",
    "    model.train()\n",
    "    model = model.to(device)\n",
    "    if class_weights is not None:\n",
    "        class_weights = class_weights.to(device)\n",
    "    if device == \"cuda\":\n",
    "        loss = nn.CrossEntropyLoss(weight=class_weights).cuda()\n",
    "    else:\n",
    "        loss = nn.CrossEntropyLoss(weight=class_weights)\n",
    "\n",
    "    ds_ls = {\"training\": training_ds, \"validation\": validation_ds}\n",
    "    \n",
    "    for i in range(epochs):            \n",
    "        epoch_modulus = i % epoch_timestamp\n",
    "        for phase in ds_ls.keys():\n",
    "            ds = ds_ls[phase]\n",
    "            \n",
    "            if ds is None:\n",
    "                print(\"Skipping validation\")\n",
    "                continue\n",
    "            \n",
    "            if phase == \"training\":\n",
    "                model.train()\n",
    "            elif phase == \"validation\":\n",
    "                model.eval()\n",
    "                \n",
    "            for batch_id, batch_data in enumerate(ds):\n",
    "                logits, out = model(batch_data.question.to(device))\n",
    "                logits = logits.to(device)\n",
    "                if phase == \"training\":\n",
    "                    optimizer.zero_grad()\n",
    "                label = batch_data.is_searchable.to(device)\n",
    "                cost = loss(logits, label.to(torch.long))\n",
    "                if phase == \"training\":\n",
    "                    cost.backward()\n",
    "                    optimizer.step()\n",
    "                    cost = cost.cpu().item()\n",
    "                elif phase == \"validation\":\n",
    "                    cost = cost.cpu().item()\n",
    "                    \n",
    "                if epoch_timestamp == 1:\n",
    "                    (print(\"Epoch \" + str(i + 1) + \"/\" + str(epochs) + \n",
    "                           \" \" + phase + \" loss: \" + str(cost), \n",
    "                           end=\"                                \\r\"))\n",
    "                elif epoch_timestamp > 1:\n",
    "                    if epoch_modulus == epoch_timestamp - 1:\n",
    "                        end_line = \"\\n\"\n",
    "                    else:\n",
    "                        end_line = \"                        \\r\"\n",
    "                    print(\"Epoch \" + str(i + 1) + \"/\" + str(epochs) + \" \" + phase +  \" loss: \" + str(cost), end=end_line)\n",
    "                else:\n",
    "                    raise ValueError(\"Expected epoch_timestamp parameter to be a non-negative number but got \" + str(epoch_timestamp))\n",
    "            print()"
   ]
  },
  {
   "cell_type": "code",
   "execution_count": null,
   "id": "adc01f41-cecc-4719-9944-005ffda7a102",
   "metadata": {},
   "outputs": [],
   "source": [
    "qi_classifier = QIClassifier(len(TEXT.vocab), EMBEDDING_DIM, HIDDEN_DIM, OUTPUT_DIM)"
   ]
  },
  {
   "cell_type": "code",
   "execution_count": null,
   "id": "b51bcdbc-5cba-4a90-a70c-b2f0d73efe05",
   "metadata": {},
   "outputs": [],
   "source": [
    "train(qi_classifier, training_dl, validation_ds = val_dl, epochs=EPOCHS, class_weights=loss_weights, device=selected_device, lr=LEARNING_RATE)"
   ]
  },
  {
   "cell_type": "code",
   "execution_count": null,
   "id": "c3bb1182-1070-45ec-aa51-dbb9996c1bb9",
   "metadata": {},
   "outputs": [],
   "source": [
    "torch.save(qi_classifier, MODEL_SAVE_PATH)"
   ]
  },
  {
   "cell_type": "code",
   "execution_count": null,
   "id": "2a8f0a47-4343-4cc3-97c7-fdb4c3a185df",
   "metadata": {},
   "outputs": [],
   "source": [
    "tokenizer = spacy.load(\"en_core_web_sm\")"
   ]
  },
  {
   "cell_type": "code",
   "execution_count": 31,
   "id": "db668834-7ecc-47a8-bdd3-d8e9a8c11a12",
   "metadata": {},
   "outputs": [],
   "source": [
    "def predict(model, input_sentence, tokenizer):\n",
    "    model.eval()\n",
    "    token_sent = [tok.text for tok in tokenizer.tokenizer(input_sentence)]\n",
    "    tok_index = [TEXT.vocab.stoi[t] for t in token_sent]\n",
    "    tensor = torch.LongTensor(tok_index).to(selected_device)\n",
    "    tensor = tensor.unsqueeze(1)\n",
    "    logit, probas = model(tensor)\n",
    "    output = torch.argmax(probas, dim=1)\n",
    "    return probas.cpu(), output.cpu()"
   ]
  },
  {
   "cell_type": "code",
   "execution_count": null,
   "id": "cdab5ab3-619c-4e3e-8716-713829c481b7",
   "metadata": {},
   "outputs": [],
   "source": [
    "probas, output = predict(qi_classifier, \"Who is Beyonce's daughter?\", tokenizer)"
   ]
  },
  {
   "cell_type": "code",
   "execution_count": null,
   "id": "48fe3409-579e-42f5-a698-34901ef510a7",
   "metadata": {},
   "outputs": [],
   "source": [
    "output"
   ]
  },
  {
   "cell_type": "code",
   "execution_count": null,
   "id": "dcfba2ab-f82a-4706-8a8f-3996c54d4731",
   "metadata": {},
   "outputs": [],
   "source": [
    "probas"
   ]
  },
  {
   "cell_type": "markdown",
   "id": "557e8e37-c926-4137-bdbc-5907969464e1",
   "metadata": {},
   "source": [
    "# IMPORTANT\n",
    "The model may have trained to classify non-searchable terms as 1\n",
    "while searchable terms is classified as 0."
   ]
  },
  {
   "cell_type": "code",
   "execution_count": 32,
   "id": "e13b74e1-897c-43bc-9e1a-3bf29d894c35",
   "metadata": {},
   "outputs": [],
   "source": [
    "def calc_conf_matrix(outputs, labels):\n",
    "    i: int = 0\n",
    "    conf_matrix = pd.DataFrame(data={\"true\": [0,0], \"false\": [0,0]}, index=[\"true\", \"false\"])\n",
    "    conf_matr_row: int = 0\n",
    "    conf_matr_col: int = 0\n",
    "    if len(outputs) == len(labels):\n",
    "        for i in range(len(outputs)):\n",
    "            output = outputs[i]\n",
    "            label = labels[i]\n",
    "            if output == 0.0:\n",
    "                conf_matr_row = 1\n",
    "            elif output == 1.0:\n",
    "                conf_matr_row = 0\n",
    "            else:\n",
    "                raise ValueError(output)\n",
    "\n",
    "            if label == 0.0:\n",
    "                conf_matr_col = 1\n",
    "            elif label == 1.0:\n",
    "                conf_matr_col = 0\n",
    "            else:\n",
    "                raise ValueError(output)\n",
    "\n",
    "            conf_matrix.iloc[conf_matr_row, conf_matr_col] +=1\n",
    "    else:\n",
    "        raise AssertionError()\n",
    "    return conf_matrix\n",
    "        "
   ]
  },
  {
   "cell_type": "code",
   "execution_count": 76,
   "id": "84f0110e-5805-4f58-afc1-3b3a7e7076a2",
   "metadata": {},
   "outputs": [],
   "source": [
    "def plot_roc(fpr, tpr, title=\"ROC Curve\"):\n",
    "    roc_auc = metrics.auc(fpr,tpr)\n",
    "    plt.title(title)\n",
    "    plt.plot(fpr, tpr, 'b', label= 'AUC = %0.2f' % roc_auc)\n",
    "    plt.legend(loc = 'lower right')\n",
    "    plt.plot([0,1], [0,1], 'r--')\n",
    "    plt.xlim([0,1])\n",
    "    plt.ylim([0,1])\n",
    "    plt.xlabel(\"False Positive Rate\")\n",
    "    plt.ylabel(\"True Positive Rate\")\n",
    "    plt.show()"
   ]
  },
  {
   "cell_type": "code",
   "execution_count": 79,
   "id": "c26e3eac-6776-4dae-8d23-3bdffaa0a3a2",
   "metadata": {},
   "outputs": [],
   "source": [
    "def test_model(model, test_dl, device=\"cpu\"):\n",
    "    model = model.to(device)\n",
    "    out_arr = np.array([])\n",
    "    labels_arr = np.array([])\n",
    "    ds_size: int = 0\n",
    "    for batch_id, batch_data in enumerate(test_dl):\n",
    "        label = batch_data.is_searchable.to(device)\n",
    "        logits, proba = model(batch_data.question.to(device))\n",
    "        ds_size += batch_data.is_searchable.size(0)\n",
    "        out = torch.argmax(proba, dim=1)\n",
    "        out_arr = np.append(out_arr, out.cpu().numpy())\n",
    "        labels_arr = np.append(labels_arr, label.cpu().numpy())\n",
    "    conf_matrix: pd.DataFrame = calc_conf_matrix(out_arr, labels_arr)\n",
    "    precision: float = conf_matrix.iloc[0,0] / (conf_matrix.iloc[0,0] + conf_matrix.iloc[0,1])\n",
    "    recall: float = conf_matrix.iloc[0,0] / (conf_matrix.iloc[0,0] + conf_matrix.iloc[1,0])\n",
    "    accuracy: float = (conf_matrix.iloc[0,0] + conf_matrix.iloc[1,1]) / ds_size\n",
    "    fpr, tpr, threshold = metrics.roc_curve(out_arr, labels_arr)\n",
    "    return conf_matrix, precision, recall, accuracy, fpr, tpr"
   ]
  },
  {
   "cell_type": "code",
   "execution_count": 80,
   "id": "4c8ab3f2-032a-470a-8681-dd9fa1a24a75",
   "metadata": {},
   "outputs": [],
   "source": [
    "conf_matrix, precision, recall, accuracy, fpr, tpr = test_model(qi_classifier, testing_dl, device=selected_device)"
   ]
  },
  {
   "cell_type": "code",
   "execution_count": 81,
   "id": "6a33302d-8dab-4c3e-967f-5d3fe185a312",
   "metadata": {},
   "outputs": [
    {
     "data": {
      "text/html": [
       "<div>\n",
       "<style scoped>\n",
       "    .dataframe tbody tr th:only-of-type {\n",
       "        vertical-align: middle;\n",
       "    }\n",
       "\n",
       "    .dataframe tbody tr th {\n",
       "        vertical-align: top;\n",
       "    }\n",
       "\n",
       "    .dataframe thead th {\n",
       "        text-align: right;\n",
       "    }\n",
       "</style>\n",
       "<table border=\"1\" class=\"dataframe\">\n",
       "  <thead>\n",
       "    <tr style=\"text-align: right;\">\n",
       "      <th></th>\n",
       "      <th>true</th>\n",
       "      <th>false</th>\n",
       "    </tr>\n",
       "  </thead>\n",
       "  <tbody>\n",
       "    <tr>\n",
       "      <th>true</th>\n",
       "      <td>16521</td>\n",
       "      <td>548</td>\n",
       "    </tr>\n",
       "    <tr>\n",
       "      <th>false</th>\n",
       "      <td>369</td>\n",
       "      <td>40684</td>\n",
       "    </tr>\n",
       "  </tbody>\n",
       "</table>\n",
       "</div>"
      ],
      "text/plain": [
       "        true  false\n",
       "true   16521    548\n",
       "false    369  40684"
      ]
     },
     "execution_count": 81,
     "metadata": {},
     "output_type": "execute_result"
    }
   ],
   "source": [
    "conf_matrix"
   ]
  },
  {
   "cell_type": "code",
   "execution_count": 82,
   "id": "ac09fdde-fa8c-492d-bb1f-9c7aa46ccc08",
   "metadata": {},
   "outputs": [
    {
     "name": "stdout",
     "output_type": "stream",
     "text": [
      "Precision:  96.78950143535063 %\n",
      "Recall:  97.81527531083482 %\n",
      "Accuracy:  98.42228416090293 %\n"
     ]
    }
   ],
   "source": [
    "print(\"Precision: \", (precision*100), \"%\")\n",
    "print(\"Recall: \", (recall*100), \"%\")\n",
    "print(\"Accuracy: \", (accuracy*100), \"%\")"
   ]
  },
  {
   "cell_type": "code",
   "execution_count": 83,
   "id": "a4feb62a-3572-46ae-a411-7fc05af3aa08",
   "metadata": {},
   "outputs": [
    {
     "data": {
      "image/png": "[encoded data removed]",
      "text/plain": [
       "<Figure size 640x480 with 1 Axes>"
      ]
     },
     "metadata": {},
     "output_type": "display_data"
    }
   ],
   "source": [
    "plot_roc(fpr, tpr, title=\"QI ROC curve\")"
   ]
  },
  {
   "cell_type": "code",
   "execution_count": 84,
   "id": "939836e0-cbc0-4f1f-9b00-aac0d590aefc",
   "metadata": {},
   "outputs": [],
   "source": [
    "torch.save(TEXT, VOCAB_SAVE_PATH)"
   ]
  },
  {
   "cell_type": "code",
   "execution_count": 86,
   "id": "ae3b8ce9-2468-4d42-8d71-201ae8e3277d",
   "metadata": {},
   "outputs": [],
   "source": [
    "torch.save(LABEL, LABEL_VOCAB_PATH)"
   ]
  }
 ],
 "metadata": {
  "kernelspec": {
   "display_name": "Python 3 (ipykernel)",
   "language": "python",
   "name": "python3"
  },
  "language_info": {
   "codemirror_mode": {
    "name": "ipython",
    "version": 3
   },
   "file_extension": ".py",
   "mimetype": "text/x-python",
   "name": "python",
   "nbconvert_exporter": "python",
   "pygments_lexer": "ipython3",
   "version": "3.10.12"
  }
 },
 "nbformat": 4,
 "nbformat_minor": 5
}
