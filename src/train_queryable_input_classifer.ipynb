{
 "cells": [
  {
   "cell_type": "markdown",
   "id": "8116a446-0e60-4c8b-a5ff-db4385dceb56",
   "metadata": {},
   "source": [
    "# Train Queryable Input Classifier\n",
    "This notebook trains an LSTM model that classifies whether the user's input can be queryable, in that the model should extract keywords to look online via the citation fetcher class."
   ]
  },
  {
   "cell_type": "code",
   "execution_count": 1,
   "id": "bfda3faf-9cd4-4bc7-82af-c7f2a5d02239",
   "metadata": {},
   "outputs": [],
   "source": [
    "from datasets import Dataset, DatasetDict\n",
    "from sklearn.utils.class_weight import compute_class_weight\n",
    "from torchtext import data, datasets\n",
    "\n",
    "import const\n",
    "import datasets\n",
    "import pandas as pd\n",
    "import torchtext\n",
    "import torch\n",
    "import torch.nn as nn\n",
    "import random\n",
    "import spacy\n",
    "import subprocess"
   ]
  },
  {
   "cell_type": "code",
   "execution_count": 2,
   "id": "04117aea-a4cb-43a3-a36e-26416fdc52de",
   "metadata": {},
   "outputs": [],
   "source": [
    "TEXT = data.Field(tokenize=\"spacy\", tokenizer_language=\"en_core_web_sm\")"
   ]
  },
  {
   "cell_type": "code",
   "execution_count": 3,
   "id": "a782d70e-d84a-4320-9d01-ed601dc761a0",
   "metadata": {},
   "outputs": [],
   "source": [
    "LABEL = data.LabelField(dtype= torch.long)"
   ]
  },
  {
   "cell_type": "code",
   "execution_count": 4,
   "id": "96acec81-6afe-4ae8-8eea-bd9041642904",
   "metadata": {},
   "outputs": [],
   "source": [
    "TRAINING_DS_PATH = const.DATASETS_FOLDER + \"QI_training.csv\"\n",
    "TESTING_DS_PATH = const.DATASETS_FOLDER + \"QI_testing.csv\"\n",
    "\n",
    "FEATURE_COL = \"question\"\n",
    "LABEL_COL = \"is_searchable\""
   ]
  },
  {
   "cell_type": "code",
   "execution_count": 5,
   "id": "077b9106-2375-4529-be2b-01473526d003",
   "metadata": {},
   "outputs": [],
   "source": [
    "TRAIN_SPLIT = 0.7\n",
    "\n",
    "# MODEL PARAMETERS\n",
    "CORPUS_SIZE = 25000\n",
    "LEARNING_RATE = 1e-3\n",
    "BATCH_SIZE = 128\n",
    "EPOCHS = 50\n",
    "\n",
    "EMBEDDING_DIM = 256\n",
    "HIDDEN_DIM = 512\n",
    "OUTPUT_DIM = 2\n",
    "DEVICE = \"auto\""
   ]
  },
  {
   "cell_type": "code",
   "execution_count": 6,
   "id": "addc7cd2-0a7a-40cf-a895-7953681d5897",
   "metadata": {},
   "outputs": [],
   "source": [
    "MODEL_SAVE_PATH = (const.MODELS_FOLDER + \n",
    "       \"aletheianomous_ai-QI_class-v0.1.4.pt\")"
   ]
  },
  {
   "cell_type": "code",
   "execution_count": 7,
   "id": "418e5823-c70b-4b84-800f-043549ab940c",
   "metadata": {},
   "outputs": [],
   "source": [
    "if DEVICE == \"auto\":\n",
    "    if torch.cuda.is_available():\n",
    "        selected_device = \"cuda\"\n",
    "    else:\n",
    "        selected_device = \"cpu\"\n",
    "else:\n",
    "    selected_device = DEVICE"
   ]
  },
  {
   "cell_type": "code",
   "execution_count": 8,
   "id": "3028bd24-b5d7-4b17-ac66-4c5c119de465",
   "metadata": {},
   "outputs": [
    {
     "data": {
      "text/plain": [
       "'cuda'"
      ]
     },
     "execution_count": 8,
     "metadata": {},
     "output_type": "execute_result"
    }
   ],
   "source": [
    "selected_device"
   ]
  },
  {
   "cell_type": "code",
   "execution_count": 9,
   "id": "bd6e77ef-7a71-40ee-8a3b-1b1e83acce19",
   "metadata": {},
   "outputs": [
    {
     "name": "stderr",
     "output_type": "stream",
     "text": [
      "/tmp/ipykernel_458272/2416222827.py:1: DtypeWarning: Columns (2,3,4,6,7,8,9,14) have mixed types. Specify dtype option on import or set low_memory=False.\n",
      "  training_df = pd.read_csv(TRAINING_DS_PATH)\n"
     ]
    }
   ],
   "source": [
    "training_df = pd.read_csv(TRAINING_DS_PATH)\n",
    "testing_df = pd.read_csv(TESTING_DS_PATH)"
   ]
  },
  {
   "cell_type": "code",
   "execution_count": 10,
   "id": "55e9cb67-78f1-458a-8c0b-d66a89b973a1",
   "metadata": {},
   "outputs": [
    {
     "data": {
      "text/plain": [
       "204726"
      ]
     },
     "execution_count": 10,
     "metadata": {},
     "output_type": "execute_result"
    }
   ],
   "source": [
    "len(training_df)"
   ]
  },
  {
   "cell_type": "code",
   "execution_count": 11,
   "id": "4532606f-5abe-436f-9d43-38f8943caa84",
   "metadata": {},
   "outputs": [],
   "source": [
    "split_ind = int(len(training_df) * TRAIN_SPLIT)\n",
    "training_df = training_df.sample(frac=1)\n",
    "training_df = training_df.reset_index()\n",
    "\n",
    "validation_df = training_df[split_ind:]\n",
    "validation_df = validation_df.reset_index()\n",
    "training_df = training_df[0:split_ind]"
   ]
  },
  {
   "cell_type": "code",
   "execution_count": 12,
   "id": "f1908458-de98-457f-b5bd-55f7cf6e23bc",
   "metadata": {},
   "outputs": [
    {
     "data": {
      "text/plain": [
       "143308"
      ]
     },
     "execution_count": 12,
     "metadata": {},
     "output_type": "execute_result"
    }
   ],
   "source": [
    "len(training_df)"
   ]
  },
  {
   "cell_type": "code",
   "execution_count": 13,
   "id": "aae5e245-6b64-4cce-91bb-0e654870e1f5",
   "metadata": {},
   "outputs": [
    {
     "data": {
      "text/plain": [
       "61418"
      ]
     },
     "execution_count": 13,
     "metadata": {},
     "output_type": "execute_result"
    }
   ],
   "source": [
    "len(validation_df)"
   ]
  },
  {
   "cell_type": "code",
   "execution_count": null,
   "id": "30a37a08-9063-4bcc-9682-7ee88e5ef1fa",
   "metadata": {},
   "outputs": [],
   "source": []
  },
  {
   "cell_type": "code",
   "execution_count": 14,
   "id": "e656c2bd-a422-4157-985c-c88b43c72f1b",
   "metadata": {},
   "outputs": [
    {
     "data": {
      "text/html": [
       "<div>\n",
       "<style scoped>\n",
       "    .dataframe tbody tr th:only-of-type {\n",
       "        vertical-align: middle;\n",
       "    }\n",
       "\n",
       "    .dataframe tbody tr th {\n",
       "        vertical-align: top;\n",
       "    }\n",
       "\n",
       "    .dataframe thead th {\n",
       "        text-align: right;\n",
       "    }\n",
       "</style>\n",
       "<table border=\"1\" class=\"dataframe\">\n",
       "  <thead>\n",
       "    <tr style=\"text-align: right;\">\n",
       "      <th></th>\n",
       "      <th>index</th>\n",
       "      <th>Unnamed: 0.4</th>\n",
       "      <th>Unnamed: 0</th>\n",
       "      <th>source</th>\n",
       "      <th>topic</th>\n",
       "      <th>paragraph</th>\n",
       "      <th>question</th>\n",
       "      <th>question_id</th>\n",
       "      <th>is_impossible</th>\n",
       "      <th>answers</th>\n",
       "      <th>expanded_answers</th>\n",
       "      <th>is_searchable</th>\n",
       "      <th>Unnamed: 0.3</th>\n",
       "      <th>Unnamed: 0.2</th>\n",
       "      <th>Unnamed: 0.1</th>\n",
       "      <th>data</th>\n",
       "    </tr>\n",
       "  </thead>\n",
       "  <tbody>\n",
       "    <tr>\n",
       "      <th>143303</th>\n",
       "      <td>17724</td>\n",
       "      <td>17724</td>\n",
       "      <td>17724.0</td>\n",
       "      <td>Squad 2.0</td>\n",
       "      <td>Universal_Studios</td>\n",
       "      <td>In 1928, Laemmle, Sr. made his son, Carl, Jr. ...</td>\n",
       "      <td>At what age did Carl Laemmle, Jr. become presi...</td>\n",
       "      <td>56e14c5fcd28a01900c67772</td>\n",
       "      <td>False</td>\n",
       "      <td>21</td>\n",
       "      <td>r. being known around the studios as \"Uncle Ca...</td>\n",
       "      <td>1.0</td>\n",
       "      <td>NaN</td>\n",
       "      <td>NaN</td>\n",
       "      <td>NaN</td>\n",
       "      <td>NaN</td>\n",
       "    </tr>\n",
       "    <tr>\n",
       "      <th>143304</th>\n",
       "      <td>47709</td>\n",
       "      <td>47709</td>\n",
       "      <td>47709.0</td>\n",
       "      <td>Squad 2.0</td>\n",
       "      <td>Ashkenazi_Jews</td>\n",
       "      <td>The history of Jews in Greece goes back to at ...</td>\n",
       "      <td>The Greek historian Herodotus listed the Jews ...</td>\n",
       "      <td>571a87714faf5e1900b8aa17</td>\n",
       "      <td>False</td>\n",
       "      <td>the invading Persians</td>\n",
       "      <td>and listed them among the levied naval forces...</td>\n",
       "      <td>1.0</td>\n",
       "      <td>NaN</td>\n",
       "      <td>NaN</td>\n",
       "      <td>NaN</td>\n",
       "      <td>NaN</td>\n",
       "    </tr>\n",
       "    <tr>\n",
       "      <th>143305</th>\n",
       "      <td>10737</td>\n",
       "      <td>10737</td>\n",
       "      <td>10737.0</td>\n",
       "      <td>Squad 2.0</td>\n",
       "      <td>Human_Development_Index</td>\n",
       "      <td>Some countries were not included for various r...</td>\n",
       "      <td>What year were all countries included?</td>\n",
       "      <td>5ad0cd5f645df0001a2d03de</td>\n",
       "      <td>True</td>\n",
       "      <td>2014</td>\n",
       "      <td>and Tuvalu.</td>\n",
       "      <td>1.0</td>\n",
       "      <td>NaN</td>\n",
       "      <td>NaN</td>\n",
       "      <td>NaN</td>\n",
       "      <td>NaN</td>\n",
       "    </tr>\n",
       "    <tr>\n",
       "      <th>143306</th>\n",
       "      <td>111296</td>\n",
       "      <td>111296</td>\n",
       "      <td>111296.0</td>\n",
       "      <td>Squad 2.0</td>\n",
       "      <td>Premier_League</td>\n",
       "      <td>Despite significant European success during th...</td>\n",
       "      <td>Had the Football League First Division ever be...</td>\n",
       "      <td>572fbb02b2c2fd14005683bc</td>\n",
       "      <td>False</td>\n",
       "      <td>The Football League First Division, which had ...</td>\n",
       "      <td>for five years following the Heysel Stadium di...</td>\n",
       "      <td>1.0</td>\n",
       "      <td>NaN</td>\n",
       "      <td>NaN</td>\n",
       "      <td>NaN</td>\n",
       "      <td>NaN</td>\n",
       "    </tr>\n",
       "    <tr>\n",
       "      <th>143307</th>\n",
       "      <td>119274</td>\n",
       "      <td>119274</td>\n",
       "      <td>119274.0</td>\n",
       "      <td>Squad 2.0</td>\n",
       "      <td>Great_power</td>\n",
       "      <td>When World War II started in 1939, it divided ...</td>\n",
       "      <td>Who was part of the inclusion powers?</td>\n",
       "      <td>5a14aafca54d42001852930b</td>\n",
       "      <td>True</td>\n",
       "      <td>Germany, Italy and Japan</td>\n",
       "      <td>and Japan.[nb 1] During World War II, the Uni...</td>\n",
       "      <td>1.0</td>\n",
       "      <td>NaN</td>\n",
       "      <td>NaN</td>\n",
       "      <td>NaN</td>\n",
       "      <td>NaN</td>\n",
       "    </tr>\n",
       "  </tbody>\n",
       "</table>\n",
       "</div>"
      ],
      "text/plain": [
       "         index  Unnamed: 0.4  Unnamed: 0     source                    topic  \\\n",
       "143303   17724         17724     17724.0  Squad 2.0        Universal_Studios   \n",
       "143304   47709         47709     47709.0  Squad 2.0           Ashkenazi_Jews   \n",
       "143305   10737         10737     10737.0  Squad 2.0  Human_Development_Index   \n",
       "143306  111296        111296    111296.0  Squad 2.0           Premier_League   \n",
       "143307  119274        119274    119274.0  Squad 2.0              Great_power   \n",
       "\n",
       "                                                paragraph  \\\n",
       "143303  In 1928, Laemmle, Sr. made his son, Carl, Jr. ...   \n",
       "143304  The history of Jews in Greece goes back to at ...   \n",
       "143305  Some countries were not included for various r...   \n",
       "143306  Despite significant European success during th...   \n",
       "143307  When World War II started in 1939, it divided ...   \n",
       "\n",
       "                                                 question  \\\n",
       "143303  At what age did Carl Laemmle, Jr. become presi...   \n",
       "143304  The Greek historian Herodotus listed the Jews ...   \n",
       "143305             What year were all countries included?   \n",
       "143306  Had the Football League First Division ever be...   \n",
       "143307              Who was part of the inclusion powers?   \n",
       "\n",
       "                     question_id is_impossible  \\\n",
       "143303  56e14c5fcd28a01900c67772         False   \n",
       "143304  571a87714faf5e1900b8aa17         False   \n",
       "143305  5ad0cd5f645df0001a2d03de          True   \n",
       "143306  572fbb02b2c2fd14005683bc         False   \n",
       "143307  5a14aafca54d42001852930b          True   \n",
       "\n",
       "                                                  answers  \\\n",
       "143303                                                 21   \n",
       "143304                              the invading Persians   \n",
       "143305                                               2014   \n",
       "143306  The Football League First Division, which had ...   \n",
       "143307                           Germany, Italy and Japan   \n",
       "\n",
       "                                         expanded_answers  is_searchable  \\\n",
       "143303  r. being known around the studios as \"Uncle Ca...            1.0   \n",
       "143304   and listed them among the levied naval forces...            1.0   \n",
       "143305                                        and Tuvalu.            1.0   \n",
       "143306  for five years following the Heysel Stadium di...            1.0   \n",
       "143307   and Japan.[nb 1] During World War II, the Uni...            1.0   \n",
       "\n",
       "        Unnamed: 0.3  Unnamed: 0.2  Unnamed: 0.1 data  \n",
       "143303           NaN           NaN           NaN  NaN  \n",
       "143304           NaN           NaN           NaN  NaN  \n",
       "143305           NaN           NaN           NaN  NaN  \n",
       "143306           NaN           NaN           NaN  NaN  \n",
       "143307           NaN           NaN           NaN  NaN  "
      ]
     },
     "execution_count": 14,
     "metadata": {},
     "output_type": "execute_result"
    }
   ],
   "source": [
    "training_df.tail()"
   ]
  },
  {
   "cell_type": "code",
   "execution_count": 15,
   "id": "47aae5ae-a367-4e53-a767-55298d9d4d43",
   "metadata": {},
   "outputs": [
    {
     "data": {
      "text/html": [
       "<div>\n",
       "<style scoped>\n",
       "    .dataframe tbody tr th:only-of-type {\n",
       "        vertical-align: middle;\n",
       "    }\n",
       "\n",
       "    .dataframe tbody tr th {\n",
       "        vertical-align: top;\n",
       "    }\n",
       "\n",
       "    .dataframe thead th {\n",
       "        text-align: right;\n",
       "    }\n",
       "</style>\n",
       "<table border=\"1\" class=\"dataframe\">\n",
       "  <thead>\n",
       "    <tr style=\"text-align: right;\">\n",
       "      <th></th>\n",
       "      <th>level_0</th>\n",
       "      <th>index</th>\n",
       "      <th>Unnamed: 0.4</th>\n",
       "      <th>Unnamed: 0</th>\n",
       "      <th>source</th>\n",
       "      <th>topic</th>\n",
       "      <th>paragraph</th>\n",
       "      <th>question</th>\n",
       "      <th>question_id</th>\n",
       "      <th>is_impossible</th>\n",
       "      <th>answers</th>\n",
       "      <th>expanded_answers</th>\n",
       "      <th>is_searchable</th>\n",
       "      <th>Unnamed: 0.3</th>\n",
       "      <th>Unnamed: 0.2</th>\n",
       "      <th>Unnamed: 0.1</th>\n",
       "      <th>data</th>\n",
       "    </tr>\n",
       "  </thead>\n",
       "  <tbody>\n",
       "    <tr>\n",
       "      <th>61413</th>\n",
       "      <td>204721</td>\n",
       "      <td>31311</td>\n",
       "      <td>31311</td>\n",
       "      <td>31311.0</td>\n",
       "      <td>Squad 2.0</td>\n",
       "      <td>Houston</td>\n",
       "      <td>Houston was founded in 1836 on land near the b...</td>\n",
       "      <td>For what battle was Sam Houston known as comma...</td>\n",
       "      <td>570a898d4103511400d59838</td>\n",
       "      <td>False</td>\n",
       "      <td>Battle of San Jacinto</td>\n",
       "      <td>he Battle of San Jacinto 25 miles (40 km) east...</td>\n",
       "      <td>1.0</td>\n",
       "      <td>NaN</td>\n",
       "      <td>NaN</td>\n",
       "      <td>NaN</td>\n",
       "      <td>NaN</td>\n",
       "    </tr>\n",
       "    <tr>\n",
       "      <th>61414</th>\n",
       "      <td>204722</td>\n",
       "      <td>125193</td>\n",
       "      <td>125193</td>\n",
       "      <td>125193.0</td>\n",
       "      <td>Squad 2.0</td>\n",
       "      <td>Financial_crisis_of_2007%E2%80%9308</td>\n",
       "      <td>In the early and mid-2000s, the Bush administr...</td>\n",
       "      <td>Who rebuked OFHEO in 2003 for their attempt at...</td>\n",
       "      <td>5732b191d6dcfa19001e8a80</td>\n",
       "      <td>False</td>\n",
       "      <td>House Financial Services Committee</td>\n",
       "      <td>urging of the administration to assess safety...</td>\n",
       "      <td>1.0</td>\n",
       "      <td>NaN</td>\n",
       "      <td>NaN</td>\n",
       "      <td>NaN</td>\n",
       "      <td>NaN</td>\n",
       "    </tr>\n",
       "    <tr>\n",
       "      <th>61415</th>\n",
       "      <td>204723</td>\n",
       "      <td>103353</td>\n",
       "      <td>103353</td>\n",
       "      <td>103353.0</td>\n",
       "      <td>Squad 2.0</td>\n",
       "      <td>Neptune</td>\n",
       "      <td>The dipole component of the magnetic field at ...</td>\n",
       "      <td>Besides the geometrical constraints of Neptune...</td>\n",
       "      <td>572ea25103f9891900756870</td>\n",
       "      <td>False</td>\n",
       "      <td>the planet's centre</td>\n",
       "      <td>y that includes relatively large contributions...</td>\n",
       "      <td>1.0</td>\n",
       "      <td>NaN</td>\n",
       "      <td>NaN</td>\n",
       "      <td>NaN</td>\n",
       "      <td>NaN</td>\n",
       "    </tr>\n",
       "    <tr>\n",
       "      <th>61416</th>\n",
       "      <td>204724</td>\n",
       "      <td>153300</td>\n",
       "      <td>153300</td>\n",
       "      <td>22981.0</td>\n",
       "      <td>NaN</td>\n",
       "      <td>NaN</td>\n",
       "      <td>NaN</td>\n",
       "      <td>Can you provide any safety tips for tourists v...</td>\n",
       "      <td>NaN</td>\n",
       "      <td>NaN</td>\n",
       "      <td>NaN</td>\n",
       "      <td>NaN</td>\n",
       "      <td>1.0</td>\n",
       "      <td>22981.0</td>\n",
       "      <td>22981.0</td>\n",
       "      <td>22981.0</td>\n",
       "      <td>['Can you provide any safety tips for tourists...</td>\n",
       "    </tr>\n",
       "    <tr>\n",
       "      <th>61417</th>\n",
       "      <td>204725</td>\n",
       "      <td>160203</td>\n",
       "      <td>160203</td>\n",
       "      <td>29884.0</td>\n",
       "      <td>NaN</td>\n",
       "      <td>NaN</td>\n",
       "      <td>NaN</td>\n",
       "      <td>Are there any notable social or political move...</td>\n",
       "      <td>NaN</td>\n",
       "      <td>NaN</td>\n",
       "      <td>NaN</td>\n",
       "      <td>NaN</td>\n",
       "      <td>1.0</td>\n",
       "      <td>29884.0</td>\n",
       "      <td>29884.0</td>\n",
       "      <td>29884.0</td>\n",
       "      <td>['Are there any notable social or political mo...</td>\n",
       "    </tr>\n",
       "  </tbody>\n",
       "</table>\n",
       "</div>"
      ],
      "text/plain": [
       "       level_0   index  Unnamed: 0.4  Unnamed: 0     source  \\\n",
       "61413   204721   31311         31311     31311.0  Squad 2.0   \n",
       "61414   204722  125193        125193    125193.0  Squad 2.0   \n",
       "61415   204723  103353        103353    103353.0  Squad 2.0   \n",
       "61416   204724  153300        153300     22981.0        NaN   \n",
       "61417   204725  160203        160203     29884.0        NaN   \n",
       "\n",
       "                                     topic  \\\n",
       "61413                              Houston   \n",
       "61414  Financial_crisis_of_2007%E2%80%9308   \n",
       "61415                              Neptune   \n",
       "61416                                  NaN   \n",
       "61417                                  NaN   \n",
       "\n",
       "                                               paragraph  \\\n",
       "61413  Houston was founded in 1836 on land near the b...   \n",
       "61414  In the early and mid-2000s, the Bush administr...   \n",
       "61415  The dipole component of the magnetic field at ...   \n",
       "61416                                                NaN   \n",
       "61417                                                NaN   \n",
       "\n",
       "                                                question  \\\n",
       "61413  For what battle was Sam Houston known as comma...   \n",
       "61414  Who rebuked OFHEO in 2003 for their attempt at...   \n",
       "61415  Besides the geometrical constraints of Neptune...   \n",
       "61416  Can you provide any safety tips for tourists v...   \n",
       "61417  Are there any notable social or political move...   \n",
       "\n",
       "                    question_id is_impossible  \\\n",
       "61413  570a898d4103511400d59838         False   \n",
       "61414  5732b191d6dcfa19001e8a80         False   \n",
       "61415  572ea25103f9891900756870         False   \n",
       "61416                       NaN           NaN   \n",
       "61417                       NaN           NaN   \n",
       "\n",
       "                                  answers  \\\n",
       "61413               Battle of San Jacinto   \n",
       "61414  House Financial Services Committee   \n",
       "61415                 the planet's centre   \n",
       "61416                                 NaN   \n",
       "61417                                 NaN   \n",
       "\n",
       "                                        expanded_answers  is_searchable  \\\n",
       "61413  he Battle of San Jacinto 25 miles (40 km) east...            1.0   \n",
       "61414   urging of the administration to assess safety...            1.0   \n",
       "61415  y that includes relatively large contributions...            1.0   \n",
       "61416                                                NaN            1.0   \n",
       "61417                                                NaN            1.0   \n",
       "\n",
       "       Unnamed: 0.3  Unnamed: 0.2  Unnamed: 0.1  \\\n",
       "61413           NaN           NaN           NaN   \n",
       "61414           NaN           NaN           NaN   \n",
       "61415           NaN           NaN           NaN   \n",
       "61416       22981.0       22981.0       22981.0   \n",
       "61417       29884.0       29884.0       29884.0   \n",
       "\n",
       "                                                    data  \n",
       "61413                                                NaN  \n",
       "61414                                                NaN  \n",
       "61415                                                NaN  \n",
       "61416  ['Can you provide any safety tips for tourists...  \n",
       "61417  ['Are there any notable social or political mo...  "
      ]
     },
     "execution_count": 15,
     "metadata": {},
     "output_type": "execute_result"
    }
   ],
   "source": [
    "validation_df.tail()"
   ]
  },
  {
   "cell_type": "code",
   "execution_count": 16,
   "id": "d309edb0-a158-4ae7-b116-be8736bd085e",
   "metadata": {},
   "outputs": [],
   "source": [
    "validation_df.to_csv(const.DATASETS_FOLDER + \"QI_validation.csv\")"
   ]
  },
  {
   "cell_type": "code",
   "execution_count": 17,
   "id": "818fd65e-1ec3-4e2f-9b3f-b3849b2a5f1c",
   "metadata": {},
   "outputs": [],
   "source": [
    "torch.backends.cudnn.deterministic=True"
   ]
  },
  {
   "cell_type": "code",
   "execution_count": 18,
   "id": "5ab6600c-06c5-440d-90ec-63008196b4b7",
   "metadata": {},
   "outputs": [],
   "source": [
    "labels = training_df[LABEL_COL].unique()"
   ]
  },
  {
   "cell_type": "code",
   "execution_count": 19,
   "id": "dcf833a9-d287-4370-b7f2-49436857b97d",
   "metadata": {},
   "outputs": [],
   "source": [
    "weights = compute_class_weight(class_weight=\"balanced\", classes=labels, y=training_df[LABEL_COL].to_numpy())"
   ]
  },
  {
   "cell_type": "code",
   "execution_count": 20,
   "id": "00b8905a-e584-41d8-95de-4ad46fcefcf0",
   "metadata": {},
   "outputs": [],
   "source": [
    "loss_weights = torch.Tensor(weights)\n",
    "#loss_weights = None"
   ]
  },
  {
   "cell_type": "code",
   "execution_count": 21,
   "id": "d7ca565c-597e-4105-9c29-14748d133160",
   "metadata": {},
   "outputs": [
    {
     "data": {
      "text/plain": [
       "Index(['Unnamed: 0.4', 'Unnamed: 0', 'source', 'topic', 'paragraph',\n",
       "       'question', 'question_id', 'is_impossible', 'answers',\n",
       "       'expanded_answers', 'is_searchable', 'Unnamed: 0.3', 'Unnamed: 0.2',\n",
       "       'Unnamed: 0.1', 'data'],\n",
       "      dtype='object')"
      ]
     },
     "execution_count": 21,
     "metadata": {},
     "output_type": "execute_result"
    }
   ],
   "source": [
    "testing_df.columns"
   ]
  },
  {
   "cell_type": "code",
   "execution_count": 22,
   "id": "1d8908f1-48e8-4769-9308-828cdea4dac4",
   "metadata": {},
   "outputs": [
    {
     "data": {
      "text/plain": [
       "Index(['index', 'Unnamed: 0.4', 'Unnamed: 0', 'source', 'topic', 'paragraph',\n",
       "       'question', 'question_id', 'is_impossible', 'answers',\n",
       "       'expanded_answers', 'is_searchable', 'Unnamed: 0.3', 'Unnamed: 0.2',\n",
       "       'Unnamed: 0.1', 'data'],\n",
       "      dtype='object')"
      ]
     },
     "execution_count": 22,
     "metadata": {},
     "output_type": "execute_result"
    }
   ],
   "source": [
    "training_df.columns"
   ]
  },
  {
   "cell_type": "code",
   "execution_count": 23,
   "id": "2647555e-2b32-4c33-8ba3-daebc501b43d",
   "metadata": {},
   "outputs": [
    {
     "data": {
      "text/html": [
       "<div>\n",
       "<style scoped>\n",
       "    .dataframe tbody tr th:only-of-type {\n",
       "        vertical-align: middle;\n",
       "    }\n",
       "\n",
       "    .dataframe tbody tr th {\n",
       "        vertical-align: top;\n",
       "    }\n",
       "\n",
       "    .dataframe thead th {\n",
       "        text-align: right;\n",
       "    }\n",
       "</style>\n",
       "<table border=\"1\" class=\"dataframe\">\n",
       "  <thead>\n",
       "    <tr style=\"text-align: right;\">\n",
       "      <th></th>\n",
       "      <th>Unnamed: 0.4</th>\n",
       "      <th>Unnamed: 0</th>\n",
       "      <th>source</th>\n",
       "      <th>topic</th>\n",
       "      <th>paragraph</th>\n",
       "      <th>question</th>\n",
       "      <th>question_id</th>\n",
       "      <th>is_impossible</th>\n",
       "      <th>answers</th>\n",
       "      <th>expanded_answers</th>\n",
       "      <th>is_searchable</th>\n",
       "      <th>Unnamed: 0.3</th>\n",
       "      <th>Unnamed: 0.2</th>\n",
       "      <th>Unnamed: 0.1</th>\n",
       "      <th>data</th>\n",
       "    </tr>\n",
       "  </thead>\n",
       "  <tbody>\n",
       "    <tr>\n",
       "      <th>0</th>\n",
       "      <td>0</td>\n",
       "      <td>0.0</td>\n",
       "      <td>Squad 2.0</td>\n",
       "      <td>Normans</td>\n",
       "      <td>The Normans (Norman: Nourmands; French: Norman...</td>\n",
       "      <td>In what country is Normandy located?</td>\n",
       "      <td>56ddde6b9a695914005b9628</td>\n",
       "      <td>False</td>\n",
       "      <td>France</td>\n",
       "      <td>and and Norway who, under their leader Rollo, ...</td>\n",
       "      <td>1.0</td>\n",
       "      <td>NaN</td>\n",
       "      <td>NaN</td>\n",
       "      <td>NaN</td>\n",
       "      <td>NaN</td>\n",
       "    </tr>\n",
       "    <tr>\n",
       "      <th>1</th>\n",
       "      <td>1</td>\n",
       "      <td>1.0</td>\n",
       "      <td>Squad 2.0</td>\n",
       "      <td>Normans</td>\n",
       "      <td>The Normans (Norman: Nourmands; French: Norman...</td>\n",
       "      <td>In what country is Normandy located?</td>\n",
       "      <td>56ddde6b9a695914005b9628</td>\n",
       "      <td>False</td>\n",
       "      <td>France</td>\n",
       "      <td>and and Norway who, under their leader Rollo, ...</td>\n",
       "      <td>1.0</td>\n",
       "      <td>NaN</td>\n",
       "      <td>NaN</td>\n",
       "      <td>NaN</td>\n",
       "      <td>NaN</td>\n",
       "    </tr>\n",
       "    <tr>\n",
       "      <th>2</th>\n",
       "      <td>2</td>\n",
       "      <td>2.0</td>\n",
       "      <td>Squad 2.0</td>\n",
       "      <td>Normans</td>\n",
       "      <td>The Normans (Norman: Nourmands; French: Norman...</td>\n",
       "      <td>In what country is Normandy located?</td>\n",
       "      <td>56ddde6b9a695914005b9628</td>\n",
       "      <td>False</td>\n",
       "      <td>France</td>\n",
       "      <td>and and Norway who, under their leader Rollo, ...</td>\n",
       "      <td>1.0</td>\n",
       "      <td>NaN</td>\n",
       "      <td>NaN</td>\n",
       "      <td>NaN</td>\n",
       "      <td>NaN</td>\n",
       "    </tr>\n",
       "    <tr>\n",
       "      <th>3</th>\n",
       "      <td>3</td>\n",
       "      <td>3.0</td>\n",
       "      <td>Squad 2.0</td>\n",
       "      <td>Normans</td>\n",
       "      <td>The Normans (Norman: Nourmands; French: Norman...</td>\n",
       "      <td>In what country is Normandy located?</td>\n",
       "      <td>56ddde6b9a695914005b9628</td>\n",
       "      <td>False</td>\n",
       "      <td>France</td>\n",
       "      <td>and and Norway who, under their leader Rollo, ...</td>\n",
       "      <td>1.0</td>\n",
       "      <td>NaN</td>\n",
       "      <td>NaN</td>\n",
       "      <td>NaN</td>\n",
       "      <td>NaN</td>\n",
       "    </tr>\n",
       "    <tr>\n",
       "      <th>4</th>\n",
       "      <td>4</td>\n",
       "      <td>4.0</td>\n",
       "      <td>Squad 2.0</td>\n",
       "      <td>Normans</td>\n",
       "      <td>The Normans (Norman: Nourmands; French: Norman...</td>\n",
       "      <td>When were the Normans in Normandy?</td>\n",
       "      <td>56ddde6b9a695914005b9629</td>\n",
       "      <td>False</td>\n",
       "      <td>10th and 11th centuries</td>\n",
       "      <td>and and Norway who, under their leader Rollo, ...</td>\n",
       "      <td>1.0</td>\n",
       "      <td>NaN</td>\n",
       "      <td>NaN</td>\n",
       "      <td>NaN</td>\n",
       "      <td>NaN</td>\n",
       "    </tr>\n",
       "  </tbody>\n",
       "</table>\n",
       "</div>"
      ],
      "text/plain": [
       "   Unnamed: 0.4  Unnamed: 0     source    topic  \\\n",
       "0             0         0.0  Squad 2.0  Normans   \n",
       "1             1         1.0  Squad 2.0  Normans   \n",
       "2             2         2.0  Squad 2.0  Normans   \n",
       "3             3         3.0  Squad 2.0  Normans   \n",
       "4             4         4.0  Squad 2.0  Normans   \n",
       "\n",
       "                                           paragraph  \\\n",
       "0  The Normans (Norman: Nourmands; French: Norman...   \n",
       "1  The Normans (Norman: Nourmands; French: Norman...   \n",
       "2  The Normans (Norman: Nourmands; French: Norman...   \n",
       "3  The Normans (Norman: Nourmands; French: Norman...   \n",
       "4  The Normans (Norman: Nourmands; French: Norman...   \n",
       "\n",
       "                               question               question_id  \\\n",
       "0  In what country is Normandy located?  56ddde6b9a695914005b9628   \n",
       "1  In what country is Normandy located?  56ddde6b9a695914005b9628   \n",
       "2  In what country is Normandy located?  56ddde6b9a695914005b9628   \n",
       "3  In what country is Normandy located?  56ddde6b9a695914005b9628   \n",
       "4    When were the Normans in Normandy?  56ddde6b9a695914005b9629   \n",
       "\n",
       "  is_impossible                  answers  \\\n",
       "0         False                   France   \n",
       "1         False                   France   \n",
       "2         False                   France   \n",
       "3         False                   France   \n",
       "4         False  10th and 11th centuries   \n",
       "\n",
       "                                    expanded_answers  is_searchable  \\\n",
       "0  and and Norway who, under their leader Rollo, ...            1.0   \n",
       "1  and and Norway who, under their leader Rollo, ...            1.0   \n",
       "2  and and Norway who, under their leader Rollo, ...            1.0   \n",
       "3  and and Norway who, under their leader Rollo, ...            1.0   \n",
       "4  and and Norway who, under their leader Rollo, ...            1.0   \n",
       "\n",
       "   Unnamed: 0.3  Unnamed: 0.2  Unnamed: 0.1 data  \n",
       "0           NaN           NaN           NaN  NaN  \n",
       "1           NaN           NaN           NaN  NaN  \n",
       "2           NaN           NaN           NaN  NaN  \n",
       "3           NaN           NaN           NaN  NaN  \n",
       "4           NaN           NaN           NaN  NaN  "
      ]
     },
     "execution_count": 23,
     "metadata": {},
     "output_type": "execute_result"
    }
   ],
   "source": [
    "testing_df.head()"
   ]
  },
  {
   "cell_type": "code",
   "execution_count": 24,
   "id": "aad116c6-c248-4916-8880-f53e1a252c6c",
   "metadata": {},
   "outputs": [],
   "source": [
    "TEXT = data.Field(tokenize='spacy', tokenizer_language = \"en_core_web_sm\")\n",
    "LABEL = data.LabelField(dtype = torch.float)\n",
    "\n",
    "fields = {\n",
    "    FEATURE_COL: (FEATURE_COL, TEXT),\n",
    "    LABEL_COL: (LABEL_COL, LABEL)\n",
    "}"
   ]
  },
  {
   "cell_type": "code",
   "execution_count": 25,
   "id": "48bcbaeb-1ad4-47d7-ac48-c520340c0ae9",
   "metadata": {},
   "outputs": [
    {
     "name": "stdout",
     "output_type": "stream",
     "text": [
      "{'question': ['When', 'did', 'Beyonce', 'start', 'becoming', 'popular', '?'], 'is_searchable': '1.0'}\n"
     ]
    }
   ],
   "source": [
    "training_ds, val_ds, testing_ds= data.TabularDataset.splits(\n",
    "    path = const.DATASETS_FOLDER,\n",
    "    train = \"QI_training.csv\",\n",
    "    validation = \"QI_validation.csv\",\n",
    "    test = \"QI_testing.csv\",\n",
    "    format = 'csv',\n",
    "    fields = fields\n",
    ")\n",
    "\n",
    "print(vars(training_ds[0]))"
   ]
  },
  {
   "cell_type": "code",
   "execution_count": 26,
   "id": "90a69d71-cd5f-4a33-a3d8-9d880bc81dcd",
   "metadata": {},
   "outputs": [],
   "source": [
    "TEXT.build_vocab(training_ds, max_size=CORPUS_SIZE)\n",
    "LABEL.build_vocab(training_ds)"
   ]
  },
  {
   "cell_type": "code",
   "execution_count": 27,
   "id": "8c7bd416-a746-4114-925d-889a994d09f8",
   "metadata": {},
   "outputs": [],
   "source": [
    "training_dl, val_dl, testing_dl = data.BucketIterator.splits(\n",
    "    (training_ds, val_ds, testing_ds),\n",
    "    batch_size=BATCH_SIZE,\n",
    "    device=selected_device,\n",
    "    sort=False\n",
    ")"
   ]
  },
  {
   "cell_type": "code",
   "execution_count": 28,
   "id": "5a54a6ca-1f51-4da9-a167-ca44330e6076",
   "metadata": {},
   "outputs": [],
   "source": [
    "class QIClassifier(nn.Module):\n",
    "    \n",
    "    def __init__(self, input_dim, embedding_dim, hidden_dim, output_dim):\n",
    "        super().__init__()\n",
    "\n",
    "        self.embedding = nn.Embedding(input_dim, embedding_dim)\n",
    "        self.rnn = nn.LSTM(embedding_dim, hidden_dim, num_layers=2,\n",
    "              batch_first=False)\n",
    "        self.fc = nn.Linear(hidden_dim, output_dim)\n",
    "        self.softmax = nn.Softmax(dim=1)\n",
    "\n",
    "    def forward(self, text):\n",
    "        embedded_text = self.embedding(text)\n",
    "        output, hidden = self.rnn(embedded_text)\n",
    "        logits = self.fc(output[-1, :, :])\n",
    "        output = self.softmax(logits)\n",
    "        return logits, output\n",
    "        "
   ]
  },
  {
   "cell_type": "code",
   "execution_count": 29,
   "id": "0fb0e2c6-47fb-4f3a-a1be-11c4f2ed5bbd",
   "metadata": {},
   "outputs": [],
   "source": [
    "def train(model, training_ds, validation_ds=None, epochs=10, class_weights=None, device=\"cpu\", epoch_timestamp=1, lr=0.001):\n",
    "    optimizer = torch.optim.SGD(model.parameters(), lr=lr)\n",
    "    epoch_modulus: int\n",
    "    model.train()\n",
    "    model = model.to(device)\n",
    "    if class_weights is not None:\n",
    "        class_weights = class_weights.to(device)\n",
    "    if device == \"cuda\":\n",
    "        loss = nn.CrossEntropyLoss(weight=class_weights).cuda()\n",
    "    else:\n",
    "        loss = nn.CrossEntropyLoss(weight=class_weights)\n",
    "\n",
    "    ds_ls = {\"training\": training_ds, \"validation\": validation_ds}\n",
    "    \n",
    "    for i in range(epochs):            \n",
    "        epoch_modulus = i % epoch_timestamp\n",
    "        for phase in ds_ls.keys():\n",
    "            ds = ds_ls[phase]\n",
    "            \n",
    "            if ds is None:\n",
    "                print(\"Skipping validation\")\n",
    "                continue\n",
    "            \n",
    "            if phase == \"training\":\n",
    "                model.train()\n",
    "            elif phase == \"validation\":\n",
    "                model.eval()\n",
    "                \n",
    "            for batch_id, batch_data in enumerate(ds):\n",
    "                logits, out = model(batch_data.question.to(device))\n",
    "                logits = logits.to(device)\n",
    "                if phase == \"training\":\n",
    "                    optimizer.zero_grad()\n",
    "                label = batch_data.is_searchable.to(device)\n",
    "                cost = loss(logits, label.to(torch.long))\n",
    "                if phase == \"training\":\n",
    "                    cost.backward()\n",
    "                    optimizer.step()\n",
    "                    cost = cost.cpu().item()\n",
    "                elif phase == \"validation\":\n",
    "                    cost = cost.cpu().item()\n",
    "                    \n",
    "                if epoch_timestamp == 1:\n",
    "                    (print(\"Epoch \" + str(i + 1) + \"/\" + str(epochs) + \n",
    "                           \" \" + phase + \" loss: \" + str(cost), \n",
    "                           end=\"                                \\r\"))\n",
    "                elif epoch_timestamp > 1:\n",
    "                    if epoch_modulus == epoch_timestamp - 1:\n",
    "                        end_line = \"\\n\"\n",
    "                    else:\n",
    "                        end_line = \"                        \\r\"\n",
    "                    print(\"Epoch \" + str(i + 1) + \"/\" + str(epochs) + \" \" + phase +  \" loss: \" + str(cost), end=end_line)\n",
    "                else:\n",
    "                    raise ValueError(\"Expected epoch_timestamp parameter to be a non-negative number but got \" + str(epoch_timestamp))\n",
    "            print()"
   ]
  },
  {
   "cell_type": "code",
   "execution_count": 30,
   "id": "adc01f41-cecc-4719-9944-005ffda7a102",
   "metadata": {},
   "outputs": [],
   "source": [
    "qi_classifier = QIClassifier(len(TEXT.vocab), EMBEDDING_DIM, HIDDEN_DIM, OUTPUT_DIM)"
   ]
  },
  {
   "cell_type": "code",
   "execution_count": 31,
   "id": "b51bcdbc-5cba-4a90-a70c-b2f0d73efe05",
   "metadata": {},
   "outputs": [
    {
     "name": "stdout",
     "output_type": "stream",
     "text": [
      "Epoch 1/50 training loss: 0.6934905648231506                                \n",
      "Epoch 1/50 validation loss: 0.6918582320213318                                \n",
      "Epoch 2/50 training loss: 0.6945582628250122                                \n",
      "Epoch 2/50 validation loss: 0.6917373538017273                                \n",
      "Epoch 3/50 training loss: 0.6911581754684448                                \n",
      "Epoch 3/50 validation loss: 0.6905151009559631                                \n",
      "Epoch 4/50 training loss: 0.6950238347053528                                \n",
      "Epoch 4/50 validation loss: 0.6906713247299194                                \n",
      "Epoch 5/50 training loss: 0.6928452849388123                                \n",
      "Epoch 5/50 validation loss: 0.691433310508728                                 \n",
      "Epoch 6/50 training loss: 0.6921548247337341                                \n",
      "Epoch 6/50 validation loss: 0.6902626752853394                                \n",
      "Epoch 7/50 training loss: 0.6920985579490662                                \n",
      "Epoch 7/50 validation loss: 0.6899491548538208                                \n",
      "Epoch 8/50 training loss: 0.6911934614181519                                \n",
      "Epoch 8/50 validation loss: 0.6910343766212463                                \n",
      "Epoch 9/50 training loss: 0.6931272149085999                                \n",
      "Epoch 9/50 validation loss: 0.6916347146034241                                \n",
      "Epoch 10/50 training loss: 0.6935577988624573                                \n",
      "Epoch 10/50 validation loss: 0.6906211972236633                                \n",
      "Epoch 11/50 training loss: 0.6907471418380737                                \n",
      "Epoch 11/50 validation loss: 0.6897918581962585                                \n",
      "Epoch 12/50 training loss: 0.6927986741065979                                \n",
      "Epoch 12/50 validation loss: 0.6905767917633057                                \n",
      "Epoch 13/50 training loss: 0.6920525431632996                                \n",
      "Epoch 13/50 validation loss: 0.6898548007011414                                \n",
      "Epoch 14/50 training loss: 0.6923828721046448                                \n",
      "Epoch 14/50 validation loss: 0.6898971199989319                                \n",
      "Epoch 15/50 training loss: 0.6929407715797424                                \n",
      "Epoch 15/50 validation loss: 0.6907406449317932                                \n",
      "Epoch 16/50 training loss: 0.6914966106414795                                \n",
      "Epoch 16/50 validation loss: 0.6893757581710815                                \n",
      "Epoch 17/50 training loss: 0.6929723024368286                                \n",
      "Epoch 17/50 validation loss: 0.6886076331138611                                \n",
      "Epoch 18/50 training loss: 0.6907625794410706                                \n",
      "Epoch 18/50 validation loss: 0.6880524754524231                                \n",
      "Epoch 19/50 training loss: 0.6791861057281494                                \n",
      "Epoch 19/50 validation loss: 0.677686870098114                                 \n",
      "Epoch 20/50 training loss: 0.5453477501869202                                \n",
      "Epoch 20/50 validation loss: 0.5251674056053162                                 \n",
      "Epoch 21/50 training loss: 0.6870469450950623                                 \n",
      "Epoch 21/50 validation loss: 0.6868610978126526                                \n",
      "Epoch 22/50 training loss: 0.6896671652793884                                \n",
      "Epoch 22/50 validation loss: 0.686084508895874                                 \n",
      "Epoch 23/50 training loss: 0.6865379214286804                                \n",
      "Epoch 23/50 validation loss: 0.672480583190918                                 \n",
      "Epoch 24/50 training loss: 0.47525861859321594                                \n",
      "Epoch 24/50 validation loss: 0.47417908906936646                                \n",
      "Epoch 25/50 training loss: 0.5116181373596191                                 \n",
      "Epoch 25/50 validation loss: 0.32510024309158325                                \n",
      "Epoch 26/50 training loss: 0.3098578453063965                                 \n",
      "Epoch 26/50 validation loss: 0.25157248973846436                                \n",
      "Epoch 27/50 training loss: 0.3824525475502014                                 \n",
      "Epoch 27/50 validation loss: 0.2665477991104126                                 \n",
      "Epoch 28/50 training loss: 0.737493634223938                                  \n",
      "Epoch 28/50 validation loss: 0.18287338316440582                                \n",
      "Epoch 29/50 training loss: 0.39317166805267334                                \n",
      "Epoch 29/50 validation loss: 0.10958393663167953                                \n",
      "Epoch 30/50 training loss: 0.2247372269630432                                 \n",
      "Epoch 30/50 validation loss: 0.10768460482358932                                \n",
      "Epoch 31/50 training loss: 0.16137132048606873                                 \n",
      "Epoch 31/50 validation loss: 0.1339140236377716                                 \n",
      "Epoch 32/50 training loss: 0.11649386584758759                                 \n",
      "Epoch 32/50 validation loss: 0.09251503646373749                                 \n",
      "Epoch 33/50 training loss: 0.18324245512485504                                 \n",
      "Epoch 33/50 validation loss: 0.07605575770139694                                 \n",
      "Epoch 34/50 training loss: 0.16387377679347992                                 \n",
      "Epoch 34/50 validation loss: 0.0591808445751667                                  \n",
      "Epoch 35/50 training loss: 0.14042353630065918                                 \n",
      "Epoch 35/50 validation loss: 0.06633282452821732                                 \n",
      "Epoch 36/50 training loss: 0.024500222876667976                                \n",
      "Epoch 36/50 validation loss: 0.02893754653632641                                 \n",
      "Epoch 37/50 training loss: 0.128962904214859                                   \n",
      "Epoch 37/50 validation loss: 0.04033634811639786                                 \n",
      "Epoch 38/50 training loss: 0.10454902797937393                                 \n",
      "Epoch 38/50 validation loss: 0.03851756453514099                                 \n",
      "Epoch 39/50 training loss: 0.15807630121707916                                 \n",
      "Epoch 39/50 validation loss: 0.03273271024227142                                 \n",
      "Epoch 40/50 training loss: 0.04134530574083328                                  \n",
      "Epoch 40/50 validation loss: 0.03481347858905792                                 \n",
      "Epoch 41/50 training loss: 0.10072389990091324                                  \n",
      "Epoch 41/50 validation loss: 0.02417565882205963                                 \n",
      "Epoch 42/50 training loss: 0.0801241472363472                                   \n",
      "Epoch 42/50 validation loss: 0.024486655369400978                                \n",
      "Epoch 43/50 training loss: 0.03287314996123314                                  \n",
      "Epoch 43/50 validation loss: 0.01756923831999302                                 \n",
      "Epoch 44/50 training loss: 0.01046839077025652                                  \n",
      "Epoch 44/50 validation loss: 0.017265358939766884                                \n",
      "Epoch 45/50 training loss: 0.02669244445860386                                  \n",
      "Epoch 45/50 validation loss: 0.014300142414867878                                \n",
      "Epoch 46/50 training loss: 0.08447668701410294                                  \n",
      "Epoch 46/50 validation loss: 0.033810120075941086                                \n",
      "Epoch 47/50 training loss: 0.06684610992670059                                  \n",
      "Epoch 47/50 validation loss: 0.016052624210715294                                 \n",
      "Epoch 48/50 training loss: 0.052789922803640366                                 \n",
      "Epoch 48/50 validation loss: 0.010639236308634281                                 \n",
      "Epoch 49/50 training loss: 0.03804033622145653                                  \n",
      "Epoch 49/50 validation loss: 0.009852789342403412                                 \n",
      "Epoch 50/50 training loss: 0.0450286790728569                                   \n",
      "Epoch 50/50 validation loss: 0.009444115683436394                                 \n"
     ]
    }
   ],
   "source": [
    "train(qi_classifier, training_dl, validation_ds = val_dl, epochs=EPOCHS, class_weights=loss_weights, device=selected_device, lr=LEARNING_RATE)"
   ]
  },
  {
   "cell_type": "code",
   "execution_count": 32,
   "id": "c3bb1182-1070-45ec-aa51-dbb9996c1bb9",
   "metadata": {},
   "outputs": [],
   "source": [
    "torch.save(qi_classifier, MODEL_SAVE_PATH)"
   ]
  },
  {
   "cell_type": "code",
   "execution_count": 33,
   "id": "2a8f0a47-4343-4cc3-97c7-fdb4c3a185df",
   "metadata": {},
   "outputs": [],
   "source": [
    "tokenizer = spacy.load(\"en_core_web_sm\")"
   ]
  },
  {
   "cell_type": "code",
   "execution_count": 41,
   "id": "db668834-7ecc-47a8-bdd3-d8e9a8c11a12",
   "metadata": {},
   "outputs": [],
   "source": [
    "def predict(model, input_sentence, tokenizer):\n",
    "    model.eval()\n",
    "    token_sent = [tok.text for tok in tokenizer.tokenizer(input_sentence)]\n",
    "    tok_index = [TEXT.vocab.stoi[t] for t in token_sent]\n",
    "    tensor = torch.LongTensor(tok_index).to(selected_device)\n",
    "    tensor = tensor.unsqueeze(1)\n",
    "    logit, probas = model(tensor)\n",
    "    output = torch.argmax(probas, dim=1)\n",
    "    return probas.cpu(), output.cpu()"
   ]
  },
  {
   "cell_type": "code",
   "execution_count": 75,
   "id": "cdab5ab3-619c-4e3e-8716-713829c481b7",
   "metadata": {},
   "outputs": [],
   "source": [
    "probas, output = predict(qi_classifier, \"Who is Beyonce's daughter?\", tokenizer)"
   ]
  },
  {
   "cell_type": "code",
   "execution_count": 76,
   "id": "48fe3409-579e-42f5-a698-34901ef510a7",
   "metadata": {},
   "outputs": [
    {
     "data": {
      "text/plain": [
       "tensor([0])"
      ]
     },
     "execution_count": 76,
     "metadata": {},
     "output_type": "execute_result"
    }
   ],
   "source": [
    "output"
   ]
  },
  {
   "cell_type": "markdown",
   "id": "557e8e37-c926-4137-bdbc-5907969464e1",
   "metadata": {},
   "source": [
    "# IMPORTANT\n",
    "The model may have trained to classify non-searchable terms as 1\n",
    "while searchable terms is classified as 0."
   ]
  },
  {
   "cell_type": "code",
   "execution_count": 62,
   "id": "dcfba2ab-f82a-4706-8a8f-3996c54d4731",
   "metadata": {},
   "outputs": [
    {
     "data": {
      "text/plain": [
       "tensor([[0.2463, 0.7537]], grad_fn=<ToCopyBackward0>)"
      ]
     },
     "execution_count": 62,
     "metadata": {},
     "output_type": "execute_result"
    }
   ],
   "source": [
    "probas"
   ]
  }
 ],
 "metadata": {
  "kernelspec": {
   "display_name": "Python 3 (ipykernel)",
   "language": "python",
   "name": "python3"
  },
  "language_info": {
   "codemirror_mode": {
    "name": "ipython",
    "version": 3
   },
   "file_extension": ".py",
   "mimetype": "text/x-python",
   "name": "python",
   "nbconvert_exporter": "python",
   "pygments_lexer": "ipython3",
   "version": "3.10.12"
  }
 },
 "nbformat": 4,
 "nbformat_minor": 5
}
