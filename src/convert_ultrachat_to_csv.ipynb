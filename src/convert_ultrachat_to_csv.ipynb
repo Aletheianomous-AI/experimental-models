{
 "cells": [
  {
   "cell_type": "code",
   "execution_count": 1,
   "id": "a8a86ffa-978b-481c-b9da-d0969ee07157",
   "metadata": {},
   "outputs": [],
   "source": [
    "from datasets import load_dataset, disable_caching\n",
    "from datetime import datetime as dt\n",
    "\n",
    "\n",
    "import const\n",
    "import json\n",
    "import os\n",
    "import shutil\n",
    "import traceback\n",
    "import pandas as pd"
   ]
  },
  {
   "cell_type": "code",
   "execution_count": 2,
   "id": "463949b5-08b2-4409-b8b4-907014c75f2a",
   "metadata": {},
   "outputs": [],
   "source": [
    "if os.path.isdir(const.TEMP_FOLDER) is False:\n",
    "    os.makedirs(const.TEMP_FOLDER)"
   ]
  },
  {
   "cell_type": "code",
   "execution_count": 3,
   "id": "d05fa5f1",
   "metadata": {},
   "outputs": [
    {
     "data": {
      "application/vnd.jupyter.widget-view+json": {
       "model_id": "a87debc54ca843258e9caf360b8d88a9",
       "version_major": 2,
       "version_minor": 0
      },
      "text/plain": [
       "Loading dataset shards:   0%|          | 0/19 [00:00<?, ?it/s]"
      ]
     },
     "metadata": {},
     "output_type": "display_data"
    }
   ],
   "source": [
    "ds = load_dataset(\"stingning/ultrachat\")"
   ]
  },
  {
   "cell_type": "code",
   "execution_count": 4,
   "id": "378bd355",
   "metadata": {},
   "outputs": [],
   "source": [
    "train_data = ds['train']['data']"
   ]
  },
  {
   "cell_type": "code",
   "execution_count": 5,
   "id": "d8fbd774-0f89-4f79-9371-544ceeedcb88",
   "metadata": {},
   "outputs": [],
   "source": [
    "def convert_ultrachat_to_csv(training_data, batch_size=4000):\n",
    "    \"\"\"This function converts the training_data list to CSV file.\n",
    "    PARAMETERS\n",
    "    training_data - The list of training data to convert to CSV file.\n",
    "    \"\"\"\n",
    "    if batch_size is None:\n",
    "        new_batch_size = len(training_data)\n",
    "    else:\n",
    "        new_batch_size = batch_size\n",
    "    \n",
    "    training_data_len = len(training_data)\n",
    "    start_time = dt.now()\n",
    "    item_number = 0\n",
    "    output_name = const.DATASETS_FOLDER + \"ultrachat_training_ds.csv\"\n",
    "    end_time = None\n",
    "    last_progress = 0\n",
    "    batch_df = None\n",
    "    batch_number = 0\n",
    "    for item in train_data:\n",
    "        \n",
    "        progress = int((item_number/ training_data_len)*100)\n",
    "        progress_str = (\"Converting Ultrachat to CSV (\" + str(progress)+ \"%, Sample: \" + str(item_number) + \n",
    "            \"/\" + str(training_data_len) +\n",
    "           \", Elapsed Time: \")\n",
    "        if end_time is None:\n",
    "            progress_str += \"00:00.00)\"\n",
    "        else:\n",
    "            elapsed_time = end_time - start_time\n",
    "            items_remaining = training_data_len - item_number\n",
    "            average_processing_time = elapsed_time / item_number\n",
    "            time_remaining = average_processing_time * items_remaining\n",
    "            progress_str += str(elapsed_time) + \", Time Remaining: \" + str(time_remaining) + \")\"\n",
    "        print(progress_str, end=\"                                                                               \\r\")\n",
    "        question = item[0]\n",
    "        temp_df = pd.DataFrame(data={\"question\": [question], \"data\": [str(item)]})\n",
    "        \n",
    "        if batch_df is None:\n",
    "            batch_df = temp_df\n",
    "        else:\n",
    "            batch_df = pd.concat([batch_df, temp_df], ignore_index=True)\n",
    "        item_number += 1\n",
    "\n",
    "        if (item_number != 0):\n",
    "            if (item_number % new_batch_size == 0):\n",
    "                try:   \n",
    "                    if batch_size is not None:\n",
    "                        output_name = const.TEMP_FOLDER + \"ultrachat_training_ds_batch_\" + str(batch_number) + \".csv\"\n",
    "                    batch_df.to_csv(output_name)\n",
    "                    batch_df = None\n",
    "                except Exception as e:\n",
    "                    batch_df = None\n",
    "                    print(\"\\nWarning: Unable to export batch \" + str(batch_number) + \".\")\n",
    "                    print(e)\n",
    "                    print(\"\\n\")\n",
    "                batch_number += 1\n",
    "        end_time = dt.now()\n",
    "        last_progress = progress\n",
    "        \n",
    "    print(\"                                                                                                              \")\n",
    "    print(\"Converted Ultrachat to CSV file(s).\")\n",
    "    "
   ]
  },
  {
   "cell_type": "code",
   "execution_count": 6,
   "id": "2992e617-eca5-4d94-9c2c-98464a890aae",
   "metadata": {},
   "outputs": [
    {
     "name": "stdout",
     "output_type": "stream",
     "text": [
      "Converting Ultrachat to CSV (57%, Sample: 849999/1468352, Elapsed Time: 0:14:16.158623, Time Remaining: 0:10:22.681471)                                                                               \n",
      "Warning: Unable to export batch 16.\n",
      "need to escape, but no escapechar set\n",
      "\n",
      "\n",
      "Converting Ultrachat to CSV (64%, Sample: 949999/1468352, Elapsed Time: 0:16:04.081228, Time Remaining: 0:08:46.128295)                                                                               \n",
      "Warning: Unable to export batch 18.\n",
      "need to escape, but no escapechar set\n",
      "\n",
      "\n",
      "Converting Ultrachat to CSV (68%, Sample: 999999/1468352, Elapsed Time: 0:16:59.671121, Time Remaining: 0:07:57.720060)                                                                               \n",
      "Warning: Unable to export batch 19.\n",
      "need to escape, but no escapechar set\n",
      "\n",
      "\n",
      "Converting Ultrachat to CSV (71%, Sample: 1049999/1468352, Elapsed Time: 0:17:50.569537, Time Remaining: 0:07:06.720060)                                                                               \n",
      "Warning: Unable to export batch 20.\n",
      "need to escape, but no escapechar set\n",
      "\n",
      "\n",
      "Converting Ultrachat to CSV (74%, Sample: 1099999/1468352, Elapsed Time: 0:18:43.843968, Time Remaining: 0:06:16.456766)                                                                               \n",
      "Warning: Unable to export batch 21.\n",
      "need to escape, but no escapechar set\n",
      "\n",
      "\n",
      "Converting Ultrachat to CSV (78%, Sample: 1149999/1468352, Elapsed Time: 0:19:34.371456, Time Remaining: 0:05:25.038413)                                                                               \n",
      "Warning: Unable to export batch 22.\n",
      "need to escape, but no escapechar set\n",
      "\n",
      "\n",
      "Converting Ultrachat to CSV (81%, Sample: 1199999/1468352, Elapsed Time: 0:20:27.409155, Time Remaining: 0:04:34.525119)                                                                               \n",
      "Warning: Unable to export batch 23.\n",
      "need to escape, but no escapechar set\n",
      "\n",
      "\n",
      "Converting Ultrachat to CSV (85%, Sample: 1249999/1468352, Elapsed Time: 0:21:19.895990, Time Remaining: 0:03:43.593472)                                                                               \n",
      "Warning: Unable to export batch 24.\n",
      "need to escape, but no escapechar set\n",
      "\n",
      "\n",
      "Converting Ultrachat to CSV (88%, Sample: 1299999/1468352, Elapsed Time: 0:22:13.249149, Time Remaining: 0:02:52.730178)                                                                               \n",
      "Warning: Unable to export batch 25.\n",
      "need to escape, but no escapechar set\n",
      "\n",
      "\n",
      "Converting Ultrachat to CSV (98%, Sample: 1449999/1468352, Elapsed Time: 0:24:53.249801, Time Remaining: 0:00:18.903590)                                                                               \n",
      "Warning: Unable to export batch 28.\n",
      "need to escape, but no escapechar set\n",
      "\n",
      "\n",
      "                                                                                                              00.001025)                                                                               \n",
      "Converted Ultrachat to CSV file(s).\n"
     ]
    }
   ],
   "source": [
    "convert_ultrachat_to_csv(train_data, 50000)"
   ]
  },
  {
   "cell_type": "code",
   "execution_count": 10,
   "id": "f3203917-db15-4b2c-9aab-115e55b63735",
   "metadata": {},
   "outputs": [],
   "source": [
    "ultrachat_partitions = os.listdir(const.TEMP_FOLDER)\n",
    "training_ultrachat_df = None\n",
    "for partition in ultrachat_partitions:\n",
    "    temp_df = pd.read_csv((const.TEMP_FOLDER + partition))\n",
    "    if training_ultrachat_df is None:\n",
    "        training_ultrachat_df = temp_df\n",
    "    else:\n",
    "        training_ultrachat_df = pd.concat([training_ultrachat_df, temp_df], ignore_index=True)\n",
    "\n",
    "training_ultrachat_df.to_csv(const.DATASETS_FOLDER + \"ultrachat_training.csv\")\n",
    "shutil.rmtree(const.TEMP_FOLDER)"
   ]
  },
  {
   "cell_type": "code",
   "execution_count": null,
   "id": "e02d859c-d496-4f2d-ad60-b9425035bfe4",
   "metadata": {},
   "outputs": [],
   "source": []
  }
 ],
 "metadata": {
  "kernelspec": {
   "display_name": "Python 3 (ipykernel)",
   "language": "python",
   "name": "python3"
  },
  "language_info": {
   "codemirror_mode": {
    "name": "ipython",
    "version": 3
   },
   "file_extension": ".py",
   "mimetype": "text/x-python",
   "name": "python",
   "nbconvert_exporter": "python",
   "pygments_lexer": "ipython3",
   "version": "3.10.12"
  }
 },
 "nbformat": 4,
 "nbformat_minor": 5
}
