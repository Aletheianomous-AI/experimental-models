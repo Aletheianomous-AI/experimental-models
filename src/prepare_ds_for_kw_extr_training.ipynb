{
 "cells": [
  {
   "cell_type": "code",
   "execution_count": 1,
   "id": "d057e4bb-a7d7-46b2-938f-c777f59a60f9",
   "metadata": {},
   "outputs": [],
   "source": [
    "import const\n",
    "import pandas as pd"
   ]
  },
  {
   "cell_type": "code",
   "execution_count": 2,
   "id": "ae7b1779-4791-496f-a887-76806ed2509b",
   "metadata": {},
   "outputs": [
    {
     "name": "stderr",
     "output_type": "stream",
     "text": [
      "/tmp/ipykernel_216704/2803564547.py:3: DtypeWarning: Columns (17,18,19,20,21,22,23) have mixed types. Specify dtype option on import or set low_memory=False.\n",
      "  training_ds = pd.read_csv(training_ds_path)\n"
     ]
    }
   ],
   "source": [
    "training_ds_path = const.DATASETS_FOLDER + \"squad_ds_keyword_ground_truth.csv\"\n",
    "#testing_ds_path = const.DATASETS_FOLDER + \"squad_ds_test_keyword_ground_truth.csv\"\n",
    "training_ds = pd.read_csv(training_ds_path)\n",
    "#testing_ds = pd.read_csv(testing_ds_path)"
   ]
  },
  {
   "cell_type": "code",
   "execution_count": 3,
   "id": "4410ae75-b8fc-42b0-8f81-634a099d2b1d",
   "metadata": {},
   "outputs": [],
   "source": [
    "def update_text(row):\n",
    "    output = (\"<|system|>\\nYou are a chatbot that assists in providing information to the user. \" + \n",
    "       \"Please generate a keyword from the user's question.</s>\\n<|user|>\\n\" +\n",
    "        row[\"question\"] + \"</s>\\n<|assistant|>\\n\" + str(row[\"keyword\"]))\n",
    "    return output"
   ]
  },
  {
   "cell_type": "code",
   "execution_count": 4,
   "id": "f7c91b06-e5a3-4b03-8353-b544d78dc8d7",
   "metadata": {},
   "outputs": [],
   "source": [
    "training_ds[\"text\"] = training_ds.apply(update_text, axis=1)"
   ]
  },
  {
   "cell_type": "code",
   "execution_count": 5,
   "id": "28716c58-a898-48e2-a101-61c4f2ba62a9",
   "metadata": {},
   "outputs": [],
   "source": [
    "#testing_ds[\"text\"] = testing_ds.apply(update_text, axis=1)"
   ]
  },
  {
   "cell_type": "code",
   "execution_count": 36,
   "id": "635b03b9-4e06-451f-a78c-2e43234251a3",
   "metadata": {},
   "outputs": [],
   "source": [
    "training_ds.to_csv(const.DATASETS_FOLDER + \"squad_ds_keyword_train.csv\")"
   ]
  },
  {
   "cell_type": "code",
   "execution_count": 24,
   "id": "847dd97f-606d-4b0a-99b4-b55e3c3dafe4",
   "metadata": {},
   "outputs": [],
   "source": [
    "cols_to_drop = []\n",
    "for i in range(12, 24):\n",
    "    cols_to_drop.append(\"Unnamed: \" + str(i))\n",
    "cols_to_drop.append(\"Unnamed: 0\")"
   ]
  },
  {
   "cell_type": "code",
   "execution_count": 25,
   "id": "250ba0cd-34c7-4a78-982d-78c6858983cb",
   "metadata": {},
   "outputs": [
    {
     "data": {
      "text/plain": [
       "['Unnamed: 12',\n",
       " 'Unnamed: 13',\n",
       " 'Unnamed: 14',\n",
       " 'Unnamed: 15',\n",
       " 'Unnamed: 16',\n",
       " 'Unnamed: 17',\n",
       " 'Unnamed: 18',\n",
       " 'Unnamed: 19',\n",
       " 'Unnamed: 20',\n",
       " 'Unnamed: 21',\n",
       " 'Unnamed: 22',\n",
       " 'Unnamed: 23',\n",
       " 'Unnamed: 0']"
      ]
     },
     "execution_count": 25,
     "metadata": {},
     "output_type": "execute_result"
    }
   ],
   "source": [
    "cols_to_drop"
   ]
  },
  {
   "cell_type": "code",
   "execution_count": 27,
   "id": "a58c93fd-1cec-4fd6-a8c5-ae1bd454ace6",
   "metadata": {},
   "outputs": [],
   "source": [
    "training_ds = training_ds.drop(columns= cols_to_drop)"
   ]
  },
  {
   "cell_type": "code",
   "execution_count": 31,
   "id": "7176d749-c2b7-4054-a97c-bc1a7f149779",
   "metadata": {},
   "outputs": [
    {
     "data": {
      "text/html": [
       "<div>\n",
       "<style scoped>\n",
       "    .dataframe tbody tr th:only-of-type {\n",
       "        vertical-align: middle;\n",
       "    }\n",
       "\n",
       "    .dataframe tbody tr th {\n",
       "        vertical-align: top;\n",
       "    }\n",
       "\n",
       "    .dataframe thead th {\n",
       "        text-align: right;\n",
       "    }\n",
       "</style>\n",
       "<table border=\"1\" class=\"dataframe\">\n",
       "  <thead>\n",
       "    <tr style=\"text-align: right;\">\n",
       "      <th></th>\n",
       "      <th>source</th>\n",
       "      <th>topic</th>\n",
       "      <th>paragraph</th>\n",
       "      <th>question</th>\n",
       "      <th>question_id</th>\n",
       "      <th>is_impossible</th>\n",
       "      <th>answers</th>\n",
       "      <th>expanded_answers</th>\n",
       "      <th>keyword</th>\n",
       "      <th>possible_keywords</th>\n",
       "      <th>is_searchable</th>\n",
       "      <th>text</th>\n",
       "    </tr>\n",
       "  </thead>\n",
       "  <tbody>\n",
       "    <tr>\n",
       "      <th>0</th>\n",
       "      <td>Squad 2.0</td>\n",
       "      <td>Beyoncé</td>\n",
       "      <td>Beyoncé Giselle Knowles-Carter (/biːˈjɒnseɪ/ b...</td>\n",
       "      <td>When did Beyonce start becoming popular?</td>\n",
       "      <td>56be85543aeaaa14008c9063</td>\n",
       "      <td>False</td>\n",
       "      <td>in the late 1990s</td>\n",
       "      <td>in the late 1990s as lead singer of R&amp;B girl-g...</td>\n",
       "      <td>Beyonce start becoming popular</td>\n",
       "      <td>['Beyonce start becoming popular', 'Beyonce st...</td>\n",
       "      <td>True</td>\n",
       "      <td>&lt;|system|&gt;\\nYou are a chatbot that assists in ...</td>\n",
       "    </tr>\n",
       "    <tr>\n",
       "      <th>1</th>\n",
       "      <td>Squad 2.0</td>\n",
       "      <td>Beyoncé</td>\n",
       "      <td>Beyoncé Giselle Knowles-Carter (/biːˈjɒnseɪ/ b...</td>\n",
       "      <td>What areas did Beyonce compete in when she was...</td>\n",
       "      <td>56be85543aeaaa14008c9065</td>\n",
       "      <td>False</td>\n",
       "      <td>singing and dancing</td>\n",
       "      <td>in the late 1990s as lead singer of R&amp;B girl-g...</td>\n",
       "      <td>areas did Beyonce compete in when she was growing</td>\n",
       "      <td>['areas did Beyonce compete in when she was gr...</td>\n",
       "      <td>True</td>\n",
       "      <td>&lt;|system|&gt;\\nYou are a chatbot that assists in ...</td>\n",
       "    </tr>\n",
       "    <tr>\n",
       "      <th>2</th>\n",
       "      <td>Squad 2.0</td>\n",
       "      <td>Beyoncé</td>\n",
       "      <td>Beyoncé Giselle Knowles-Carter (/biːˈjɒnseɪ/ b...</td>\n",
       "      <td>When did Beyonce leave Destiny's Child and bec...</td>\n",
       "      <td>56be85543aeaaa14008c9066</td>\n",
       "      <td>False</td>\n",
       "      <td>2003</td>\n",
       "      <td>in the late 1990s as lead singer of R&amp;B girl-g...</td>\n",
       "      <td>Year Beyonce leave Destiny Child and become a ...</td>\n",
       "      <td>['Beyonce leave Destiny Child and become a sol...</td>\n",
       "      <td>True</td>\n",
       "      <td>&lt;|system|&gt;\\nYou are a chatbot that assists in ...</td>\n",
       "    </tr>\n",
       "    <tr>\n",
       "      <th>3</th>\n",
       "      <td>Squad 2.0</td>\n",
       "      <td>Beyoncé</td>\n",
       "      <td>Beyoncé Giselle Knowles-Carter (/biːˈjɒnseɪ/ b...</td>\n",
       "      <td>In what city and state did Beyonce  grow up?</td>\n",
       "      <td>56bf6b0f3aeaaa14008c9601</td>\n",
       "      <td>False</td>\n",
       "      <td>Houston, Texas</td>\n",
       "      <td>in the late 1990s as lead singer of R&amp;B girl-g...</td>\n",
       "      <td>city and state did Beyonce grow</td>\n",
       "      <td>['city and state did Beyonce grow', 'city and ...</td>\n",
       "      <td>True</td>\n",
       "      <td>&lt;|system|&gt;\\nYou are a chatbot that assists in ...</td>\n",
       "    </tr>\n",
       "    <tr>\n",
       "      <th>4</th>\n",
       "      <td>Squad 2.0</td>\n",
       "      <td>Beyoncé</td>\n",
       "      <td>Beyoncé Giselle Knowles-Carter (/biːˈjɒnseɪ/ b...</td>\n",
       "      <td>In which decade did Beyonce become famous?</td>\n",
       "      <td>56bf6b0f3aeaaa14008c9602</td>\n",
       "      <td>False</td>\n",
       "      <td>late 1990s</td>\n",
       "      <td>in the late 1990s as lead singer of R&amp;B girl-g...</td>\n",
       "      <td>decade did Beyonce become famous</td>\n",
       "      <td>['decade did Beyonce become famous', 'Beyonce ...</td>\n",
       "      <td>True</td>\n",
       "      <td>&lt;|system|&gt;\\nYou are a chatbot that assists in ...</td>\n",
       "    </tr>\n",
       "  </tbody>\n",
       "</table>\n",
       "</div>"
      ],
      "text/plain": [
       "      source    topic                                          paragraph  \\\n",
       "0  Squad 2.0  Beyoncé  Beyoncé Giselle Knowles-Carter (/biːˈjɒnseɪ/ b...   \n",
       "1  Squad 2.0  Beyoncé  Beyoncé Giselle Knowles-Carter (/biːˈjɒnseɪ/ b...   \n",
       "2  Squad 2.0  Beyoncé  Beyoncé Giselle Knowles-Carter (/biːˈjɒnseɪ/ b...   \n",
       "3  Squad 2.0  Beyoncé  Beyoncé Giselle Knowles-Carter (/biːˈjɒnseɪ/ b...   \n",
       "4  Squad 2.0  Beyoncé  Beyoncé Giselle Knowles-Carter (/biːˈjɒnseɪ/ b...   \n",
       "\n",
       "                                            question  \\\n",
       "0           When did Beyonce start becoming popular?   \n",
       "1  What areas did Beyonce compete in when she was...   \n",
       "2  When did Beyonce leave Destiny's Child and bec...   \n",
       "3      In what city and state did Beyonce  grow up?    \n",
       "4         In which decade did Beyonce become famous?   \n",
       "\n",
       "                question_id is_impossible              answers  \\\n",
       "0  56be85543aeaaa14008c9063         False    in the late 1990s   \n",
       "1  56be85543aeaaa14008c9065         False  singing and dancing   \n",
       "2  56be85543aeaaa14008c9066         False                 2003   \n",
       "3  56bf6b0f3aeaaa14008c9601         False       Houston, Texas   \n",
       "4  56bf6b0f3aeaaa14008c9602         False           late 1990s   \n",
       "\n",
       "                                    expanded_answers  \\\n",
       "0  in the late 1990s as lead singer of R&B girl-g...   \n",
       "1  in the late 1990s as lead singer of R&B girl-g...   \n",
       "2  in the late 1990s as lead singer of R&B girl-g...   \n",
       "3  in the late 1990s as lead singer of R&B girl-g...   \n",
       "4  in the late 1990s as lead singer of R&B girl-g...   \n",
       "\n",
       "                                             keyword  \\\n",
       "0                     Beyonce start becoming popular   \n",
       "1  areas did Beyonce compete in when she was growing   \n",
       "2  Year Beyonce leave Destiny Child and become a ...   \n",
       "3                    city and state did Beyonce grow   \n",
       "4                   decade did Beyonce become famous   \n",
       "\n",
       "                                   possible_keywords is_searchable  \\\n",
       "0  ['Beyonce start becoming popular', 'Beyonce st...          True   \n",
       "1  ['areas did Beyonce compete in when she was gr...          True   \n",
       "2  ['Beyonce leave Destiny Child and become a sol...          True   \n",
       "3  ['city and state did Beyonce grow', 'city and ...          True   \n",
       "4  ['decade did Beyonce become famous', 'Beyonce ...          True   \n",
       "\n",
       "                                                text  \n",
       "0  <|system|>\\nYou are a chatbot that assists in ...  \n",
       "1  <|system|>\\nYou are a chatbot that assists in ...  \n",
       "2  <|system|>\\nYou are a chatbot that assists in ...  \n",
       "3  <|system|>\\nYou are a chatbot that assists in ...  \n",
       "4  <|system|>\\nYou are a chatbot that assists in ...  "
      ]
     },
     "execution_count": 31,
     "metadata": {},
     "output_type": "execute_result"
    }
   ],
   "source": [
    "training_ds.head()"
   ]
  },
  {
   "cell_type": "code",
   "execution_count": 35,
   "id": "e0c5b46f-9ad3-4cdd-ad8a-e11c9a0a76f7",
   "metadata": {},
   "outputs": [
    {
     "name": "stderr",
     "output_type": "stream",
     "text": [
      "/tmp/ipykernel_216704/2418921119.py:1: UserWarning: Pandas doesn't allow columns to be created via a new attribute name - see https://pandas.pydata.org/pandas-docs/stable/indexing.html#attribute-access\n",
      "  training_ds.columns_names = [\"source\", \"topic\", \"paragraph\", \"question\", \"question_id\", \"is_impossible\", \"answers\", \"expanded_answers\", \"keyword\", \"possible_keywords\", \"is_searchable\", \"text\"]\n"
     ]
    }
   ],
   "source": [
    "training_ds.columns_names = [\"source\", \"topic\", \"paragraph\", \"question\", \"question_id\", \"is_impossible\", \"answers\", \"expanded_answers\", \"keyword\", \"possible_keywords\", \"is_searchable\", \"text\"]"
   ]
  },
  {
   "cell_type": "code",
   "execution_count": null,
   "id": "ce5aee23-c784-4709-aa3c-280acb583152",
   "metadata": {},
   "outputs": [],
   "source": []
  }
 ],
 "metadata": {
  "kernelspec": {
   "display_name": "Python 3 (ipykernel)",
   "language": "python",
   "name": "python3"
  },
  "language_info": {
   "codemirror_mode": {
    "name": "ipython",
    "version": 3
   },
   "file_extension": ".py",
   "mimetype": "text/x-python",
   "name": "python",
   "nbconvert_exporter": "python",
   "pygments_lexer": "ipython3",
   "version": "3.10.12"
  }
 },
 "nbformat": 4,
 "nbformat_minor": 5
}
