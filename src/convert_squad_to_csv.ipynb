{
 "cells": [
  {
   "cell_type": "code",
   "execution_count": 1,
   "id": "a8a86ffa-978b-481c-b9da-d0969ee07157",
   "metadata": {},
   "outputs": [],
   "source": [
    "from datetime import datetime as dt\n",
    "\n",
    "import const\n",
    "import json\n",
    "import pandas as pd\n",
    "import numpy"
   ]
  },
  {
   "cell_type": "code",
   "execution_count": 2,
   "id": "3715206e-5fe3-4d13-bb78-11b128ce0360",
   "metadata": {},
   "outputs": [],
   "source": [
    "#squad_training_ds_path: str = const.DATASETS_FOLDER + \"train-v2.0.json\"\n",
    "squad_testing_ds_path: str = const.DATASETS_FOLDER + \"dev-v2.0.json\""
   ]
  },
  {
   "cell_type": "code",
   "execution_count": 3,
   "id": "c80b819e-387e-4bba-9e84-c42535851657",
   "metadata": {},
   "outputs": [],
   "source": [
    "#squad_training_ds_json: dict = {}\n",
    "squad_testing_ds_json: dict = {}"
   ]
  },
  {
   "cell_type": "code",
   "execution_count": 4,
   "id": "f336a220-3f05-4e0f-991e-8a0b65b70146",
   "metadata": {},
   "outputs": [],
   "source": [
    "#with open(squad_training_ds_path, 'r') as f:\n",
    "#    squad_training_ds_json = json.load(f)\n",
    "\n",
    "with open(squad_testing_ds_path, 'r') as f:\n",
    "    squad_testing_ds_json = json.load(f)"
   ]
  },
  {
   "cell_type": "code",
   "execution_count": 5,
   "id": "d50156ed-f612-492b-9edd-146a2b057c0c",
   "metadata": {},
   "outputs": [],
   "source": [
    "#squad_training_ds_json.keys()"
   ]
  },
  {
   "cell_type": "code",
   "execution_count": 6,
   "id": "2d5cff94",
   "metadata": {},
   "outputs": [],
   "source": [
    "def squad_to_csv(json_dict: dict):\n",
    "    squad_df = None\n",
    "    root_dict = json_dict['data']\n",
    "    root_items_len = len(root_dict)\n",
    "    root_items_processed = 0\n",
    "    start_time = dt.now()\n",
    "    end_time = None\n",
    "    for sub_dict_1 in root_dict:\n",
    "        progress_msg = \"Converting Squad JSON to csv... (Topic: \" + str(root_items_processed + 1) + \"/\" + str(root_items_len)\n",
    "        if end_time is None:\n",
    "            progress_msg += \", elapsed time: 00:00)\"\n",
    "        else:\n",
    "            #print(end_time)\n",
    "            elapsed_time = end_time - start_time\n",
    "            avg_time = elapsed_time / root_items_processed\n",
    "            time_remaining = avg_time * (root_items_len - root_items_processed)\n",
    "            progress_msg += \", elasped time: \" + str(elapsed_time) + \", time remaining: \" + str(time_remaining) + \")\"\n",
    "        print(progress_msg, end=\"                                                                                                      \\r\")\n",
    "\n",
    "        title = sub_dict_1['title']\n",
    "        paragraphs_dict = sub_dict_1['paragraphs']\n",
    "        for sub_dict_2 in paragraphs_dict:\n",
    "            paragraph = sub_dict_2['context']\n",
    "            qas_dict = sub_dict_2['qas']\n",
    "            for item in qas_dict:\n",
    "                temp_df = None\n",
    "                question = item['question']\n",
    "                question_id = item['id']\n",
    "                is_impossible = item['is_impossible']\n",
    "                answers = []\n",
    "                expanded_answers = []\n",
    "                if is_impossible == False:\n",
    "                    answers_dict = item['answers']\n",
    "                else:\n",
    "                    answers_dict = item['plausible_answers']\n",
    "                    \n",
    "                for answer in answers_dict:\n",
    "                    answers.append(answer['text'])\n",
    "                    expanded_answer = paragraph[269:]\n",
    "                    expanded_answers.append(expanded_answer)\n",
    "                temp_df = pd.DataFrame(data={\n",
    "                    'source': \"Squad 2.0\", \n",
    "                    'topic': title,\n",
    "                    \"paragraph\": paragraph, \n",
    "                    \"question\": question, \n",
    "                    \"question_id\": question_id, \n",
    "                    'is_impossible': is_impossible,\n",
    "                    \"answers\": answers,\n",
    "                    \"expanded_answers\": expanded_answers\n",
    "                })\n",
    "                if squad_df is None:\n",
    "                    squad_df = temp_df\n",
    "                else:\n",
    "                    squad_df = pd.concat([squad_df, temp_df], ignore_index=True)\n",
    "        end_time = dt.now()\n",
    "        root_items_processed += 1\n",
    "    print(\"Done                                                                                                               \")\n",
    "    return squad_df\n",
    "                "
   ]
  },
  {
   "cell_type": "code",
   "execution_count": 7,
   "id": "1ea480d9",
   "metadata": {},
   "outputs": [
    {
     "name": "stdout",
     "output_type": "stream",
     "text": [
      "Done                                                                                                                                                                                                              \n"
     ]
    }
   ],
   "source": [
    "#squad_training_df = squad_to_csv(squad_training_ds_json)\n",
    "squad_testing_df = squad_to_csv(squad_testing_ds_json)"
   ]
  },
  {
   "cell_type": "code",
   "execution_count": 8,
   "id": "b9cee2b1-d330-417b-bbd1-eaaa36c9ba39",
   "metadata": {},
   "outputs": [
    {
     "data": {
      "text/html": [
       "<div>\n",
       "<style scoped>\n",
       "    .dataframe tbody tr th:only-of-type {\n",
       "        vertical-align: middle;\n",
       "    }\n",
       "\n",
       "    .dataframe tbody tr th {\n",
       "        vertical-align: top;\n",
       "    }\n",
       "\n",
       "    .dataframe thead th {\n",
       "        text-align: right;\n",
       "    }\n",
       "</style>\n",
       "<table border=\"1\" class=\"dataframe\">\n",
       "  <thead>\n",
       "    <tr style=\"text-align: right;\">\n",
       "      <th></th>\n",
       "      <th>source</th>\n",
       "      <th>topic</th>\n",
       "      <th>paragraph</th>\n",
       "      <th>question</th>\n",
       "      <th>question_id</th>\n",
       "      <th>is_impossible</th>\n",
       "      <th>answers</th>\n",
       "      <th>expanded_answers</th>\n",
       "    </tr>\n",
       "  </thead>\n",
       "  <tbody>\n",
       "    <tr>\n",
       "      <th>0</th>\n",
       "      <td>Squad 2.0</td>\n",
       "      <td>Normans</td>\n",
       "      <td>The Normans (Norman: Nourmands; French: Norman...</td>\n",
       "      <td>In what country is Normandy located?</td>\n",
       "      <td>56ddde6b9a695914005b9628</td>\n",
       "      <td>False</td>\n",
       "      <td>France</td>\n",
       "      <td>and and Norway who, under their leader Rollo, ...</td>\n",
       "    </tr>\n",
       "    <tr>\n",
       "      <th>1</th>\n",
       "      <td>Squad 2.0</td>\n",
       "      <td>Normans</td>\n",
       "      <td>The Normans (Norman: Nourmands; French: Norman...</td>\n",
       "      <td>In what country is Normandy located?</td>\n",
       "      <td>56ddde6b9a695914005b9628</td>\n",
       "      <td>False</td>\n",
       "      <td>France</td>\n",
       "      <td>and and Norway who, under their leader Rollo, ...</td>\n",
       "    </tr>\n",
       "    <tr>\n",
       "      <th>2</th>\n",
       "      <td>Squad 2.0</td>\n",
       "      <td>Normans</td>\n",
       "      <td>The Normans (Norman: Nourmands; French: Norman...</td>\n",
       "      <td>In what country is Normandy located?</td>\n",
       "      <td>56ddde6b9a695914005b9628</td>\n",
       "      <td>False</td>\n",
       "      <td>France</td>\n",
       "      <td>and and Norway who, under their leader Rollo, ...</td>\n",
       "    </tr>\n",
       "    <tr>\n",
       "      <th>3</th>\n",
       "      <td>Squad 2.0</td>\n",
       "      <td>Normans</td>\n",
       "      <td>The Normans (Norman: Nourmands; French: Norman...</td>\n",
       "      <td>In what country is Normandy located?</td>\n",
       "      <td>56ddde6b9a695914005b9628</td>\n",
       "      <td>False</td>\n",
       "      <td>France</td>\n",
       "      <td>and and Norway who, under their leader Rollo, ...</td>\n",
       "    </tr>\n",
       "    <tr>\n",
       "      <th>4</th>\n",
       "      <td>Squad 2.0</td>\n",
       "      <td>Normans</td>\n",
       "      <td>The Normans (Norman: Nourmands; French: Norman...</td>\n",
       "      <td>When were the Normans in Normandy?</td>\n",
       "      <td>56ddde6b9a695914005b9629</td>\n",
       "      <td>False</td>\n",
       "      <td>10th and 11th centuries</td>\n",
       "      <td>and and Norway who, under their leader Rollo, ...</td>\n",
       "    </tr>\n",
       "  </tbody>\n",
       "</table>\n",
       "</div>"
      ],
      "text/plain": [
       "      source    topic                                          paragraph  \\\n",
       "0  Squad 2.0  Normans  The Normans (Norman: Nourmands; French: Norman...   \n",
       "1  Squad 2.0  Normans  The Normans (Norman: Nourmands; French: Norman...   \n",
       "2  Squad 2.0  Normans  The Normans (Norman: Nourmands; French: Norman...   \n",
       "3  Squad 2.0  Normans  The Normans (Norman: Nourmands; French: Norman...   \n",
       "4  Squad 2.0  Normans  The Normans (Norman: Nourmands; French: Norman...   \n",
       "\n",
       "                               question               question_id  \\\n",
       "0  In what country is Normandy located?  56ddde6b9a695914005b9628   \n",
       "1  In what country is Normandy located?  56ddde6b9a695914005b9628   \n",
       "2  In what country is Normandy located?  56ddde6b9a695914005b9628   \n",
       "3  In what country is Normandy located?  56ddde6b9a695914005b9628   \n",
       "4    When were the Normans in Normandy?  56ddde6b9a695914005b9629   \n",
       "\n",
       "   is_impossible                  answers  \\\n",
       "0          False                   France   \n",
       "1          False                   France   \n",
       "2          False                   France   \n",
       "3          False                   France   \n",
       "4          False  10th and 11th centuries   \n",
       "\n",
       "                                    expanded_answers  \n",
       "0  and and Norway who, under their leader Rollo, ...  \n",
       "1  and and Norway who, under their leader Rollo, ...  \n",
       "2  and and Norway who, under their leader Rollo, ...  \n",
       "3  and and Norway who, under their leader Rollo, ...  \n",
       "4  and and Norway who, under their leader Rollo, ...  "
      ]
     },
     "execution_count": 8,
     "metadata": {},
     "output_type": "execute_result"
    }
   ],
   "source": [
    "squad_testing_df.head()"
   ]
  },
  {
   "cell_type": "code",
   "execution_count": 9,
   "id": "e73551bc-2afa-4040-8fae-2fdebbedc18d",
   "metadata": {},
   "outputs": [],
   "source": [
    "#squad_training_df = squad_to_csv(squad_training_ds_json)\n",
    "squad_testing_df.to_csv(const.DATASETS_FOLDER + \"squad_keyword_test.csv\")"
   ]
  }
 ],
 "metadata": {
  "kernelspec": {
   "display_name": "Python 3 (ipykernel)",
   "language": "python",
   "name": "python3"
  },
  "language_info": {
   "codemirror_mode": {
    "name": "ipython",
    "version": 3
   },
   "file_extension": ".py",
   "mimetype": "text/x-python",
   "name": "python",
   "nbconvert_exporter": "python",
   "pygments_lexer": "ipython3",
   "version": "3.10.12"
  }
 },
 "nbformat": 4,
 "nbformat_minor": 5
}
