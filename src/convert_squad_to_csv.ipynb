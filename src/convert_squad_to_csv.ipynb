{
 "cells": [
  {
   "cell_type": "code",
   "execution_count": 1,
   "id": "a8a86ffa-978b-481c-b9da-d0969ee07157",
   "metadata": {},
   "outputs": [],
   "source": [
    "from datetime import datetime as dt\n",
    "\n",
    "import const\n",
    "import json\n",
    "import pandas as pd\n",
    "import numpy"
   ]
  },
  {
   "cell_type": "code",
   "execution_count": 2,
   "id": "3715206e-5fe3-4d13-bb78-11b128ce0360",
   "metadata": {},
   "outputs": [],
   "source": [
    "#squad_training_ds_path: str = const.DATASETS_FOLDER + \"train-v2.0.json\"\n",
    "squad_testing_ds_path: str = const.DATASETS_FOLDER + \"dev-v2.0.json\""
   ]
  },
  {
   "cell_type": "code",
   "execution_count": 3,
   "id": "c80b819e-387e-4bba-9e84-c42535851657",
   "metadata": {},
   "outputs": [],
   "source": [
    "squad_training_ds_json: dict = {}\n",
    "squad_testing_ds_json: dict = {}"
   ]
  },
  {
   "cell_type": "code",
   "execution_count": 4,
   "id": "f336a220-3f05-4e0f-991e-8a0b65b70146",
   "metadata": {},
   "outputs": [],
   "source": [
    "#with open(squad_training_ds_path, 'r') as f:\n",
    "#    squad_training_ds_json = json.load(f)\n",
    "\n",
    "with open(squad_testing_ds_path, 'r') as f:\n",
    "    squad_testing_ds_json = json.load(f)"
   ]
  },
  {
   "cell_type": "code",
   "execution_count": 5,
   "id": "d50156ed-f612-492b-9edd-146a2b057c0c",
   "metadata": {},
   "outputs": [],
   "source": [
    "#squad_training_ds_json.keys()"
   ]
  },
  {
   "cell_type": "code",
   "execution_count": 6,
   "id": "1e7abdda-0422-431e-877f-0976d3816f34",
   "metadata": {},
   "outputs": [],
   "source": [
    "def process_squad_sub_dict(data_dict, present_path, subpath_list, subpath_ls_ind=None, topic_nm = None, pg=None):\n",
    "    \"\"\"Processes the sub dictionaries from the SQUAD dataset and returns questions\n",
    "        as pandas dataframe.\n",
    "\n",
    "    PARAMETERS\n",
    "    present_path - The current path in the data_dict\n",
    "    subpath_list - The list of keys in the current path\n",
    "    subpath_ls_ind - The current index to process the subpath.\n",
    "    topic_nm - The name of the topic which this function instance is processing.\n",
    "    \"\"\"\n",
    "\n",
    "    if subpath_ls_ind is None:\n",
    "        path_depth = len(present_path.split(\"/\"))\n",
    "        if path_depth < 6:\n",
    "            subpath_ls_ind = len(subpath_list) - 1\n",
    "            squad_df = process_squad_sub_dict(data_dict, present_path, subpath_list, subpath_ls_ind, topic_nm, pg)\n",
    "            return squad_df\n",
    "        else:\n",
    "            if path_depth == 6:\n",
    "                if (topic_nm is not None) & (pg is not None):\n",
    "                    try:\n",
    "                        new_subpath_ls = list(data_dict.keys())\n",
    "                    except:\n",
    "                        if isinstance(data_dict, keys):\n",
    "                            new_subpath_len = len(data_dict)\n",
    "                            new_subpath_ls = []\n",
    "                            for i in range(new_subpath_len):\n",
    "                                new_subpath_ls.append(i)\n",
    "                    lowest_path = present_path.split(\"/\")\n",
    "                    path_depth = len(lowest_path) \n",
    "                    lowest_path = lowest_path[path_depth-2]\n",
    "                    if lowest_path == \"context\":\n",
    "                        return data_dict\n",
    "                    else:\n",
    "                        is_impossible = data_dict['is_impossible']\n",
    "\n",
    "                        ##TODO: HANDLE CONCRETE ANSWERS AND PLAUSSIBLE ANSWERS.\n",
    "                        answers = (process_squad_sub_dict(data_dict, present_path, new_subpath_ls, subpath_ls_ind=None, \n",
    "                              topic_nm=topic_nm, pg=pg))\n",
    "                        sample_df: pd.DataFrame = (pd.DataFrame(data={'topic': topic_nm, 'paragraph': pg, 'question_content': \n",
    "                             data_dict['question'],'question_id': data_dict['id'], 'answers': answers}))\n",
    "            else:\n",
    "                if path_depth == 7:\n",
    "                    return data_dict\n",
    "    else:\n",
    "        path_depth = len(present_path.split(\"/\"))\n",
    "        if path_depth < 8:\n",
    "            new_path = present_path + str(subpath_list[subpath_ls_ind]) + \"/\"\n",
    "            if isinstance(subpath_list[0], str):\n",
    "                sub_dict = data_dict[subpath_list[subpath_ls_ind]]\n",
    "            else:\n",
    "                sub_dict = data_dict[subpath_ls_ind]\n",
    "                \n",
    "            try:\n",
    "                new_subpath_ls = list(sub_dict.keys())\n",
    "            except:\n",
    "                new_subpath_len = len(sub_dict)\n",
    "                new_subpath_ls = []\n",
    "                for i in range(new_subpath_len):\n",
    "                    new_subpath_ls.append(i)\n",
    "                \n",
    "                    \n",
    "            topic = topic_nm\n",
    "            new_pg = pg\n",
    "            if path_depth == 3:\n",
    "                topic = data_dict['title']\n",
    "            elif (path_depth == 4) or (path_depth == 6):\n",
    "                if (isinstance(data_dict, list) == False) and (isinstance(data_dict, dict) == False):\n",
    "                    return data_dict\n",
    "                else:\n",
    "                    pass\n",
    "            elif path_depth == 5:\n",
    "                new_pg = data_dict['context']\n",
    "            elif path_depth == 8:\n",
    "                print(data_dict)\n",
    "\n",
    "            ## TODO: SET BREAKPOINTS HERE FOR DEBUGGING.\n",
    "            if subpath_ls_ind > 0:\n",
    "                temp = process_squad_sub_dict(sub_dict, present_path, subpath_list, topic_nm=topic, pg=new_pg, subpath_ls_ind=subpath_ls_ind-1)\n",
    "            else:\n",
    "                return process_squad_sub_dict(sub_dict, new_path, new_subpath_ls, topic_nm=topic, pg=new_pg)\n",
    "            \n",
    "            \n",
    "    "
   ]
  },
  {
   "cell_type": "code",
   "execution_count": 7,
   "id": "a69aa012-43cb-49f8-8f6c-e26f646d174b",
   "metadata": {},
   "outputs": [],
   "source": [
    "def extract_questions_only_recurs(json_dict: dict, present_path=None):\n",
    "    \"\"\"\n",
    "        This recursive function extracts the questions from the SQUAD\n",
    "        dataset. It returns the questions as a Pandas dataframe.\n",
    "        PARAMETERS\n",
    "        json_dict - The dictionary to process this function.\n",
    "        path - The path from the root level in the json dictionary\n",
    "            that is being processed.\n",
    "    \"\"\"\n",
    "\n",
    "    if present_path is None:\n",
    "        sub_dict = json_dict['data']\n",
    "        new_path = 'data/'\n",
    "        squad_df = extract_questions_only_recurs(sub_dict, new_path)\n",
    "    elif present_path == 'data/':\n",
    "        subpath_len = len(json_dict)\n",
    "        sub_paths = []\n",
    "        for i in range(subpath_len):\n",
    "            sub_paths.append(i)\n",
    "        return process_squad_sub_dict(json_dict, present_path, sub_paths)\n",
    "\n",
    "    return squad_df\n",
    "        "
   ]
  },
  {
   "cell_type": "code",
   "execution_count": 8,
   "id": "2d5cff94",
   "metadata": {},
   "outputs": [],
   "source": [
    "def squad_to_csv(json_dict: dict):\n",
    "    squad_df = None\n",
    "    root_dict = json_dict['data']\n",
    "    root_items_len = len(root_dict)\n",
    "    root_items_processed = 0\n",
    "    start_time = dt.now()\n",
    "    end_time = None\n",
    "    for sub_dict_1 in root_dict:\n",
    "        progress_msg = \"Converting Squad JSON to csv... (Topic: \" + str(root_items_processed + 1) + \"/\" + str(root_items_len)\n",
    "        if end_time is None:\n",
    "            progress_msg += \", elapsed time: 00:00)\"\n",
    "        else:\n",
    "            #print(end_time)\n",
    "            elapsed_time = end_time - start_time\n",
    "            avg_time = elapsed_time / root_items_processed\n",
    "            time_remaining = avg_time * (root_items_len - root_items_processed)\n",
    "            progress_msg += \", elasped time: \" + str(elapsed_time) + \", time remaining: \" + str(time_remaining) + \")\"\n",
    "        print(progress_msg, end=\"                                                                                                      \\r\")\n",
    "\n",
    "        title = sub_dict_1['title']\n",
    "        paragraphs_dict = sub_dict_1['paragraphs']\n",
    "        for sub_dict_2 in paragraphs_dict:\n",
    "            paragraph = sub_dict_2['context']\n",
    "            qas_dict = sub_dict_2['qas']\n",
    "            for item in qas_dict:\n",
    "                question = item['question']\n",
    "                question_id = item['id']\n",
    "                is_impossible = item['is_impossible']\n",
    "                answers = []\n",
    "                expanded_answers = []\n",
    "                if is_impossible == False:\n",
    "                    answers_dict = item['answers']\n",
    "                else:\n",
    "                    answers_dict = item['plausible_answers']\n",
    "                    \n",
    "                for answer in answers_dict:\n",
    "                    answers.append(answer['text'])\n",
    "                    expanded_answer = paragraph[269:]\n",
    "                    expanded_answers.append(expanded_answer)\n",
    "                temp_df = pd.DataFrame(data={\n",
    "                    'source': \"Squad 2.0\", \n",
    "                    'topic': title,\n",
    "                    \"paragraph\": paragraph, \n",
    "                    \"question\": question, \n",
    "                    \"question_id\": question_id, \n",
    "                    'is_impossible': is_impossible,\n",
    "                    \"answers\": answers,\n",
    "                    \"expanded_answers\": expanded_answers\n",
    "                })\n",
    "                if squad_df is None:\n",
    "                    squad_df = temp_df\n",
    "                else:\n",
    "                    squad_df = pd.concat([squad_df, temp_df], ignore_index=True)\n",
    "        end_time = dt.now()\n",
    "        root_items_processed += 1\n",
    "    print(\"Done                                                                                                               \")\n",
    "    return squad_df\n",
    "                "
   ]
  },
  {
   "cell_type": "code",
   "execution_count": 9,
   "id": "1ea480d9",
   "metadata": {},
   "outputs": [
    {
     "name": "stdout",
     "output_type": "stream",
     "text": [
      "Done                                                                                                                                                                                                              \n"
     ]
    }
   ],
   "source": [
    "#squad_training_df = squad_to_csv(squad_training_ds_json)\n",
    "squad_testing_df = squad_to_csv(squad_testing_ds_json)"
   ]
  },
  {
   "cell_type": "code",
   "execution_count": 10,
   "id": "e73551bc-2afa-4040-8fae-2fdebbedc18d",
   "metadata": {},
   "outputs": [],
   "source": [
    "#squad_df = extract_questions_only_recurs(squad_ds_json)\n",
    "#squad_training_df = squad_to_csv(squad_training_ds_json)"
   ]
  },
  {
   "cell_type": "code",
   "execution_count": 11,
   "id": "e58653a2-7341-40fd-861a-0a2f731fea7d",
   "metadata": {},
   "outputs": [],
   "source": [
    "#squad_training_df.tail()"
   ]
  },
  {
   "cell_type": "code",
   "execution_count": 12,
   "id": "1a726735",
   "metadata": {},
   "outputs": [],
   "source": [
    "#squad_training_df.to_csv(const.DATASETS_FOLDER + \"squad-train-v2.0.csv\")\n",
    "squad_testing_df.to_csv(const.DATASETS_FOLDER + \"squad-test-v2.0.csv\")"
   ]
  }
 ],
 "metadata": {
  "kernelspec": {
   "display_name": "Python 3 (ipykernel)",
   "language": "python",
   "name": "python3"
  },
  "language_info": {
   "codemirror_mode": {
    "name": "ipython",
    "version": 3
   },
   "file_extension": ".py",
   "mimetype": "text/x-python",
   "name": "python",
   "nbconvert_exporter": "python",
   "pygments_lexer": "ipython3",
   "version": "3.10.12"
  }
 },
 "nbformat": 4,
 "nbformat_minor": 5
}
