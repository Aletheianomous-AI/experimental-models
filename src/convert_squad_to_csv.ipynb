{
 "cells": [
  {
   "cell_type": "code",
   "execution_count": 1,
   "id": "a8a86ffa-978b-481c-b9da-d0969ee07157",
   "metadata": {},
   "outputs": [],
   "source": [
    "import const\n",
    "import json\n",
    "import pandas as pd\n",
    "import numpy"
   ]
  },
  {
   "cell_type": "code",
   "execution_count": 2,
   "id": "3715206e-5fe3-4d13-bb78-11b128ce0360",
   "metadata": {},
   "outputs": [],
   "source": [
    "squad_ds_path: str = const.DATASETS_FOLDER + \"train-v2.0.json\""
   ]
  },
  {
   "cell_type": "code",
   "execution_count": 3,
   "id": "c80b819e-387e-4bba-9e84-c42535851657",
   "metadata": {},
   "outputs": [],
   "source": [
    "squad_ds_json: dict = {}"
   ]
  },
  {
   "cell_type": "code",
   "execution_count": 4,
   "id": "f336a220-3f05-4e0f-991e-8a0b65b70146",
   "metadata": {},
   "outputs": [],
   "source": [
    "with open(squad_ds_path, 'r') as f:\n",
    "    squad_ds_json = json.load(f)"
   ]
  },
  {
   "cell_type": "code",
   "execution_count": 5,
   "id": "d50156ed-f612-492b-9edd-146a2b057c0c",
   "metadata": {},
   "outputs": [
    {
     "data": {
      "text/plain": [
       "dict_keys(['version', 'data'])"
      ]
     },
     "execution_count": 5,
     "metadata": {},
     "output_type": "execute_result"
    }
   ],
   "source": [
    "squad_ds_json.keys()"
   ]
  },
  {
   "cell_type": "code",
   "execution_count": 6,
   "id": "1e7abdda-0422-431e-877f-0976d3816f34",
   "metadata": {},
   "outputs": [],
   "source": [
    "def process_squad_sub_dict(data_dict, present_path, subpath_list, subpath_ls_ind=None, topic_nm = None, pg=None):\n",
    "    \"\"\"Processes the sub dictionaries from the SQUAD dataset and returns questions\n",
    "        as pandas dataframe.\n",
    "\n",
    "    PARAMETERS\n",
    "    present_path - The current path in the data_dict\n",
    "    subpath_list - The list of keys in the current path\n",
    "    subpath_ls_ind - The current index to process the subpath.\n",
    "    topic_nm - The name of the topic which this function instance is processing.\n",
    "    \"\"\"\n",
    "\n",
    "    if subpath_ls_ind is None:\n",
    "        path_depth = len(present_path.split(\"/\"))\n",
    "        if path_depth < 6:\n",
    "            subpath_ls_ind = len(subpath_list) - 1\n",
    "            squad_df = process_squad_sub_dict(data_dict, present_path, subpath_list, subpath_ls_ind, topic_nm, pg)\n",
    "            return squad_df\n",
    "        else:\n",
    "            if path_depth == 6:\n",
    "                if (topic_nm is not None) & (pg is not None):\n",
    "                    try:\n",
    "                        new_subpath_ls = list(data_dict.keys())\n",
    "                    except:\n",
    "                        if isinstance(data_dict, keys):\n",
    "                            new_subpath_len = len(data_dict)\n",
    "                            new_subpath_ls = []\n",
    "                            for i in range(new_subpath_len):\n",
    "                                new_subpath_ls.append(i)\n",
    "                    lowest_path = present_path.split(\"/\")\n",
    "                    path_depth = len(lowest_path) \n",
    "                    lowest_path = lowest_path[path_depth-2]\n",
    "                    if lowest_path == \"context\":\n",
    "                        return data_dict\n",
    "                    else:\n",
    "                        is_impossible = data_dict['is_impossible']\n",
    "\n",
    "                        ##TODO: HANDLE CONCRETE ANSWERS AND PLAUSSIBLE ANSWERS.\n",
    "                        answers = (process_squad_sub_dict(data_dict, present_path, new_subpath_ls, subpath_ls_ind=None, \n",
    "                              topic_nm=topic_nm, pg=pg))\n",
    "                        sample_df: pd.DataFrame = (pd.DataFrame(data={'topic': topic_nm, 'paragraph': pg, 'question_content': \n",
    "                             data_dict['question'],'question_id': data_dict['id'], 'answers': answers}))\n",
    "            else:\n",
    "                if path_depth == 7:\n",
    "                    return data_dict\n",
    "    else:\n",
    "        path_depth = len(present_path.split(\"/\"))\n",
    "        if path_depth < 8:\n",
    "            new_path = present_path + str(subpath_list[subpath_ls_ind]) + \"/\"\n",
    "            if isinstance(subpath_list[0], str):\n",
    "                sub_dict = data_dict[subpath_list[subpath_ls_ind]]\n",
    "            else:\n",
    "                sub_dict = data_dict[subpath_ls_ind]\n",
    "                \n",
    "            try:\n",
    "                new_subpath_ls = list(sub_dict.keys())\n",
    "            except:\n",
    "                new_subpath_len = len(sub_dict)\n",
    "                new_subpath_ls = []\n",
    "                for i in range(new_subpath_len):\n",
    "                    new_subpath_ls.append(i)\n",
    "                \n",
    "                    \n",
    "            topic = topic_nm\n",
    "            new_pg = pg\n",
    "            if path_depth == 3:\n",
    "                topic = data_dict['title']\n",
    "            elif (path_depth == 4) or (path_depth == 6):\n",
    "                if (isinstance(data_dict, list) == False) and (isinstance(data_dict, dict) == False):\n",
    "                    return data_dict\n",
    "                else:\n",
    "                    pass\n",
    "            elif path_depth == 5:\n",
    "                new_pg = data_dict['context']\n",
    "            elif path_depth == 8:\n",
    "                print(data_dict)\n",
    "\n",
    "            ## TODO: SET BREAKPOINTS HERE FOR DEBUGGING.\n",
    "            if subpath_ls_ind > 0:\n",
    "                temp = process_squad_sub_dict(sub_dict, present_path, subpath_list, topic_nm=topic, pg=new_pg, subpath_ls_ind=subpath_ls_ind-1)\n",
    "            else:\n",
    "                return process_squad_sub_dict(sub_dict, new_path, new_subpath_ls, topic_nm=topic, pg=new_pg)\n",
    "            \n",
    "            \n",
    "    "
   ]
  },
  {
   "cell_type": "code",
   "execution_count": 7,
   "id": "a69aa012-43cb-49f8-8f6c-e26f646d174b",
   "metadata": {},
   "outputs": [],
   "source": [
    "def extract_questions_only(json_dict: dict, present_path=None):\n",
    "    \"\"\"\n",
    "        This recursive function extracts the questions from the SQUAD\n",
    "        dataset. It returns the questions as a Pandas dataframe.\n",
    "        PARAMETERS\n",
    "        json_dict - The dictionary to process this function.\n",
    "        path - The path from the root level in the json dictionary\n",
    "            that is being processed.\n",
    "    \"\"\"\n",
    "\n",
    "    if present_path is None:\n",
    "        sub_dict = json_dict['data']\n",
    "        new_path = 'data/'\n",
    "        squad_df = extract_questions_only(sub_dict, new_path)\n",
    "    elif present_path == 'data/':\n",
    "        subpath_len = len(json_dict)\n",
    "        sub_paths = []\n",
    "        for i in range(subpath_len):\n",
    "            sub_paths.append(i)\n",
    "        return process_squad_sub_dict(json_dict, present_path, sub_paths)\n",
    "\n",
    "    return squad_df\n",
    "        "
   ]
  },
  {
   "cell_type": "code",
   "execution_count": 8,
   "id": "e73551bc-2afa-4040-8fae-2fdebbedc18d",
   "metadata": {},
   "outputs": [],
   "source": [
    "squad_df = extract_questions_only(squad_ds_json)"
   ]
  },
  {
   "cell_type": "code",
   "execution_count": null,
   "id": "e58653a2-7341-40fd-861a-0a2f731fea7d",
   "metadata": {},
   "outputs": [],
   "source": []
  }
 ],
 "metadata": {
  "kernelspec": {
   "display_name": "experimental-env",
   "language": "python",
   "name": "experimental-env"
  },
  "language_info": {
   "codemirror_mode": {
    "name": "ipython",
    "version": 3
   },
   "file_extension": ".py",
   "mimetype": "text/x-python",
   "name": "python",
   "nbconvert_exporter": "python",
   "pygments_lexer": "ipython3",
   "version": "3.10.12"
  }
 },
 "nbformat": 4,
 "nbformat_minor": 5
}
